{
 "cells": [
  {
   "cell_type": "markdown",
   "id": "43027ca4-7046-4304-8b46-d4ad73d558ce",
   "metadata": {},
   "source": [
    "# STUDY ON GUJARAT ELECTION\n",
    "                                                                                                                \n",
    "by Abhilash Ajay"
   ]
  },
  {
   "cell_type": "code",
   "execution_count": 1,
   "id": "a2d56e95-ec17-4bbb-ab61-e6ec13225837",
   "metadata": {},
   "outputs": [
    {
     "data": {
      "text/html": [
       "        <script type=\"text/javascript\">\n",
       "        window.PlotlyConfig = {MathJaxConfig: 'local'};\n",
       "        if (window.MathJax && window.MathJax.Hub && window.MathJax.Hub.Config) {window.MathJax.Hub.Config({SVG: {font: \"STIX-Web\"}});}\n",
       "        if (typeof require !== 'undefined') {\n",
       "        require.undef(\"plotly\");\n",
       "        requirejs.config({\n",
       "            paths: {\n",
       "                'plotly': ['https://cdn.plot.ly/plotly-2.14.0.min']\n",
       "            }\n",
       "        });\n",
       "        require(['plotly'], function(Plotly) {\n",
       "            window._Plotly = Plotly;\n",
       "        });\n",
       "        }\n",
       "        </script>\n",
       "        "
      ]
     },
     "metadata": {},
     "output_type": "display_data"
    }
   ],
   "source": [
    "import pandas as pd\n",
    "import numpy as np\n",
    "import seaborn as sns\n",
    "from sklearn import metrics\n",
    "from sklearn.model_selection import train_test_split\n",
    "from sklearn import linear_model\n",
    "import torch.nn as nn\n",
    "import torch.functional as F\n",
    "import plotly.express as px\n",
    "import plotly.graph_objects as go\n",
    "import matplotlib.pyplot as plt\n",
    "from plotly.subplots import make_subplots\n",
    "import cufflinks as cf\n",
    "cf.go_offline()\n",
    "%matplotlib inline"
   ]
  },
  {
   "cell_type": "markdown",
   "id": "7119b93c-6ad8-4f10-9d9b-257e74130a8d",
   "metadata": {},
   "source": [
    "# Data prep"
   ]
  },
  {
   "cell_type": "code",
   "execution_count": 2,
   "id": "f877c496-5a0d-47ca-a3f0-684295b5cc86",
   "metadata": {},
   "outputs": [],
   "source": [
    "df = pd.read_csv('GujAE.csv')"
   ]
  },
  {
   "cell_type": "code",
   "execution_count": 3,
   "id": "ec380d05-8e4b-41cc-92cc-8ec674cad561",
   "metadata": {},
   "outputs": [
    {
     "data": {
      "text/plain": [
       "Index(['Election_Type', 'State_Name', 'Assembly_No', 'Constituency_No', 'Year',\n",
       "       'month', 'Poll_No', 'DelimID', 'Position', 'Candidate', 'Sex', 'Party',\n",
       "       'Votes', 'Candidate_Type', 'Valid_Votes', 'Electors',\n",
       "       'Constituency_Name', 'Constituency_Type', 'Sub_Region', 'N_Cand',\n",
       "       'Turnout_Percentage', 'Vote_Share_Percentage', 'Deposit_Lost', 'Margin',\n",
       "       'Margin_Percentage', 'ENOP', 'pid', 'Party_Type_TCPD', 'Party_ID',\n",
       "       'last_poll', 'Contested', 'Last_Party', 'Last_Party_ID',\n",
       "       'Last_Constituency_Name', 'Same_Constituency', 'Same_Party', 'No_Terms',\n",
       "       'Turncoat', 'Incumbent', 'Recontest', 'Age', 'District_Name', 'PC_Name',\n",
       "       'PC_No', 'CandID', 'MyNeta_education', 'TCPD_Prof_Main',\n",
       "       'TCPD_Prof_Main_Desc', 'TCPD_Prof_Second', 'TCPD_Prof_Second_Desc'],\n",
       "      dtype='object')"
      ]
     },
     "execution_count": 3,
     "metadata": {},
     "output_type": "execute_result"
    }
   ],
   "source": [
    "df.columns"
   ]
  },
  {
   "cell_type": "code",
   "execution_count": 4,
   "id": "2fd94d09-ba94-4266-97bc-b7acc11f59b5",
   "metadata": {},
   "outputs": [],
   "source": [
    "df_2007 = df[df['Year']== 2007].copy()"
   ]
  },
  {
   "cell_type": "code",
   "execution_count": 5,
   "id": "b5a3b6d1-f3da-48d9-96f2-7b6e1a9ea7ae",
   "metadata": {},
   "outputs": [
    {
     "data": {
      "text/plain": [
       "0       137105\n",
       "1       137105\n",
       "2       137105\n",
       "3       137105\n",
       "4       137105\n",
       "         ...  \n",
       "1372    280982\n",
       "1373    280982\n",
       "1374    280982\n",
       "1375    280982\n",
       "1376    280982\n",
       "Name: Electors, Length: 1268, dtype: int64"
      ]
     },
     "execution_count": 5,
     "metadata": {},
     "output_type": "execute_result"
    }
   ],
   "source": [
    "df_2007['Electors']"
   ]
  },
  {
   "cell_type": "code",
   "execution_count": 6,
   "id": "fd955496-2cf5-4f8e-ac74-587a51a45e56",
   "metadata": {},
   "outputs": [
    {
     "data": {
      "text/plain": [
       "array([2007, 2009, 2010, 2011, 2012, 2014, 2013, 2016, 2017], dtype=int64)"
      ]
     },
     "execution_count": 6,
     "metadata": {},
     "output_type": "execute_result"
    }
   ],
   "source": [
    "df['Year'].unique()"
   ]
  },
  {
   "cell_type": "code",
   "execution_count": 7,
   "id": "cd777ee8-bd56-436f-a0c6-70748b6d0f23",
   "metadata": {},
   "outputs": [
    {
     "data": {
      "text/plain": [
       "array([  1,   2,   3,   4,   5,   6,   7,   8,   9,  10,  11,  12,  13,\n",
       "        14,  15,  16,  17,  18,  19,  20,  21,  22,  23,  24,  25,  26,\n",
       "        27,  28,  29,  30,  31,  32,  33,  34,  35,  36,  37,  38,  39,\n",
       "        40,  41,  42,  43,  44,  45,  46,  47,  48,  49,  50,  51,  52,\n",
       "        53,  54,  55,  56,  57,  58,  59,  60,  61,  62,  63,  64,  65,\n",
       "        66,  67,  68,  69,  70,  71,  72,  73,  74,  75,  76,  77,  78,\n",
       "        79,  80,  81,  82,  83,  84,  85,  86,  87,  88,  89,  90,  91,\n",
       "        92,  93,  94,  95,  96,  97,  98,  99, 100, 101, 102, 103, 104,\n",
       "       105, 106, 107, 108, 109, 110, 111, 112, 113, 114, 115, 116, 117,\n",
       "       118, 119, 120, 121, 122, 123, 124, 125, 126, 127, 128, 129, 130,\n",
       "       131, 132, 133, 134, 135, 136, 137, 138, 139, 140, 141, 142, 143,\n",
       "       144, 145, 146, 147, 148, 149, 150, 151, 152, 153, 154, 155, 156,\n",
       "       157, 158, 159, 160, 161, 162, 163, 164, 165, 166, 167, 168, 169,\n",
       "       170, 171, 172, 173, 174, 175, 176, 177, 178, 179, 180, 181, 182],\n",
       "      dtype=int64)"
      ]
     },
     "execution_count": 7,
     "metadata": {},
     "output_type": "execute_result"
    }
   ],
   "source": [
    "df['Constituency_No'].unique()"
   ]
  },
  {
   "cell_type": "code",
   "execution_count": 8,
   "id": "fb64d4f0-ee71-48ec-9942-d25a5f6074e1",
   "metadata": {},
   "outputs": [
    {
     "data": {
      "text/plain": [
       "array([  1,   2,   3,   4,   5,   6,   7,   8,   9,  10,  11,  12,  13,\n",
       "        14,  15,  16,  17,  18,  19,  20,  21,  22,  23,  24,  25,  26,\n",
       "        27,  28,  29,  30,  31,  32,  33,  34,  35,  36,  37,  38,  39,\n",
       "        40,  41,  42,  43,  44,  45,  46,  47,  48,  49,  50,  51,  52,\n",
       "        53,  54,  55,  56,  57,  58,  59,  60,  61,  62,  63,  64,  65,\n",
       "        66,  67,  68,  69,  70,  71,  72,  73,  74,  75,  76,  77,  78,\n",
       "        79,  80,  81,  82,  83,  84,  85,  86,  87,  88,  89,  90,  91,\n",
       "        92,  93,  94,  95,  96,  97,  98,  99, 100, 101, 102, 103, 104,\n",
       "       105, 106, 107, 108, 109, 110, 111, 112, 113, 114, 115, 116, 117,\n",
       "       118, 119, 120, 121, 122, 123, 124, 125, 126, 127, 128, 129, 130,\n",
       "       131, 132, 133, 134, 135, 136, 137, 138, 139, 140, 141, 142, 143,\n",
       "       144, 145, 146, 147, 148, 149, 150, 151, 152, 153, 154, 155, 156,\n",
       "       157, 158, 159, 160, 161, 162, 163, 164, 165, 166, 167, 168, 169,\n",
       "       170, 171, 172, 173, 174, 175, 176, 177, 178, 179, 180, 181, 182],\n",
       "      dtype=int64)"
      ]
     },
     "execution_count": 8,
     "metadata": {},
     "output_type": "execute_result"
    }
   ],
   "source": [
    "df_2007['Constituency_No'].unique()"
   ]
  },
  {
   "cell_type": "code",
   "execution_count": 9,
   "id": "ffb982ac-d4c3-484a-8a45-aac99895007e",
   "metadata": {},
   "outputs": [
    {
     "data": {
      "text/plain": [
       "178"
      ]
     },
     "execution_count": 9,
     "metadata": {},
     "output_type": "execute_result"
    }
   ],
   "source": [
    "df_2007['Constituency_Name'].nunique()"
   ]
  },
  {
   "cell_type": "code",
   "execution_count": 10,
   "id": "2bf2f113-a040-45c1-af6f-2bbdfa64b460",
   "metadata": {},
   "outputs": [
    {
     "data": {
      "text/plain": [
       "233"
      ]
     },
     "execution_count": 10,
     "metadata": {},
     "output_type": "execute_result"
    }
   ],
   "source": [
    "len(df['Constituency_Name'].unique())"
   ]
  },
  {
   "cell_type": "code",
   "execution_count": 11,
   "id": "66caeabb-f64c-418d-82fb-85639fcf127a",
   "metadata": {},
   "outputs": [],
   "source": [
    "df_2012 = df[df['Year'] == 2012].copy()"
   ]
  },
  {
   "cell_type": "code",
   "execution_count": 12,
   "id": "8a9eafd4-83ad-42a5-8630-6fe6e7abc051",
   "metadata": {},
   "outputs": [
    {
     "data": {
      "text/plain": [
       "176"
      ]
     },
     "execution_count": 12,
     "metadata": {},
     "output_type": "execute_result"
    }
   ],
   "source": [
    "df_2012['Constituency_Name'].nunique()"
   ]
  },
  {
   "cell_type": "code",
   "execution_count": 13,
   "id": "0395d6d6-cd4e-49e8-a1f8-a16bb00accb9",
   "metadata": {},
   "outputs": [],
   "source": [
    "df_2017 = df[df['Year'] == 2017].copy()"
   ]
  },
  {
   "cell_type": "code",
   "execution_count": 14,
   "id": "f0e7a46d-a474-4b47-bf30-99930aa323f1",
   "metadata": {},
   "outputs": [
    {
     "data": {
      "text/plain": [
       "array(['ABDASA', 'MANDVI', 'BHUJ', 'ANJAR', 'GANDHIDHAM', 'RAPAR', 'VAV',\n",
       "       'THARAD', 'DHANERA', 'DANTA', 'VADGAM', 'PALANPUR', 'DEESA',\n",
       "       'DEODAR', 'KANKREJ', 'RADHANPUR', 'CHANASMA', 'PATAN', 'SIDHPUR',\n",
       "       'KHERALU', 'UNJHA', 'VISNAGAR', 'BECHARAJI', 'KADI', 'MEHSANA',\n",
       "       'VIJAPUR', 'HIMATNAGAR', 'IDAR', 'KHEDBRAHMA', 'BHILODA', 'MODASA',\n",
       "       'BAYAD', 'PRANTIJ', 'DEHGAM', 'GANDHINAGAR SOUTH',\n",
       "       'GANDHINAGAR NORTH', 'MANSA', 'KALOL', 'VIRAMGAM', 'SANAND',\n",
       "       'GHATLODIA', 'VEJALPUR', 'VATVA', 'ELLIS BRIDGE', 'NARANPURA',\n",
       "       'NIKOL', 'NARODA', 'THAKKARBAPA NAGAR', 'BAPUNAGAR', 'AMRAIWADI',\n",
       "       'DARIAPUR', 'JAMALPUR-KHADIA', 'MANINAGAR', 'DANILIMDA',\n",
       "       'SABARMATI', 'ASARWA', 'DASKROI', 'DHOLKA', 'DHANDHUKA', 'DASADA',\n",
       "       'LIMBDI', 'WADHWAN', 'CHOTILA', 'DHRANGADHRA', 'MORVI', 'TANKARA',\n",
       "       'WANKANER', 'RAJKOT EAST', 'RAJKOT WEST', 'RAJKOT SOUTH',\n",
       "       'RAJKOT RURAL', 'JASDAN', 'GONDAL', 'JETPUR', 'DHORAJI', 'KALAWAD',\n",
       "       'JAMNAGAR RURAL', 'JAMNAGAR NORTH', 'JAMNAGAR SOUTH', 'JAMJODHPUR',\n",
       "       'KHAMBHALIA', 'DWARKA', 'PORBANDAR', 'KUTIYANA', 'MANAVADAR',\n",
       "       'JUNAGADH', 'VISAVADAR', 'KESHOD', 'MANGROL', 'SOMNATH', 'TALALA',\n",
       "       'KODINAR', 'UNA', 'DHARI', 'AMRELI', 'LATHI', 'SAVARKUNDLA',\n",
       "       'RAJULA', 'MAHUVA', 'TALAJA', 'GARIADHAR', 'PALITANA',\n",
       "       'BHAVNAGAR RURAL', 'BHAVNAGAR EAST', 'BHAVNAGAR WEST', 'GADHADA',\n",
       "       'BOTAD', 'KHAMBHAT', 'BORSAD', 'ANKLAV', 'UMRETH', 'ANAND',\n",
       "       'PETLAD', 'SOJITRA', 'MATAR', 'NADIAD', 'MEHEMDABAD', 'MAHUDHA',\n",
       "       'THASRA', 'KAPADWANJ', 'BALASINOR', 'LUNAWADA', 'SANTRAMPUR',\n",
       "       'SHEHRA', 'MORVA HADAF', 'GODHRA', 'HALOL', 'FATEPURA', 'JHALOD',\n",
       "       'LIMKHEDA', 'DAHOD', 'GARBADA', 'DEVGADH BARIA', 'SAVLI',\n",
       "       'VAGHODIA', 'CHHOTA UDAIPUR', 'SANKHEDA', 'DABHOI',\n",
       "       'VADODARA CITY', 'SAYAJIGANJ', 'AKOTA', 'RAOPURA', 'MANJALPUR',\n",
       "       'PADRA', 'KARANJ', 'NANDOD', 'DEDIAPADA', 'JAMBUSAR', 'VAGRA',\n",
       "       'JHAGADIA', 'BHARUCH', 'ANKLESHWAR', 'OLPAD', 'KAMREJ',\n",
       "       'SURAT EAST', 'SURAT NORTH', 'VARACHHA ROAD', 'LIMBAYAT', 'UDHNA',\n",
       "       'MAJURA', 'KATARGAM', 'SURAT WEST', 'CHORASI', 'BARDOLI', 'VYARA',\n",
       "       'NIZAR', 'DANGS', 'JALALPORE', 'NAVSARI', 'GANDEVI', 'VANSDA',\n",
       "       'DHARAMPUR', 'VALSAD', 'PARDI', 'KAPRADA', 'UMBERGAON'],\n",
       "      dtype=object)"
      ]
     },
     "execution_count": 14,
     "metadata": {},
     "output_type": "execute_result"
    }
   ],
   "source": [
    "df_2017['Constituency_Name'].unique()"
   ]
  },
  {
   "cell_type": "code",
   "execution_count": 15,
   "id": "ccd25696-0906-40da-9f03-f44bd9158d6d",
   "metadata": {},
   "outputs": [
    {
     "data": {
      "text/plain": [
       "182"
      ]
     },
     "execution_count": 15,
     "metadata": {},
     "output_type": "execute_result"
    }
   ],
   "source": [
    "df_2017['Constituency_No'].nunique()"
   ]
  },
  {
   "cell_type": "code",
   "execution_count": 16,
   "id": "1f9b5d2b-4619-4a66-81ce-1a640310252e",
   "metadata": {},
   "outputs": [
    {
     "data": {
      "text/html": [
       "<div>\n",
       "<style scoped>\n",
       "    .dataframe tbody tr th:only-of-type {\n",
       "        vertical-align: middle;\n",
       "    }\n",
       "\n",
       "    .dataframe tbody tr th {\n",
       "        vertical-align: top;\n",
       "    }\n",
       "\n",
       "    .dataframe thead th {\n",
       "        text-align: right;\n",
       "    }\n",
       "</style>\n",
       "<table border=\"1\" class=\"dataframe\">\n",
       "  <thead>\n",
       "    <tr style=\"text-align: right;\">\n",
       "      <th></th>\n",
       "      <th>Election_Type</th>\n",
       "      <th>State_Name</th>\n",
       "      <th>Assembly_No</th>\n",
       "      <th>Constituency_No</th>\n",
       "      <th>Year</th>\n",
       "      <th>month</th>\n",
       "      <th>Poll_No</th>\n",
       "      <th>DelimID</th>\n",
       "      <th>Position</th>\n",
       "      <th>Candidate</th>\n",
       "      <th>...</th>\n",
       "      <th>Age</th>\n",
       "      <th>District_Name</th>\n",
       "      <th>PC_Name</th>\n",
       "      <th>PC_No</th>\n",
       "      <th>CandID</th>\n",
       "      <th>MyNeta_education</th>\n",
       "      <th>TCPD_Prof_Main</th>\n",
       "      <th>TCPD_Prof_Main_Desc</th>\n",
       "      <th>TCPD_Prof_Second</th>\n",
       "      <th>TCPD_Prof_Second_Desc</th>\n",
       "    </tr>\n",
       "  </thead>\n",
       "  <tbody>\n",
       "  </tbody>\n",
       "</table>\n",
       "<p>0 rows × 50 columns</p>\n",
       "</div>"
      ],
      "text/plain": [
       "Empty DataFrame\n",
       "Columns: [Election_Type, State_Name, Assembly_No, Constituency_No, Year, month, Poll_No, DelimID, Position, Candidate, Sex, Party, Votes, Candidate_Type, Valid_Votes, Electors, Constituency_Name, Constituency_Type, Sub_Region, N_Cand, Turnout_Percentage, Vote_Share_Percentage, Deposit_Lost, Margin, Margin_Percentage, ENOP, pid, Party_Type_TCPD, Party_ID, last_poll, Contested, Last_Party, Last_Party_ID, Last_Constituency_Name, Same_Constituency, Same_Party, No_Terms, Turncoat, Incumbent, Recontest, Age, District_Name, PC_Name, PC_No, CandID, MyNeta_education, TCPD_Prof_Main, TCPD_Prof_Main_Desc, TCPD_Prof_Second, TCPD_Prof_Second_Desc]\n",
       "Index: []\n",
       "\n",
       "[0 rows x 50 columns]"
      ]
     },
     "execution_count": 16,
     "metadata": {},
     "output_type": "execute_result"
    }
   ],
   "source": [
    "df_2017[df_2017['Constituency_Name']=='']"
   ]
  },
  {
   "cell_type": "code",
   "execution_count": 17,
   "id": "964d521a-6916-479c-a027-fefa5e759519",
   "metadata": {},
   "outputs": [
    {
     "data": {
      "text/plain": [
       "Election_Type                0\n",
       "State_Name                   0\n",
       "Assembly_No                  0\n",
       "Constituency_No              0\n",
       "Year                         0\n",
       "month                        0\n",
       "Poll_No                      0\n",
       "DelimID                      0\n",
       "Position                     0\n",
       "Candidate                    0\n",
       "Sex                        182\n",
       "Party                        0\n",
       "Votes                        0\n",
       "Candidate_Type             182\n",
       "Valid_Votes                  0\n",
       "Electors                     0\n",
       "Constituency_Name            0\n",
       "Constituency_Type            0\n",
       "Sub_Region                   0\n",
       "N_Cand                       0\n",
       "Turnout_Percentage           0\n",
       "Vote_Share_Percentage        0\n",
       "Deposit_Lost                 0\n",
       "Margin                       0\n",
       "Margin_Percentage            0\n",
       "ENOP                         0\n",
       "pid                        182\n",
       "Party_Type_TCPD           2010\n",
       "Party_ID                     0\n",
       "last_poll                    0\n",
       "Contested                  182\n",
       "Last_Party                1634\n",
       "Last_Party_ID             1453\n",
       "Last_Constituency_Name    1634\n",
       "Same_Constituency         1634\n",
       "Same_Party                1634\n",
       "No_Terms                   182\n",
       "Turncoat                   182\n",
       "Incumbent                    0\n",
       "Recontest                    0\n",
       "Age                        182\n",
       "District_Name                0\n",
       "PC_Name                   2010\n",
       "PC_No                     2010\n",
       "CandID                    2010\n",
       "MyNeta_education           553\n",
       "TCPD_Prof_Main             553\n",
       "TCPD_Prof_Main_Desc       1669\n",
       "TCPD_Prof_Second          1770\n",
       "TCPD_Prof_Second_Desc     1999\n",
       "dtype: int64"
      ]
     },
     "execution_count": 17,
     "metadata": {},
     "output_type": "execute_result"
    }
   ],
   "source": [
    "df_2017.isnull().sum()"
   ]
  },
  {
   "cell_type": "code",
   "execution_count": 18,
   "id": "acd573ad-5351-4f12-b0cd-9d92e05e2804",
   "metadata": {},
   "outputs": [
    {
     "data": {
      "text/plain": [
       "176"
      ]
     },
     "execution_count": 18,
     "metadata": {},
     "output_type": "execute_result"
    }
   ],
   "source": [
    "df_2012['Constituency_Name'].nunique()"
   ]
  },
  {
   "cell_type": "code",
   "execution_count": 19,
   "id": "8846c5eb-b159-4f6f-9e3f-f0bba7fe99fe",
   "metadata": {},
   "outputs": [
    {
     "data": {
      "text/plain": [
       "176"
      ]
     },
     "execution_count": 19,
     "metadata": {},
     "output_type": "execute_result"
    }
   ],
   "source": [
    "df_2017['Constituency_Name'].nunique()"
   ]
  },
  {
   "cell_type": "code",
   "execution_count": 20,
   "id": "93cc783c-7056-4ecf-9b99-ea8487d5fe66",
   "metadata": {},
   "outputs": [
    {
     "data": {
      "text/plain": [
       "178"
      ]
     },
     "execution_count": 20,
     "metadata": {},
     "output_type": "execute_result"
    }
   ],
   "source": [
    "df_2007['Constituency_Name'].nunique()"
   ]
  },
  {
   "cell_type": "code",
   "execution_count": 21,
   "id": "860f6e12-d75b-431d-aca8-e2b3b489f3f4",
   "metadata": {},
   "outputs": [],
   "source": [
    "df_2009 = df[df['Year'] == 2009].copy()\n",
    "df_2010 = df[df['Year'] == 2010].copy()\n",
    "df_2011 = df[df['Year'] == 2011].copy()\n",
    "df_2013 = df[df['Year'] == 2013].copy()\n",
    "df_2014 = df[df['Year'] == 2014].copy()\n",
    "df_2016 = df[df['Year'] == 2016].copy()"
   ]
  },
  {
   "cell_type": "markdown",
   "id": "a44b5aa0-ced6-48f2-8d0a-54a1f8cfe51f",
   "metadata": {},
   "source": [
    "# DataFrame with Only Winning Candidates"
   ]
  },
  {
   "cell_type": "code",
   "execution_count": 272,
   "id": "cc4429f1-201d-4d08-801c-206e2b423e76",
   "metadata": {},
   "outputs": [],
   "source": [
    "df_2007_winners = df_2007[df_2007['Position'] == 1]"
   ]
  },
  {
   "cell_type": "code",
   "execution_count": 273,
   "id": "2bc0acdd-c4e5-4f80-8638-c4e979039c28",
   "metadata": {},
   "outputs": [],
   "source": [
    "df_2012_winners = df_2012[df_2012['Position'] == 1]"
   ]
  },
  {
   "cell_type": "code",
   "execution_count": 274,
   "id": "260cf019-a20d-497e-bcc5-f619040bb6ab",
   "metadata": {},
   "outputs": [],
   "source": [
    "df_2017_winners = df_2017[df_2017['Position'] == 1]"
   ]
  },
  {
   "cell_type": "code",
   "execution_count": 275,
   "id": "8c4dc8da-7f49-43fc-84bf-74f4c42a67cc",
   "metadata": {},
   "outputs": [
    {
     "data": {
      "text/plain": [
       "182"
      ]
     },
     "execution_count": 275,
     "metadata": {},
     "output_type": "execute_result"
    }
   ],
   "source": [
    "len(df_2007_winners)"
   ]
  },
  {
   "cell_type": "code",
   "execution_count": 25,
   "id": "3bed5dd6-c3c4-45bf-af93-9421900fab1e",
   "metadata": {},
   "outputs": [],
   "source": [
    "df_2009_winners = df_2009[df_2009['Position'] == 1]\n",
    "df_2010_winners = df_2010[df_2010['Position'] == 1]\n",
    "df_2011_winners = df_2011[df_2011['Position'] == 1]\n",
    "df_2013_winners = df_2013[df_2013['Position'] == 1]\n",
    "df_2014_winners = df_2014[df_2014['Position'] == 1]\n",
    "df_2016_winners = df_2016[df_2016['Position'] == 1]"
   ]
  },
  {
   "cell_type": "code",
   "execution_count": 26,
   "id": "f1b46776-f208-40b0-b788-0da2d149eae8",
   "metadata": {},
   "outputs": [
    {
     "data": {
      "text/html": [
       "<div>\n",
       "<style scoped>\n",
       "    .dataframe tbody tr th:only-of-type {\n",
       "        vertical-align: middle;\n",
       "    }\n",
       "\n",
       "    .dataframe tbody tr th {\n",
       "        vertical-align: top;\n",
       "    }\n",
       "\n",
       "    .dataframe thead th {\n",
       "        text-align: right;\n",
       "    }\n",
       "</style>\n",
       "<table border=\"1\" class=\"dataframe\">\n",
       "  <thead>\n",
       "    <tr style=\"text-align: right;\">\n",
       "      <th></th>\n",
       "      <th>Election_Type</th>\n",
       "      <th>State_Name</th>\n",
       "      <th>Assembly_No</th>\n",
       "      <th>Constituency_No</th>\n",
       "      <th>Year</th>\n",
       "      <th>month</th>\n",
       "      <th>Poll_No</th>\n",
       "      <th>DelimID</th>\n",
       "      <th>Position</th>\n",
       "      <th>Candidate</th>\n",
       "      <th>...</th>\n",
       "      <th>Age</th>\n",
       "      <th>District_Name</th>\n",
       "      <th>PC_Name</th>\n",
       "      <th>PC_No</th>\n",
       "      <th>CandID</th>\n",
       "      <th>MyNeta_education</th>\n",
       "      <th>TCPD_Prof_Main</th>\n",
       "      <th>TCPD_Prof_Main_Desc</th>\n",
       "      <th>TCPD_Prof_Second</th>\n",
       "      <th>TCPD_Prof_Second_Desc</th>\n",
       "    </tr>\n",
       "  </thead>\n",
       "  <tbody>\n",
       "    <tr>\n",
       "      <th>2404</th>\n",
       "      <td>AE</td>\n",
       "      <td>Gujarat</td>\n",
       "      <td>12</td>\n",
       "      <td>91</td>\n",
       "      <td>2016</td>\n",
       "      <td>12</td>\n",
       "      <td>1</td>\n",
       "      <td>4</td>\n",
       "      <td>1</td>\n",
       "      <td>Govind Bhai Varjang Bhai Parmar</td>\n",
       "      <td>...</td>\n",
       "      <td>NaN</td>\n",
       "      <td>Gir Somnath</td>\n",
       "      <td>NaN</td>\n",
       "      <td>NaN</td>\n",
       "      <td>NaN</td>\n",
       "      <td>NaN</td>\n",
       "      <td>NaN</td>\n",
       "      <td>NaN</td>\n",
       "      <td>NaN</td>\n",
       "      <td>NaN</td>\n",
       "    </tr>\n",
       "    <tr>\n",
       "      <th>3116</th>\n",
       "      <td>AE</td>\n",
       "      <td>Gujarat</td>\n",
       "      <td>12</td>\n",
       "      <td>168</td>\n",
       "      <td>2016</td>\n",
       "      <td>12</td>\n",
       "      <td>1</td>\n",
       "      <td>4</td>\n",
       "      <td>1</td>\n",
       "      <td>Zankhana HiteshKumar Patel (Rajabbhai)</td>\n",
       "      <td>...</td>\n",
       "      <td>NaN</td>\n",
       "      <td>Surat</td>\n",
       "      <td>NaN</td>\n",
       "      <td>NaN</td>\n",
       "      <td>NaN</td>\n",
       "      <td>NaN</td>\n",
       "      <td>NaN</td>\n",
       "      <td>NaN</td>\n",
       "      <td>NaN</td>\n",
       "      <td>NaN</td>\n",
       "    </tr>\n",
       "  </tbody>\n",
       "</table>\n",
       "<p>2 rows × 50 columns</p>\n",
       "</div>"
      ],
      "text/plain": [
       "     Election_Type State_Name  Assembly_No  Constituency_No  Year  month  \\\n",
       "2404            AE    Gujarat           12               91  2016     12   \n",
       "3116            AE    Gujarat           12              168  2016     12   \n",
       "\n",
       "      Poll_No  DelimID  Position                               Candidate  ...  \\\n",
       "2404        1        4         1         Govind Bhai Varjang Bhai Parmar  ...   \n",
       "3116        1        4         1  Zankhana HiteshKumar Patel (Rajabbhai)  ...   \n",
       "\n",
       "     Age District_Name  PC_Name PC_No  CandID  MyNeta_education  \\\n",
       "2404 NaN   Gir Somnath      NaN   NaN     NaN               NaN   \n",
       "3116 NaN         Surat      NaN   NaN     NaN               NaN   \n",
       "\n",
       "     TCPD_Prof_Main TCPD_Prof_Main_Desc TCPD_Prof_Second  \\\n",
       "2404            NaN                 NaN              NaN   \n",
       "3116            NaN                 NaN              NaN   \n",
       "\n",
       "      TCPD_Prof_Second_Desc  \n",
       "2404                    NaN  \n",
       "3116                    NaN  \n",
       "\n",
       "[2 rows x 50 columns]"
      ]
     },
     "execution_count": 26,
     "metadata": {},
     "output_type": "execute_result"
    }
   ],
   "source": [
    "df_2016_winners"
   ]
  },
  {
   "cell_type": "code",
   "execution_count": 27,
   "id": "ca05526e-dcdf-4b5b-8488-a3efa598a8b1",
   "metadata": {},
   "outputs": [
    {
     "data": {
      "text/plain": [
       "Election_Type              object\n",
       "State_Name                 object\n",
       "Assembly_No                 int64\n",
       "Constituency_No             int64\n",
       "Year                        int64\n",
       "month                       int64\n",
       "Poll_No                     int64\n",
       "DelimID                     int64\n",
       "Position                    int64\n",
       "Candidate                  object\n",
       "Sex                        object\n",
       "Party                      object\n",
       "Votes                       int64\n",
       "Candidate_Type             object\n",
       "Valid_Votes                 int64\n",
       "Electors                    int64\n",
       "Constituency_Name          object\n",
       "Constituency_Type          object\n",
       "Sub_Region                 object\n",
       "N_Cand                      int64\n",
       "Turnout_Percentage        float64\n",
       "Vote_Share_Percentage     float64\n",
       "Deposit_Lost               object\n",
       "Margin                      int64\n",
       "Margin_Percentage         float64\n",
       "ENOP                      float64\n",
       "pid                        object\n",
       "Party_Type_TCPD           float64\n",
       "Party_ID                    int64\n",
       "last_poll                    bool\n",
       "Contested                 float64\n",
       "Last_Party                 object\n",
       "Last_Party_ID             float64\n",
       "Last_Constituency_Name     object\n",
       "Same_Constituency          object\n",
       "Same_Party                 object\n",
       "No_Terms                  float64\n",
       "Turncoat                   object\n",
       "Incumbent                    bool\n",
       "Recontest                    bool\n",
       "Age                       float64\n",
       "District_Name              object\n",
       "PC_Name                   float64\n",
       "PC_No                     float64\n",
       "CandID                    float64\n",
       "MyNeta_education           object\n",
       "TCPD_Prof_Main             object\n",
       "TCPD_Prof_Main_Desc        object\n",
       "TCPD_Prof_Second           object\n",
       "TCPD_Prof_Second_Desc      object\n",
       "dtype: object"
      ]
     },
     "execution_count": 27,
     "metadata": {},
     "output_type": "execute_result"
    }
   ],
   "source": [
    "df.dtypes"
   ]
  },
  {
   "cell_type": "markdown",
   "id": "f79feacc-11da-4a7f-938d-ecb53c16b332",
   "metadata": {},
   "source": [
    "# District and Constituency Level Analysis"
   ]
  },
  {
   "cell_type": "code",
   "execution_count": 47,
   "id": "68c889ce-2991-42c5-923d-d9df11953688",
   "metadata": {},
   "outputs": [],
   "source": [
    "st_con_vt = df_2017[['Constituency_Type','Constituency_No','Constituency_Name', 'Electors']]"
   ]
  },
  {
   "cell_type": "code",
   "execution_count": 48,
   "id": "125df9da-04e1-4a5e-8eff-bf04dc1b9326",
   "metadata": {},
   "outputs": [
    {
     "data": {
      "text/html": [
       "<div>\n",
       "<style scoped>\n",
       "    .dataframe tbody tr th:only-of-type {\n",
       "        vertical-align: middle;\n",
       "    }\n",
       "\n",
       "    .dataframe tbody tr th {\n",
       "        vertical-align: top;\n",
       "    }\n",
       "\n",
       "    .dataframe thead th {\n",
       "        text-align: right;\n",
       "    }\n",
       "</style>\n",
       "<table border=\"1\" class=\"dataframe\">\n",
       "  <thead>\n",
       "    <tr style=\"text-align: right;\">\n",
       "      <th></th>\n",
       "      <th>Constituency_Type</th>\n",
       "      <th>Constituency_No</th>\n",
       "      <th>Constituency_Name</th>\n",
       "      <th>Electors</th>\n",
       "    </tr>\n",
       "  </thead>\n",
       "  <tbody>\n",
       "    <tr>\n",
       "      <th>3242</th>\n",
       "      <td>GEN</td>\n",
       "      <td>1</td>\n",
       "      <td>ABDASA</td>\n",
       "      <td>223705</td>\n",
       "    </tr>\n",
       "    <tr>\n",
       "      <th>3243</th>\n",
       "      <td>GEN</td>\n",
       "      <td>1</td>\n",
       "      <td>ABDASA</td>\n",
       "      <td>223705</td>\n",
       "    </tr>\n",
       "    <tr>\n",
       "      <th>3244</th>\n",
       "      <td>GEN</td>\n",
       "      <td>1</td>\n",
       "      <td>ABDASA</td>\n",
       "      <td>223705</td>\n",
       "    </tr>\n",
       "    <tr>\n",
       "      <th>3245</th>\n",
       "      <td>GEN</td>\n",
       "      <td>1</td>\n",
       "      <td>ABDASA</td>\n",
       "      <td>223705</td>\n",
       "    </tr>\n",
       "    <tr>\n",
       "      <th>3246</th>\n",
       "      <td>GEN</td>\n",
       "      <td>1</td>\n",
       "      <td>ABDASA</td>\n",
       "      <td>223705</td>\n",
       "    </tr>\n",
       "    <tr>\n",
       "      <th>...</th>\n",
       "      <td>...</td>\n",
       "      <td>...</td>\n",
       "      <td>...</td>\n",
       "      <td>...</td>\n",
       "    </tr>\n",
       "    <tr>\n",
       "      <th>5247</th>\n",
       "      <td>ST</td>\n",
       "      <td>182</td>\n",
       "      <td>UMBERGAON</td>\n",
       "      <td>244481</td>\n",
       "    </tr>\n",
       "    <tr>\n",
       "      <th>5248</th>\n",
       "      <td>ST</td>\n",
       "      <td>182</td>\n",
       "      <td>UMBERGAON</td>\n",
       "      <td>244481</td>\n",
       "    </tr>\n",
       "    <tr>\n",
       "      <th>5249</th>\n",
       "      <td>ST</td>\n",
       "      <td>182</td>\n",
       "      <td>UMBERGAON</td>\n",
       "      <td>244481</td>\n",
       "    </tr>\n",
       "    <tr>\n",
       "      <th>5250</th>\n",
       "      <td>ST</td>\n",
       "      <td>182</td>\n",
       "      <td>UMBERGAON</td>\n",
       "      <td>244481</td>\n",
       "    </tr>\n",
       "    <tr>\n",
       "      <th>5251</th>\n",
       "      <td>ST</td>\n",
       "      <td>182</td>\n",
       "      <td>UMBERGAON</td>\n",
       "      <td>244481</td>\n",
       "    </tr>\n",
       "  </tbody>\n",
       "</table>\n",
       "<p>2010 rows × 4 columns</p>\n",
       "</div>"
      ],
      "text/plain": [
       "     Constituency_Type  Constituency_No Constituency_Name  Electors\n",
       "3242               GEN                1            ABDASA    223705\n",
       "3243               GEN                1            ABDASA    223705\n",
       "3244               GEN                1            ABDASA    223705\n",
       "3245               GEN                1            ABDASA    223705\n",
       "3246               GEN                1            ABDASA    223705\n",
       "...                ...              ...               ...       ...\n",
       "5247                ST              182         UMBERGAON    244481\n",
       "5248                ST              182         UMBERGAON    244481\n",
       "5249                ST              182         UMBERGAON    244481\n",
       "5250                ST              182         UMBERGAON    244481\n",
       "5251                ST              182         UMBERGAON    244481\n",
       "\n",
       "[2010 rows x 4 columns]"
      ]
     },
     "execution_count": 48,
     "metadata": {},
     "output_type": "execute_result"
    }
   ],
   "source": [
    "st_con_vt"
   ]
  },
  {
   "cell_type": "code",
   "execution_count": 76,
   "id": "2b0933fc-4b44-4b22-8b73-8c11ac4eb788",
   "metadata": {},
   "outputs": [
    {
     "data": {
      "application/vnd.plotly.v1+json": {
       "config": {
        "plotlyServerURL": "https://plot.ly"
       },
       "data": [
        {
         "branchvalues": "total",
         "customdata": [
          [
           223705
          ],
          [
           247684
          ],
          [
           268178
          ],
          [
           268018
          ],
          [
           283076
          ],
          [
           229493
          ],
          [
           204377
          ],
          [
           221026
          ],
          [
           202480
          ],
          [
           258779
          ],
          [
           189544
          ],
          [
           225415
          ],
          [
           222995
          ],
          [
           232991
          ],
          [
           255307
          ],
          [
           243497
          ],
          [
           258467
          ],
          [
           241785
          ],
          [
           279520
          ],
          [
           255823
          ],
          [
           241934
          ],
          [
           259693
          ],
          [
           259326
          ],
          [
           241734
          ],
          [
           416937
          ],
          [
           230427
          ],
          [
           201849
          ],
          [
           235444
          ],
          [
           166434
          ],
          [
           230660
          ],
          [
           218921
          ],
          [
           195560
          ],
          [
           237396
          ],
          [
           311407
          ],
          [
           193479
          ],
          [
           250769
          ],
          [
           201363
          ],
          [
           215351
          ],
          [
           222319
          ],
          [
           245361
          ],
          [
           228944
          ],
          [
           226284
          ],
          [
           211845
          ],
          [
           230867
          ],
          [
           250456
          ],
          [
           276586
          ],
          [
           262130
          ],
          [
           244120
          ],
          [
           210605
          ],
          [
           241794
          ],
          [
           270762
          ],
          [
           277693
          ],
          [
           232375
          ],
          [
           304951
          ],
          [
           233693
          ],
          [
           203674
          ],
          [
           352316
          ],
          [
           252334
          ],
          [
           213031
          ],
          [
           249159
          ],
          [
           252984
          ],
          [
           259577
          ],
          [
           216276
          ],
          [
           198167
          ],
          [
           222493
          ],
          [
           205126
          ],
          [
           218669
          ],
          [
           223389
          ],
          [
           206526
          ],
          [
           228733
          ],
          [
           253374
          ],
          [
           244807
          ],
          [
           232261
          ],
          [
           224327
          ],
          [
           256249
          ],
          [
           257199
          ],
          [
           215045
          ],
          [
           227763.8651266214
          ],
          [
           428695
          ],
          [
           252145
          ],
          [
           272603
          ],
          [
           232224
          ],
          [
           179412.4936119874
          ],
          [
           277537
          ],
          [
           224971
          ],
          [
           264679
          ],
          [
           213649
          ],
          [
           235372
          ],
          [
           200677
          ],
          [
           207118
          ],
          [
           199185
          ],
          [
           209433
          ],
          [
           259898
          ],
          [
           259625
          ],
          [
           187245
          ],
          [
           260663
          ],
          [
           223837
          ],
          [
           208927
          ],
          [
           214604
          ],
          [
           245036
          ],
          [
           234634
          ],
          [
           224902
          ],
          [
           225955
          ],
          [
           206117
          ],
          [
           200756
          ],
          [
           251391
          ],
          [
           232610
          ],
          [
           212778
          ],
          [
           226255
          ],
          [
           226423
          ],
          [
           259354
          ],
          [
           245561
          ],
          [
           199633
          ],
          [
           255971
          ],
          [
           248486
          ],
          [
           220146
          ],
          [
           229801
          ],
          [
           264012
          ],
          [
           228768
          ],
          [
           231378
          ],
          [
           254633
          ],
          [
           359732
          ],
          [
           215108
          ],
          [
           251161
          ],
          [
           249697
          ],
          [
           220845
          ],
          [
           271973
          ],
          [
           218779
          ],
          [
           237843
          ],
          [
           237000
          ],
          [
           258949
          ],
          [
           259971
          ],
          [
           300047
          ],
          [
           242482
          ],
          [
           316665
          ],
          [
           246783
          ],
          [
           273393
          ],
          [
           216390
          ],
          [
           253511
          ],
          [
           243451
          ],
          [
           253661
          ],
          [
           208541
          ],
          [
           238315
          ],
          [
           211847
          ],
          [
           273164
          ],
          [
           233113
          ],
          [
           238120
          ],
          [
           199405
          ],
          [
           234979
          ],
          [
           201329
          ],
          [
           157250
          ],
          [
           222036
          ],
          [
           221907
          ],
          [
           208081
          ],
          [
           224521
          ],
          [
           223154
          ],
          [
           209183
          ],
          [
           250156
          ],
          [
           233592
          ],
          [
           244481
          ],
          [
           247144
          ],
          [
           233334
          ],
          [
           213123
          ],
          [
           260711
          ],
          [
           274380
          ],
          [
           222056
          ],
          [
           198491
          ],
          [
           243884
          ],
          [
           274481
          ],
          [
           198633
          ],
          [
           311646
          ],
          [
           256954
          ],
          [
           326950
          ],
          [
           209582
          ],
          [
           271108
          ],
          [
           240495
          ],
          [
           211719
          ],
          [
           207391
          ],
          [
           269004
          ],
          [
           244608
          ],
          [
           249293.82842315678
          ],
          [
           253718.65258124477
          ],
          [
           230906.97493289938
          ]
         ],
         "domain": {
          "x": [
           0,
           1
          ],
          "y": [
           0,
           1
          ]
         },
         "hovertemplate": "labels=%{label}<br>Electors_sum=%{value}<br>parent=%{parent}<br>id=%{id}<br>Electors=%{color}<extra></extra>",
         "ids": [
          "GEN/ABDASA",
          "GEN/AKOTA",
          "GEN/AMRAIWADI",
          "GEN/AMRELI",
          "GEN/ANAND",
          "GEN/ANJAR",
          "GEN/ANKLAV",
          "GEN/ANKLESHWAR",
          "SC/ASARWA",
          "GEN/BALASINOR",
          "GEN/BAPUNAGAR",
          "SC/BARDOLI",
          "GEN/BAYAD",
          "GEN/BECHARAJI",
          "GEN/BHARUCH",
          "GEN/BHAVNAGAR EAST",
          "GEN/BHAVNAGAR RURAL",
          "GEN/BHAVNAGAR WEST",
          "ST/BHILODA",
          "GEN/BHUJ",
          "GEN/BORSAD",
          "GEN/BOTAD",
          "GEN/CHANASMA",
          "ST/CHHOTA UDAIPUR",
          "GEN/CHORASI",
          "GEN/CHOTILA",
          "GEN/DABHOI",
          "ST/DAHOD",
          "ST/DANGS",
          "SC/DANILIMDA",
          "ST/DANTA",
          "GEN/DARIAPUR",
          "SC/DASADA",
          "GEN/DASKROI",
          "ST/DEDIAPADA",
          "GEN/DEESA",
          "GEN/DEHGAM",
          "GEN/DEODAR",
          "GEN/DEVGADH BARIA",
          "GEN/DHANDHUKA",
          "GEN/DHANERA",
          "ST/DHARAMPUR",
          "GEN/DHARI",
          "GEN/DHOLKA",
          "GEN/DHORAJI",
          "GEN/DHRANGADHRA",
          "GEN/DWARKA",
          "GEN/ELLIS BRIDGE",
          "ST/FATEPURA",
          "SC/GADHADA",
          "ST/GANDEVI",
          "SC/GANDHIDHAM",
          "GEN/GANDHINAGAR NORTH",
          "GEN/GANDHINAGAR SOUTH",
          "ST/GARBADA",
          "GEN/GARIADHAR",
          "GEN/GHATLODIA",
          "GEN/GODHRA",
          "GEN/GONDAL",
          "GEN/HALOL",
          "GEN/HIMATNAGAR",
          "SC/IDAR",
          "GEN/JALALPORE",
          "GEN/JAMALPUR-KHADIA",
          "GEN/JAMBUSAR",
          "GEN/JAMJODHPUR",
          "GEN/JAMNAGAR NORTH",
          "GEN/JAMNAGAR RURAL",
          "GEN/JAMNAGAR SOUTH",
          "GEN/JASDAN",
          "GEN/JETPUR",
          "ST/JETPUR",
          "ST/JHAGADIA",
          "ST/JHALOD",
          "GEN/JUNAGADH",
          "SC/KADI",
          "SC/KALAWAD",
          "GEN/KALOL",
          "GEN/KAMREJ",
          "GEN/KANKREJ",
          "GEN/KAPADWANJ",
          "ST/KAPRADA",
          "GEN/KARANJ",
          "GEN/KATARGAM",
          "GEN/KESHOD",
          "GEN/KHAMBHALIA",
          "GEN/KHAMBHAT",
          "ST/KHEDBRAHMA",
          "GEN/KHERALU",
          "SC/KODINAR",
          "GEN/KUTIYANA",
          "GEN/LATHI",
          "GEN/LIMBAYAT",
          "GEN/LIMBDI",
          "ST/LIMKHEDA",
          "GEN/LUNAWADA",
          "GEN/MAHUDHA",
          "GEN/MAHUVA",
          "ST/MAHUVA",
          "GEN/MAJURA",
          "GEN/MANAVADAR",
          "GEN/MANDVI",
          "ST/MANDVI",
          "GEN/MANGROL",
          "ST/MANGROL",
          "GEN/MANINAGAR",
          "GEN/MANJALPUR",
          "GEN/MANSA",
          "GEN/MATAR",
          "GEN/MEHEMDABAD",
          "GEN/MEHSANA",
          "GEN/MODASA",
          "ST/MORVA HADAF",
          "GEN/MORVI",
          "GEN/NADIAD",
          "ST/NANDOD",
          "GEN/NARANPURA",
          "GEN/NARODA",
          "GEN/NAVSARI",
          "GEN/NIKOL",
          "ST/NIZAR",
          "GEN/OLPAD",
          "GEN/PADRA",
          "GEN/PALANPUR",
          "GEN/PALITANA",
          "GEN/PARDI",
          "GEN/PATAN",
          "GEN/PETLAD",
          "GEN/PORBANDAR",
          "GEN/PRANTIJ",
          "GEN/RADHANPUR",
          "GEN/RAJKOT EAST",
          "SC/RAJKOT RURAL",
          "GEN/RAJKOT SOUTH",
          "GEN/RAJKOT WEST",
          "GEN/RAJULA",
          "GEN/RAOPURA",
          "GEN/RAPAR",
          "GEN/SABARMATI",
          "GEN/SANAND",
          "ST/SANKHEDA",
          "ST/SANTRAMPUR",
          "GEN/SAVARKUNDLA",
          "GEN/SAVLI",
          "GEN/SAYAJIGANJ",
          "GEN/SHEHRA",
          "GEN/SIDHPUR",
          "GEN/SOJITRA",
          "GEN/SOMNATH",
          "GEN/SURAT EAST",
          "GEN/SURAT NORTH",
          "GEN/SURAT WEST",
          "GEN/TALAJA",
          "GEN/TALALA",
          "GEN/TANKARA",
          "GEN/THAKKARBAPA NAGAR",
          "GEN/THARAD",
          "GEN/THASRA",
          "GEN/UDHNA",
          "ST/UMBERGAON",
          "GEN/UMRETH",
          "GEN/UNA",
          "GEN/UNJHA",
          "SC/VADGAM",
          "SC/VADODARA CITY",
          "GEN/VAGHODIA",
          "GEN/VAGRA",
          "GEN/VALSAD",
          "ST/VANSDA",
          "GEN/VARACHHA ROAD",
          "GEN/VATVA",
          "GEN/VAV",
          "GEN/VEJALPUR",
          "GEN/VIJAPUR",
          "GEN/VIRAMGAM",
          "GEN/VISAVADAR",
          "GEN/VISNAGAR",
          "ST/VYARA",
          "GEN/WADHWAN",
          "GEN/WANKANER",
          "GEN",
          "SC",
          "ST"
         ],
         "labels": [
          "ABDASA",
          "AKOTA",
          "AMRAIWADI",
          "AMRELI",
          "ANAND",
          "ANJAR",
          "ANKLAV",
          "ANKLESHWAR",
          "ASARWA",
          "BALASINOR",
          "BAPUNAGAR",
          "BARDOLI",
          "BAYAD",
          "BECHARAJI",
          "BHARUCH",
          "BHAVNAGAR EAST",
          "BHAVNAGAR RURAL",
          "BHAVNAGAR WEST",
          "BHILODA",
          "BHUJ",
          "BORSAD",
          "BOTAD",
          "CHANASMA",
          "CHHOTA UDAIPUR",
          "CHORASI",
          "CHOTILA",
          "DABHOI",
          "DAHOD",
          "DANGS",
          "DANILIMDA",
          "DANTA",
          "DARIAPUR",
          "DASADA",
          "DASKROI",
          "DEDIAPADA",
          "DEESA",
          "DEHGAM",
          "DEODAR",
          "DEVGADH BARIA",
          "DHANDHUKA",
          "DHANERA",
          "DHARAMPUR",
          "DHARI",
          "DHOLKA",
          "DHORAJI",
          "DHRANGADHRA",
          "DWARKA",
          "ELLIS BRIDGE",
          "FATEPURA",
          "GADHADA",
          "GANDEVI",
          "GANDHIDHAM",
          "GANDHINAGAR NORTH",
          "GANDHINAGAR SOUTH",
          "GARBADA",
          "GARIADHAR",
          "GHATLODIA",
          "GODHRA",
          "GONDAL",
          "HALOL",
          "HIMATNAGAR",
          "IDAR",
          "JALALPORE",
          "JAMALPUR-KHADIA",
          "JAMBUSAR",
          "JAMJODHPUR",
          "JAMNAGAR NORTH",
          "JAMNAGAR RURAL",
          "JAMNAGAR SOUTH",
          "JASDAN",
          "JETPUR",
          "JETPUR",
          "JHAGADIA",
          "JHALOD",
          "JUNAGADH",
          "KADI",
          "KALAWAD",
          "KALOL",
          "KAMREJ",
          "KANKREJ",
          "KAPADWANJ",
          "KAPRADA",
          "KARANJ",
          "KATARGAM",
          "KESHOD",
          "KHAMBHALIA",
          "KHAMBHAT",
          "KHEDBRAHMA",
          "KHERALU",
          "KODINAR",
          "KUTIYANA",
          "LATHI",
          "LIMBAYAT",
          "LIMBDI",
          "LIMKHEDA",
          "LUNAWADA",
          "MAHUDHA",
          "MAHUVA",
          "MAHUVA",
          "MAJURA",
          "MANAVADAR",
          "MANDVI",
          "MANDVI",
          "MANGROL",
          "MANGROL",
          "MANINAGAR",
          "MANJALPUR",
          "MANSA",
          "MATAR",
          "MEHEMDABAD",
          "MEHSANA",
          "MODASA",
          "MORVA HADAF",
          "MORVI",
          "NADIAD",
          "NANDOD",
          "NARANPURA",
          "NARODA",
          "NAVSARI",
          "NIKOL",
          "NIZAR",
          "OLPAD",
          "PADRA",
          "PALANPUR",
          "PALITANA",
          "PARDI",
          "PATAN",
          "PETLAD",
          "PORBANDAR",
          "PRANTIJ",
          "RADHANPUR",
          "RAJKOT EAST",
          "RAJKOT RURAL",
          "RAJKOT SOUTH",
          "RAJKOT WEST",
          "RAJULA",
          "RAOPURA",
          "RAPAR",
          "SABARMATI",
          "SANAND",
          "SANKHEDA",
          "SANTRAMPUR",
          "SAVARKUNDLA",
          "SAVLI",
          "SAYAJIGANJ",
          "SHEHRA",
          "SIDHPUR",
          "SOJITRA",
          "SOMNATH",
          "SURAT EAST",
          "SURAT NORTH",
          "SURAT WEST",
          "TALAJA",
          "TALALA",
          "TANKARA",
          "THAKKARBAPA NAGAR",
          "THARAD",
          "THASRA",
          "UDHNA",
          "UMBERGAON",
          "UMRETH",
          "UNA",
          "UNJHA",
          "VADGAM",
          "VADODARA CITY",
          "VAGHODIA",
          "VAGRA",
          "VALSAD",
          "VANSDA",
          "VARACHHA ROAD",
          "VATVA",
          "VAV",
          "VEJALPUR",
          "VIJAPUR",
          "VIRAMGAM",
          "VISAVADAR",
          "VISNAGAR",
          "VYARA",
          "WADHWAN",
          "WANKANER",
          "GEN",
          "SC",
          "ST"
         ],
         "marker": {
          "coloraxis": "coloraxis",
          "colors": [
           223705,
           247684,
           268178,
           268018,
           283076,
           229493,
           204377,
           221026,
           202480,
           258779,
           189544,
           225415,
           222995,
           232991,
           255307,
           243497,
           258467,
           241785,
           279520,
           255823,
           241934,
           259693,
           259326,
           241734,
           416937,
           230427,
           201849,
           235444,
           166434,
           230660,
           218921,
           195560,
           237396,
           311407,
           193479,
           250769,
           201363,
           215351,
           222319,
           245361,
           228944,
           226284,
           211845,
           230867,
           250456,
           276586,
           262130,
           244120,
           210605,
           241794,
           270762,
           277693,
           232375,
           304951,
           233693,
           203674,
           352316,
           252334,
           213031,
           249159,
           252984,
           259577,
           216276,
           198167,
           222493,
           205126,
           218669,
           223389,
           206526,
           228733,
           253374,
           244807,
           232261,
           224327,
           256249,
           257199,
           215045,
           227763.8651266214,
           428695,
           252145,
           272603,
           232224,
           179412.4936119874,
           277537,
           224971,
           264679,
           213649,
           235372,
           200677,
           207118,
           199185,
           209433,
           259898,
           259625,
           187245,
           260663,
           223837,
           208927,
           214604,
           245036,
           234634,
           224902,
           225955,
           206117,
           200756,
           251391,
           232610,
           212778,
           226255,
           226423,
           259354,
           245561,
           199633,
           255971,
           248486,
           220146,
           229801,
           264012,
           228768,
           231378,
           254633,
           359732,
           215108,
           251161,
           249697,
           220845,
           271973,
           218779,
           237843,
           237000,
           258949,
           259971,
           300047,
           242482,
           316665,
           246783,
           273393,
           216390,
           253511,
           243451,
           253661,
           208541,
           238315,
           211847,
           273164,
           233113,
           238120,
           199405,
           234979,
           201329,
           157250,
           222036,
           221907,
           208081,
           224521,
           223154,
           209183,
           250156,
           233592,
           244481,
           247144,
           233334,
           213123,
           260711,
           274380,
           222056,
           198491,
           243884,
           274481,
           198633,
           311646,
           256954,
           326950,
           209582,
           271108,
           240495,
           211719,
           207391,
           269004,
           244608,
           249293.82842315678,
           253718.65258124477,
           230906.97493289938
          ]
         },
         "name": "",
         "parents": [
          "GEN",
          "GEN",
          "GEN",
          "GEN",
          "GEN",
          "GEN",
          "GEN",
          "GEN",
          "SC",
          "GEN",
          "GEN",
          "SC",
          "GEN",
          "GEN",
          "GEN",
          "GEN",
          "GEN",
          "GEN",
          "ST",
          "GEN",
          "GEN",
          "GEN",
          "GEN",
          "ST",
          "GEN",
          "GEN",
          "GEN",
          "ST",
          "ST",
          "SC",
          "ST",
          "GEN",
          "SC",
          "GEN",
          "ST",
          "GEN",
          "GEN",
          "GEN",
          "GEN",
          "GEN",
          "GEN",
          "ST",
          "GEN",
          "GEN",
          "GEN",
          "GEN",
          "GEN",
          "GEN",
          "ST",
          "SC",
          "ST",
          "SC",
          "GEN",
          "GEN",
          "ST",
          "GEN",
          "GEN",
          "GEN",
          "GEN",
          "GEN",
          "GEN",
          "SC",
          "GEN",
          "GEN",
          "GEN",
          "GEN",
          "GEN",
          "GEN",
          "GEN",
          "GEN",
          "GEN",
          "ST",
          "ST",
          "ST",
          "GEN",
          "SC",
          "SC",
          "GEN",
          "GEN",
          "GEN",
          "GEN",
          "ST",
          "GEN",
          "GEN",
          "GEN",
          "GEN",
          "GEN",
          "ST",
          "GEN",
          "SC",
          "GEN",
          "GEN",
          "GEN",
          "GEN",
          "ST",
          "GEN",
          "GEN",
          "GEN",
          "ST",
          "GEN",
          "GEN",
          "GEN",
          "ST",
          "GEN",
          "ST",
          "GEN",
          "GEN",
          "GEN",
          "GEN",
          "GEN",
          "GEN",
          "GEN",
          "ST",
          "GEN",
          "GEN",
          "ST",
          "GEN",
          "GEN",
          "GEN",
          "GEN",
          "ST",
          "GEN",
          "GEN",
          "GEN",
          "GEN",
          "GEN",
          "GEN",
          "GEN",
          "GEN",
          "GEN",
          "GEN",
          "GEN",
          "SC",
          "GEN",
          "GEN",
          "GEN",
          "GEN",
          "GEN",
          "GEN",
          "GEN",
          "ST",
          "ST",
          "GEN",
          "GEN",
          "GEN",
          "GEN",
          "GEN",
          "GEN",
          "GEN",
          "GEN",
          "GEN",
          "GEN",
          "GEN",
          "GEN",
          "GEN",
          "GEN",
          "GEN",
          "GEN",
          "GEN",
          "ST",
          "GEN",
          "GEN",
          "GEN",
          "SC",
          "SC",
          "GEN",
          "GEN",
          "GEN",
          "ST",
          "GEN",
          "GEN",
          "GEN",
          "GEN",
          "GEN",
          "GEN",
          "GEN",
          "GEN",
          "ST",
          "GEN",
          "GEN",
          "",
          "",
          ""
         ],
         "type": "sunburst",
         "values": [
          2684460,
          1981472,
          3218136,
          2680180,
          1132304,
          2983409,
          2043770,
          2873338,
          2024800,
          1552674,
          3222248,
          1352490,
          1114975,
          3494865,
          2808377,
          1217485,
          2843137,
          2659635,
          2795200,
          3581522,
          1935472,
          6752018,
          3889890,
          1208670,
          5420181,
          2995551,
          2220339,
          1883552,
          998604,
          1614620,
          2189210,
          2346720,
          2611356,
          3425477,
          1934790,
          2507690,
          1409541,
          1076755,
          1333914,
          4171137,
          1373664,
          1357704,
          2542140,
          3232138,
          4508208,
          3319032,
          3669820,
          2197080,
          1474235,
          2176146,
          1083048,
          4165395,
          3020875,
          3354461,
          1635851,
          2647762,
          4932424,
          3028008,
          2769403,
          1245795,
          3035808,
          2855347,
          1730208,
          2179837,
          2447423,
          2666638,
          5466725,
          6254892,
          2271786,
          3659728,
          2533740,
          1958456,
          929044,
          672981,
          3843735,
          2314791,
          2150450,
          3642750,
          6430425,
          1512870,
          2180824,
          1393344,
          4438000,
          4163055,
          2924623,
          5558259,
          1709192,
          1882976,
          2006770,
          1449826,
          2589405,
          2722629,
          4418266,
          4154000,
          1123470,
          2606630,
          2014533,
          1880343,
          1073020,
          2695396,
          2346340,
          4048236,
          1581685,
          1236702,
          1606048,
          2011128,
          3023930,
          2553336,
          2488805,
          1132115,
          9077390,
          2210049,
          798532,
          2303739,
          2981832,
          1761168,
          2527811,
          2904132,
          2973984,
          3470670,
          1782431,
          5036248,
          2151080,
          3767415,
          3995152,
          3091830,
          2991703,
          1750232,
          2854116,
          2370000,
          4661082,
          3379623,
          4500705,
          2667302,
          5066640,
          1974264,
          2187144,
          3029460,
          3042132,
          3651765,
          2536610,
          1251246,
          2859780,
          1482929,
          1912148,
          1165565,
          3333680,
          1395835,
          3524685,
          3019935,
          2044250,
          3330540,
          2884791,
          1456567,
          2694252,
          2454694,
          1673464,
          1751092,
          3270288,
          1955848,
          2224296,
          2100006,
          2770599,
          2867821,
          2195040,
          1998504,
          2183401,
          1951072,
          1646886,
          1787697,
          5297982,
          2055632,
          4250350,
          3143730,
          6235484,
          2645445,
          2117190,
          1866519,
          5111076,
          3424512,
          411664830,
          32278787,
          42381128
         ]
        }
       ],
       "layout": {
        "autosize": true,
        "coloraxis": {
         "colorbar": {
          "title": {
           "text": "Electors"
          }
         },
         "colorscale": [
          [
           0,
           "rgb(103,0,31)"
          ],
          [
           0.1,
           "rgb(178,24,43)"
          ],
          [
           0.2,
           "rgb(214,96,77)"
          ],
          [
           0.3,
           "rgb(244,165,130)"
          ],
          [
           0.4,
           "rgb(253,219,199)"
          ],
          [
           0.5,
           "rgb(247,247,247)"
          ],
          [
           0.6,
           "rgb(209,229,240)"
          ],
          [
           0.7,
           "rgb(146,197,222)"
          ],
          [
           0.8,
           "rgb(67,147,195)"
          ],
          [
           0.9,
           "rgb(33,102,172)"
          ],
          [
           1,
           "rgb(5,48,97)"
          ]
         ]
        },
        "legend": {
         "tracegroupgap": 0
        },
        "margin": {
         "t": 60
        },
        "template": {
         "data": {
          "bar": [
           {
            "error_x": {
             "color": "#2a3f5f"
            },
            "error_y": {
             "color": "#2a3f5f"
            },
            "marker": {
             "line": {
              "color": "#E5ECF6",
              "width": 0.5
             },
             "pattern": {
              "fillmode": "overlay",
              "size": 10,
              "solidity": 0.2
             }
            },
            "type": "bar"
           }
          ],
          "barpolar": [
           {
            "marker": {
             "line": {
              "color": "#E5ECF6",
              "width": 0.5
             },
             "pattern": {
              "fillmode": "overlay",
              "size": 10,
              "solidity": 0.2
             }
            },
            "type": "barpolar"
           }
          ],
          "carpet": [
           {
            "aaxis": {
             "endlinecolor": "#2a3f5f",
             "gridcolor": "white",
             "linecolor": "white",
             "minorgridcolor": "white",
             "startlinecolor": "#2a3f5f"
            },
            "baxis": {
             "endlinecolor": "#2a3f5f",
             "gridcolor": "white",
             "linecolor": "white",
             "minorgridcolor": "white",
             "startlinecolor": "#2a3f5f"
            },
            "type": "carpet"
           }
          ],
          "choropleth": [
           {
            "colorbar": {
             "outlinewidth": 0,
             "ticks": ""
            },
            "type": "choropleth"
           }
          ],
          "contour": [
           {
            "colorbar": {
             "outlinewidth": 0,
             "ticks": ""
            },
            "colorscale": [
             [
              0,
              "#0d0887"
             ],
             [
              0.1111111111111111,
              "#46039f"
             ],
             [
              0.2222222222222222,
              "#7201a8"
             ],
             [
              0.3333333333333333,
              "#9c179e"
             ],
             [
              0.4444444444444444,
              "#bd3786"
             ],
             [
              0.5555555555555556,
              "#d8576b"
             ],
             [
              0.6666666666666666,
              "#ed7953"
             ],
             [
              0.7777777777777778,
              "#fb9f3a"
             ],
             [
              0.8888888888888888,
              "#fdca26"
             ],
             [
              1,
              "#f0f921"
             ]
            ],
            "type": "contour"
           }
          ],
          "contourcarpet": [
           {
            "colorbar": {
             "outlinewidth": 0,
             "ticks": ""
            },
            "type": "contourcarpet"
           }
          ],
          "heatmap": [
           {
            "colorbar": {
             "outlinewidth": 0,
             "ticks": ""
            },
            "colorscale": [
             [
              0,
              "#0d0887"
             ],
             [
              0.1111111111111111,
              "#46039f"
             ],
             [
              0.2222222222222222,
              "#7201a8"
             ],
             [
              0.3333333333333333,
              "#9c179e"
             ],
             [
              0.4444444444444444,
              "#bd3786"
             ],
             [
              0.5555555555555556,
              "#d8576b"
             ],
             [
              0.6666666666666666,
              "#ed7953"
             ],
             [
              0.7777777777777778,
              "#fb9f3a"
             ],
             [
              0.8888888888888888,
              "#fdca26"
             ],
             [
              1,
              "#f0f921"
             ]
            ],
            "type": "heatmap"
           }
          ],
          "heatmapgl": [
           {
            "colorbar": {
             "outlinewidth": 0,
             "ticks": ""
            },
            "colorscale": [
             [
              0,
              "#0d0887"
             ],
             [
              0.1111111111111111,
              "#46039f"
             ],
             [
              0.2222222222222222,
              "#7201a8"
             ],
             [
              0.3333333333333333,
              "#9c179e"
             ],
             [
              0.4444444444444444,
              "#bd3786"
             ],
             [
              0.5555555555555556,
              "#d8576b"
             ],
             [
              0.6666666666666666,
              "#ed7953"
             ],
             [
              0.7777777777777778,
              "#fb9f3a"
             ],
             [
              0.8888888888888888,
              "#fdca26"
             ],
             [
              1,
              "#f0f921"
             ]
            ],
            "type": "heatmapgl"
           }
          ],
          "histogram": [
           {
            "marker": {
             "pattern": {
              "fillmode": "overlay",
              "size": 10,
              "solidity": 0.2
             }
            },
            "type": "histogram"
           }
          ],
          "histogram2d": [
           {
            "colorbar": {
             "outlinewidth": 0,
             "ticks": ""
            },
            "colorscale": [
             [
              0,
              "#0d0887"
             ],
             [
              0.1111111111111111,
              "#46039f"
             ],
             [
              0.2222222222222222,
              "#7201a8"
             ],
             [
              0.3333333333333333,
              "#9c179e"
             ],
             [
              0.4444444444444444,
              "#bd3786"
             ],
             [
              0.5555555555555556,
              "#d8576b"
             ],
             [
              0.6666666666666666,
              "#ed7953"
             ],
             [
              0.7777777777777778,
              "#fb9f3a"
             ],
             [
              0.8888888888888888,
              "#fdca26"
             ],
             [
              1,
              "#f0f921"
             ]
            ],
            "type": "histogram2d"
           }
          ],
          "histogram2dcontour": [
           {
            "colorbar": {
             "outlinewidth": 0,
             "ticks": ""
            },
            "colorscale": [
             [
              0,
              "#0d0887"
             ],
             [
              0.1111111111111111,
              "#46039f"
             ],
             [
              0.2222222222222222,
              "#7201a8"
             ],
             [
              0.3333333333333333,
              "#9c179e"
             ],
             [
              0.4444444444444444,
              "#bd3786"
             ],
             [
              0.5555555555555556,
              "#d8576b"
             ],
             [
              0.6666666666666666,
              "#ed7953"
             ],
             [
              0.7777777777777778,
              "#fb9f3a"
             ],
             [
              0.8888888888888888,
              "#fdca26"
             ],
             [
              1,
              "#f0f921"
             ]
            ],
            "type": "histogram2dcontour"
           }
          ],
          "mesh3d": [
           {
            "colorbar": {
             "outlinewidth": 0,
             "ticks": ""
            },
            "type": "mesh3d"
           }
          ],
          "parcoords": [
           {
            "line": {
             "colorbar": {
              "outlinewidth": 0,
              "ticks": ""
             }
            },
            "type": "parcoords"
           }
          ],
          "pie": [
           {
            "automargin": true,
            "type": "pie"
           }
          ],
          "scatter": [
           {
            "fillpattern": {
             "fillmode": "overlay",
             "size": 10,
             "solidity": 0.2
            },
            "type": "scatter"
           }
          ],
          "scatter3d": [
           {
            "line": {
             "colorbar": {
              "outlinewidth": 0,
              "ticks": ""
             }
            },
            "marker": {
             "colorbar": {
              "outlinewidth": 0,
              "ticks": ""
             }
            },
            "type": "scatter3d"
           }
          ],
          "scattercarpet": [
           {
            "marker": {
             "colorbar": {
              "outlinewidth": 0,
              "ticks": ""
             }
            },
            "type": "scattercarpet"
           }
          ],
          "scattergeo": [
           {
            "marker": {
             "colorbar": {
              "outlinewidth": 0,
              "ticks": ""
             }
            },
            "type": "scattergeo"
           }
          ],
          "scattergl": [
           {
            "marker": {
             "colorbar": {
              "outlinewidth": 0,
              "ticks": ""
             }
            },
            "type": "scattergl"
           }
          ],
          "scattermapbox": [
           {
            "marker": {
             "colorbar": {
              "outlinewidth": 0,
              "ticks": ""
             }
            },
            "type": "scattermapbox"
           }
          ],
          "scatterpolar": [
           {
            "marker": {
             "colorbar": {
              "outlinewidth": 0,
              "ticks": ""
             }
            },
            "type": "scatterpolar"
           }
          ],
          "scatterpolargl": [
           {
            "marker": {
             "colorbar": {
              "outlinewidth": 0,
              "ticks": ""
             }
            },
            "type": "scatterpolargl"
           }
          ],
          "scatterternary": [
           {
            "marker": {
             "colorbar": {
              "outlinewidth": 0,
              "ticks": ""
             }
            },
            "type": "scatterternary"
           }
          ],
          "surface": [
           {
            "colorbar": {
             "outlinewidth": 0,
             "ticks": ""
            },
            "colorscale": [
             [
              0,
              "#0d0887"
             ],
             [
              0.1111111111111111,
              "#46039f"
             ],
             [
              0.2222222222222222,
              "#7201a8"
             ],
             [
              0.3333333333333333,
              "#9c179e"
             ],
             [
              0.4444444444444444,
              "#bd3786"
             ],
             [
              0.5555555555555556,
              "#d8576b"
             ],
             [
              0.6666666666666666,
              "#ed7953"
             ],
             [
              0.7777777777777778,
              "#fb9f3a"
             ],
             [
              0.8888888888888888,
              "#fdca26"
             ],
             [
              1,
              "#f0f921"
             ]
            ],
            "type": "surface"
           }
          ],
          "table": [
           {
            "cells": {
             "fill": {
              "color": "#EBF0F8"
             },
             "line": {
              "color": "white"
             }
            },
            "header": {
             "fill": {
              "color": "#C8D4E3"
             },
             "line": {
              "color": "white"
             }
            },
            "type": "table"
           }
          ]
         },
         "layout": {
          "annotationdefaults": {
           "arrowcolor": "#2a3f5f",
           "arrowhead": 0,
           "arrowwidth": 1
          },
          "autotypenumbers": "strict",
          "coloraxis": {
           "colorbar": {
            "outlinewidth": 0,
            "ticks": ""
           }
          },
          "colorscale": {
           "diverging": [
            [
             0,
             "#8e0152"
            ],
            [
             0.1,
             "#c51b7d"
            ],
            [
             0.2,
             "#de77ae"
            ],
            [
             0.3,
             "#f1b6da"
            ],
            [
             0.4,
             "#fde0ef"
            ],
            [
             0.5,
             "#f7f7f7"
            ],
            [
             0.6,
             "#e6f5d0"
            ],
            [
             0.7,
             "#b8e186"
            ],
            [
             0.8,
             "#7fbc41"
            ],
            [
             0.9,
             "#4d9221"
            ],
            [
             1,
             "#276419"
            ]
           ],
           "sequential": [
            [
             0,
             "#0d0887"
            ],
            [
             0.1111111111111111,
             "#46039f"
            ],
            [
             0.2222222222222222,
             "#7201a8"
            ],
            [
             0.3333333333333333,
             "#9c179e"
            ],
            [
             0.4444444444444444,
             "#bd3786"
            ],
            [
             0.5555555555555556,
             "#d8576b"
            ],
            [
             0.6666666666666666,
             "#ed7953"
            ],
            [
             0.7777777777777778,
             "#fb9f3a"
            ],
            [
             0.8888888888888888,
             "#fdca26"
            ],
            [
             1,
             "#f0f921"
            ]
           ],
           "sequentialminus": [
            [
             0,
             "#0d0887"
            ],
            [
             0.1111111111111111,
             "#46039f"
            ],
            [
             0.2222222222222222,
             "#7201a8"
            ],
            [
             0.3333333333333333,
             "#9c179e"
            ],
            [
             0.4444444444444444,
             "#bd3786"
            ],
            [
             0.5555555555555556,
             "#d8576b"
            ],
            [
             0.6666666666666666,
             "#ed7953"
            ],
            [
             0.7777777777777778,
             "#fb9f3a"
            ],
            [
             0.8888888888888888,
             "#fdca26"
            ],
            [
             1,
             "#f0f921"
            ]
           ]
          },
          "colorway": [
           "#636efa",
           "#EF553B",
           "#00cc96",
           "#ab63fa",
           "#FFA15A",
           "#19d3f3",
           "#FF6692",
           "#B6E880",
           "#FF97FF",
           "#FECB52"
          ],
          "font": {
           "color": "#2a3f5f"
          },
          "geo": {
           "bgcolor": "white",
           "lakecolor": "white",
           "landcolor": "#E5ECF6",
           "showlakes": true,
           "showland": true,
           "subunitcolor": "white"
          },
          "hoverlabel": {
           "align": "left"
          },
          "hovermode": "closest",
          "mapbox": {
           "style": "light"
          },
          "paper_bgcolor": "white",
          "plot_bgcolor": "#E5ECF6",
          "polar": {
           "angularaxis": {
            "gridcolor": "white",
            "linecolor": "white",
            "ticks": ""
           },
           "bgcolor": "#E5ECF6",
           "radialaxis": {
            "gridcolor": "white",
            "linecolor": "white",
            "ticks": ""
           }
          },
          "scene": {
           "xaxis": {
            "backgroundcolor": "#E5ECF6",
            "gridcolor": "white",
            "gridwidth": 2,
            "linecolor": "white",
            "showbackground": true,
            "ticks": "",
            "zerolinecolor": "white"
           },
           "yaxis": {
            "backgroundcolor": "#E5ECF6",
            "gridcolor": "white",
            "gridwidth": 2,
            "linecolor": "white",
            "showbackground": true,
            "ticks": "",
            "zerolinecolor": "white"
           },
           "zaxis": {
            "backgroundcolor": "#E5ECF6",
            "gridcolor": "white",
            "gridwidth": 2,
            "linecolor": "white",
            "showbackground": true,
            "ticks": "",
            "zerolinecolor": "white"
           }
          },
          "shapedefaults": {
           "line": {
            "color": "#2a3f5f"
           }
          },
          "ternary": {
           "aaxis": {
            "gridcolor": "white",
            "linecolor": "white",
            "ticks": ""
           },
           "baxis": {
            "gridcolor": "white",
            "linecolor": "white",
            "ticks": ""
           },
           "bgcolor": "#E5ECF6",
           "caxis": {
            "gridcolor": "white",
            "linecolor": "white",
            "ticks": ""
           }
          },
          "title": {
           "x": 0.05
          },
          "xaxis": {
           "automargin": true,
           "gridcolor": "white",
           "linecolor": "white",
           "ticks": "",
           "title": {
            "standoff": 15
           },
           "zerolinecolor": "white",
           "zerolinewidth": 2
          },
          "yaxis": {
           "automargin": true,
           "gridcolor": "white",
           "linecolor": "white",
           "ticks": "",
           "title": {
            "standoff": 15
           },
           "zerolinecolor": "white",
           "zerolinewidth": 2
          }
         }
        }
       }
      },
      "image/png": "[encoded data removed]",
      "text/html": [
       "<div>                            <div id=\"51d1961d-e42c-4867-8022-ce1b88afad4a\" class=\"plotly-graph-div\" style=\"height:525px; width:100%;\"></div>            <script type=\"text/javascript\">                require([\"plotly\"], function(Plotly) {                    window.PLOTLYENV=window.PLOTLYENV || {};                                    if (document.getElementById(\"51d1961d-e42c-4867-8022-ce1b88afad4a\")) {                    Plotly.newPlot(                        \"51d1961d-e42c-4867-8022-ce1b88afad4a\",                        [{\"branchvalues\":\"total\",\"customdata\":[[223705.0],[247684.0],[268178.0],[268018.0],[283076.0],[229493.0],[204377.0],[221026.0],[202480.0],[258779.0],[189544.0],[225415.0],[222995.0],[232991.0],[255307.0],[243497.0],[258467.0],[241785.0],[279520.0],[255823.0],[241934.0],[259693.0],[259326.0],[241734.0],[416937.0],[230427.0],[201849.0],[235444.0],[166434.0],[230660.0],[218921.0],[195560.0],[237396.0],[311407.0],[193479.0],[250769.0],[201363.0],[215351.0],[222319.0],[245361.0],[228944.0],[226284.0],[211845.0],[230867.0],[250456.0],[276586.0],[262130.0],[244120.0],[210605.0],[241794.0],[270762.0],[277693.0],[232375.0],[304951.0],[233693.0],[203674.0],[352316.0],[252334.0],[213031.0],[249159.0],[252984.0],[259577.0],[216276.0],[198167.0],[222493.0],[205126.0],[218669.0],[223389.0],[206526.0],[228733.0],[253374.0],[244807.0],[232261.0],[224327.0],[256249.0],[257199.0],[215045.0],[227763.8651266214],[428695.0],[252145.0],[272603.0],[232224.0],[179412.4936119874],[277537.0],[224971.0],[264679.0],[213649.0],[235372.0],[200677.0],[207118.0],[199185.0],[209433.0],[259898.0],[259625.0],[187245.0],[260663.0],[223837.0],[208927.0],[214604.0],[245036.0],[234634.0],[224902.0],[225955.0],[206117.0],[200756.0],[251391.0],[232610.0],[212778.0],[226255.0],[226423.0],[259354.0],[245561.0],[199633.0],[255971.0],[248486.0],[220146.0],[229801.0],[264012.0],[228768.0],[231378.0],[254633.0],[359732.0],[215108.0],[251161.0],[249697.0],[220845.0],[271973.0],[218779.0],[237843.0],[237000.0],[258949.0],[259971.0],[300047.0],[242482.0],[316665.0],[246783.0],[273393.0],[216390.0],[253511.0],[243451.0],[253661.0],[208541.0],[238315.0],[211847.0],[273164.0],[233113.0],[238120.0],[199405.0],[234979.0],[201329.0],[157250.0],[222036.0],[221907.0],[208081.0],[224521.0],[223154.0],[209183.0],[250156.0],[233592.0],[244481.0],[247144.0],[233334.0],[213123.0],[260711.0],[274380.0],[222056.0],[198491.0],[243884.0],[274481.0],[198633.0],[311646.0],[256954.0],[326950.0],[209582.0],[271108.0],[240495.0],[211719.0],[207391.0],[269004.0],[244608.0],[249293.82842315678],[253718.65258124477],[230906.97493289938]],\"domain\":{\"x\":[0.0,1.0],\"y\":[0.0,1.0]},\"hovertemplate\":\"labels=%{label}<br>Electors_sum=%{value}<br>parent=%{parent}<br>id=%{id}<br>Electors=%{color}<extra></extra>\",\"ids\":[\"GEN/ABDASA\",\"GEN/AKOTA\",\"GEN/AMRAIWADI\",\"GEN/AMRELI\",\"GEN/ANAND\",\"GEN/ANJAR\",\"GEN/ANKLAV\",\"GEN/ANKLESHWAR\",\"SC/ASARWA\",\"GEN/BALASINOR\",\"GEN/BAPUNAGAR\",\"SC/BARDOLI\",\"GEN/BAYAD\",\"GEN/BECHARAJI\",\"GEN/BHARUCH\",\"GEN/BHAVNAGAR EAST\",\"GEN/BHAVNAGAR RURAL\",\"GEN/BHAVNAGAR WEST\",\"ST/BHILODA\",\"GEN/BHUJ\",\"GEN/BORSAD\",\"GEN/BOTAD\",\"GEN/CHANASMA\",\"ST/CHHOTA UDAIPUR\",\"GEN/CHORASI\",\"GEN/CHOTILA\",\"GEN/DABHOI\",\"ST/DAHOD\",\"ST/DANGS\",\"SC/DANILIMDA\",\"ST/DANTA\",\"GEN/DARIAPUR\",\"SC/DASADA\",\"GEN/DASKROI\",\"ST/DEDIAPADA\",\"GEN/DEESA\",\"GEN/DEHGAM\",\"GEN/DEODAR\",\"GEN/DEVGADH BARIA\",\"GEN/DHANDHUKA\",\"GEN/DHANERA\",\"ST/DHARAMPUR\",\"GEN/DHARI\",\"GEN/DHOLKA\",\"GEN/DHORAJI\",\"GEN/DHRANGADHRA\",\"GEN/DWARKA\",\"GEN/ELLIS BRIDGE\",\"ST/FATEPURA\",\"SC/GADHADA\",\"ST/GANDEVI\",\"SC/GANDHIDHAM\",\"GEN/GANDHINAGAR NORTH\",\"GEN/GANDHINAGAR SOUTH\",\"ST/GARBADA\",\"GEN/GARIADHAR\",\"GEN/GHATLODIA\",\"GEN/GODHRA\",\"GEN/GONDAL\",\"GEN/HALOL\",\"GEN/HIMATNAGAR\",\"SC/IDAR\",\"GEN/JALALPORE\",\"GEN/JAMALPUR-KHADIA\",\"GEN/JAMBUSAR\",\"GEN/JAMJODHPUR\",\"GEN/JAMNAGAR NORTH\",\"GEN/JAMNAGAR RURAL\",\"GEN/JAMNAGAR SOUTH\",\"GEN/JASDAN\",\"GEN/JETPUR\",\"ST/JETPUR\",\"ST/JHAGADIA\",\"ST/JHALOD\",\"GEN/JUNAGADH\",\"SC/KADI\",\"SC/KALAWAD\",\"GEN/KALOL\",\"GEN/KAMREJ\",\"GEN/KANKREJ\",\"GEN/KAPADWANJ\",\"ST/KAPRADA\",\"GEN/KARANJ\",\"GEN/KATARGAM\",\"GEN/KESHOD\",\"GEN/KHAMBHALIA\",\"GEN/KHAMBHAT\",\"ST/KHEDBRAHMA\",\"GEN/KHERALU\",\"SC/KODINAR\",\"GEN/KUTIYANA\",\"GEN/LATHI\",\"GEN/LIMBAYAT\",\"GEN/LIMBDI\",\"ST/LIMKHEDA\",\"GEN/LUNAWADA\",\"GEN/MAHUDHA\",\"GEN/MAHUVA\",\"ST/MAHUVA\",\"GEN/MAJURA\",\"GEN/MANAVADAR\",\"GEN/MANDVI\",\"ST/MANDVI\",\"GEN/MANGROL\",\"ST/MANGROL\",\"GEN/MANINAGAR\",\"GEN/MANJALPUR\",\"GEN/MANSA\",\"GEN/MATAR\",\"GEN/MEHEMDABAD\",\"GEN/MEHSANA\",\"GEN/MODASA\",\"ST/MORVA HADAF\",\"GEN/MORVI\",\"GEN/NADIAD\",\"ST/NANDOD\",\"GEN/NARANPURA\",\"GEN/NARODA\",\"GEN/NAVSARI\",\"GEN/NIKOL\",\"ST/NIZAR\",\"GEN/OLPAD\",\"GEN/PADRA\",\"GEN/PALANPUR\",\"GEN/PALITANA\",\"GEN/PARDI\",\"GEN/PATAN\",\"GEN/PETLAD\",\"GEN/PORBANDAR\",\"GEN/PRANTIJ\",\"GEN/RADHANPUR\",\"GEN/RAJKOT EAST\",\"SC/RAJKOT RURAL\",\"GEN/RAJKOT SOUTH\",\"GEN/RAJKOT WEST\",\"GEN/RAJULA\",\"GEN/RAOPURA\",\"GEN/RAPAR\",\"GEN/SABARMATI\",\"GEN/SANAND\",\"ST/SANKHEDA\",\"ST/SANTRAMPUR\",\"GEN/SAVARKUNDLA\",\"GEN/SAVLI\",\"GEN/SAYAJIGANJ\",\"GEN/SHEHRA\",\"GEN/SIDHPUR\",\"GEN/SOJITRA\",\"GEN/SOMNATH\",\"GEN/SURAT EAST\",\"GEN/SURAT NORTH\",\"GEN/SURAT WEST\",\"GEN/TALAJA\",\"GEN/TALALA\",\"GEN/TANKARA\",\"GEN/THAKKARBAPA NAGAR\",\"GEN/THARAD\",\"GEN/THASRA\",\"GEN/UDHNA\",\"ST/UMBERGAON\",\"GEN/UMRETH\",\"GEN/UNA\",\"GEN/UNJHA\",\"SC/VADGAM\",\"SC/VADODARA CITY\",\"GEN/VAGHODIA\",\"GEN/VAGRA\",\"GEN/VALSAD\",\"ST/VANSDA\",\"GEN/VARACHHA ROAD\",\"GEN/VATVA\",\"GEN/VAV\",\"GEN/VEJALPUR\",\"GEN/VIJAPUR\",\"GEN/VIRAMGAM\",\"GEN/VISAVADAR\",\"GEN/VISNAGAR\",\"ST/VYARA\",\"GEN/WADHWAN\",\"GEN/WANKANER\",\"GEN\",\"SC\",\"ST\"],\"labels\":[\"ABDASA\",\"AKOTA\",\"AMRAIWADI\",\"AMRELI\",\"ANAND\",\"ANJAR\",\"ANKLAV\",\"ANKLESHWAR\",\"ASARWA\",\"BALASINOR\",\"BAPUNAGAR\",\"BARDOLI\",\"BAYAD\",\"BECHARAJI\",\"BHARUCH\",\"BHAVNAGAR EAST\",\"BHAVNAGAR RURAL\",\"BHAVNAGAR WEST\",\"BHILODA\",\"BHUJ\",\"BORSAD\",\"BOTAD\",\"CHANASMA\",\"CHHOTA UDAIPUR\",\"CHORASI\",\"CHOTILA\",\"DABHOI\",\"DAHOD\",\"DANGS\",\"DANILIMDA\",\"DANTA\",\"DARIAPUR\",\"DASADA\",\"DASKROI\",\"DEDIAPADA\",\"DEESA\",\"DEHGAM\",\"DEODAR\",\"DEVGADH BARIA\",\"DHANDHUKA\",\"DHANERA\",\"DHARAMPUR\",\"DHARI\",\"DHOLKA\",\"DHORAJI\",\"DHRANGADHRA\",\"DWARKA\",\"ELLIS BRIDGE\",\"FATEPURA\",\"GADHADA\",\"GANDEVI\",\"GANDHIDHAM\",\"GANDHINAGAR NORTH\",\"GANDHINAGAR SOUTH\",\"GARBADA\",\"GARIADHAR\",\"GHATLODIA\",\"GODHRA\",\"GONDAL\",\"HALOL\",\"HIMATNAGAR\",\"IDAR\",\"JALALPORE\",\"JAMALPUR-KHADIA\",\"JAMBUSAR\",\"JAMJODHPUR\",\"JAMNAGAR NORTH\",\"JAMNAGAR RURAL\",\"JAMNAGAR SOUTH\",\"JASDAN\",\"JETPUR\",\"JETPUR\",\"JHAGADIA\",\"JHALOD\",\"JUNAGADH\",\"KADI\",\"KALAWAD\",\"KALOL\",\"KAMREJ\",\"KANKREJ\",\"KAPADWANJ\",\"KAPRADA\",\"KARANJ\",\"KATARGAM\",\"KESHOD\",\"KHAMBHALIA\",\"KHAMBHAT\",\"KHEDBRAHMA\",\"KHERALU\",\"KODINAR\",\"KUTIYANA\",\"LATHI\",\"LIMBAYAT\",\"LIMBDI\",\"LIMKHEDA\",\"LUNAWADA\",\"MAHUDHA\",\"MAHUVA\",\"MAHUVA\",\"MAJURA\",\"MANAVADAR\",\"MANDVI\",\"MANDVI\",\"MANGROL\",\"MANGROL\",\"MANINAGAR\",\"MANJALPUR\",\"MANSA\",\"MATAR\",\"MEHEMDABAD\",\"MEHSANA\",\"MODASA\",\"MORVA HADAF\",\"MORVI\",\"NADIAD\",\"NANDOD\",\"NARANPURA\",\"NARODA\",\"NAVSARI\",\"NIKOL\",\"NIZAR\",\"OLPAD\",\"PADRA\",\"PALANPUR\",\"PALITANA\",\"PARDI\",\"PATAN\",\"PETLAD\",\"PORBANDAR\",\"PRANTIJ\",\"RADHANPUR\",\"RAJKOT EAST\",\"RAJKOT RURAL\",\"RAJKOT SOUTH\",\"RAJKOT WEST\",\"RAJULA\",\"RAOPURA\",\"RAPAR\",\"SABARMATI\",\"SANAND\",\"SANKHEDA\",\"SANTRAMPUR\",\"SAVARKUNDLA\",\"SAVLI\",\"SAYAJIGANJ\",\"SHEHRA\",\"SIDHPUR\",\"SOJITRA\",\"SOMNATH\",\"SURAT EAST\",\"SURAT NORTH\",\"SURAT WEST\",\"TALAJA\",\"TALALA\",\"TANKARA\",\"THAKKARBAPA NAGAR\",\"THARAD\",\"THASRA\",\"UDHNA\",\"UMBERGAON\",\"UMRETH\",\"UNA\",\"UNJHA\",\"VADGAM\",\"VADODARA CITY\",\"VAGHODIA\",\"VAGRA\",\"VALSAD\",\"VANSDA\",\"VARACHHA ROAD\",\"VATVA\",\"VAV\",\"VEJALPUR\",\"VIJAPUR\",\"VIRAMGAM\",\"VISAVADAR\",\"VISNAGAR\",\"VYARA\",\"WADHWAN\",\"WANKANER\",\"GEN\",\"SC\",\"ST\"],\"marker\":{\"coloraxis\":\"coloraxis\",\"colors\":[223705.0,247684.0,268178.0,268018.0,283076.0,229493.0,204377.0,221026.0,202480.0,258779.0,189544.0,225415.0,222995.0,232991.0,255307.0,243497.0,258467.0,241785.0,279520.0,255823.0,241934.0,259693.0,259326.0,241734.0,416937.0,230427.0,201849.0,235444.0,166434.0,230660.0,218921.0,195560.0,237396.0,311407.0,193479.0,250769.0,201363.0,215351.0,222319.0,245361.0,228944.0,226284.0,211845.0,230867.0,250456.0,276586.0,262130.0,244120.0,210605.0,241794.0,270762.0,277693.0,232375.0,304951.0,233693.0,203674.0,352316.0,252334.0,213031.0,249159.0,252984.0,259577.0,216276.0,198167.0,222493.0,205126.0,218669.0,223389.0,206526.0,228733.0,253374.0,244807.0,232261.0,224327.0,256249.0,257199.0,215045.0,227763.8651266214,428695.0,252145.0,272603.0,232224.0,179412.4936119874,277537.0,224971.0,264679.0,213649.0,235372.0,200677.0,207118.0,199185.0,209433.0,259898.0,259625.0,187245.0,260663.0,223837.0,208927.0,214604.0,245036.0,234634.0,224902.0,225955.0,206117.0,200756.0,251391.0,232610.0,212778.0,226255.0,226423.0,259354.0,245561.0,199633.0,255971.0,248486.0,220146.0,229801.0,264012.0,228768.0,231378.0,254633.0,359732.0,215108.0,251161.0,249697.0,220845.0,271973.0,218779.0,237843.0,237000.0,258949.0,259971.0,300047.0,242482.0,316665.0,246783.0,273393.0,216390.0,253511.0,243451.0,253661.0,208541.0,238315.0,211847.0,273164.0,233113.0,238120.0,199405.0,234979.0,201329.0,157250.0,222036.0,221907.0,208081.0,224521.0,223154.0,209183.0,250156.0,233592.0,244481.0,247144.0,233334.0,213123.0,260711.0,274380.0,222056.0,198491.0,243884.0,274481.0,198633.0,311646.0,256954.0,326950.0,209582.0,271108.0,240495.0,211719.0,207391.0,269004.0,244608.0,249293.82842315678,253718.65258124477,230906.97493289938]},\"name\":\"\",\"parents\":[\"GEN\",\"GEN\",\"GEN\",\"GEN\",\"GEN\",\"GEN\",\"GEN\",\"GEN\",\"SC\",\"GEN\",\"GEN\",\"SC\",\"GEN\",\"GEN\",\"GEN\",\"GEN\",\"GEN\",\"GEN\",\"ST\",\"GEN\",\"GEN\",\"GEN\",\"GEN\",\"ST\",\"GEN\",\"GEN\",\"GEN\",\"ST\",\"ST\",\"SC\",\"ST\",\"GEN\",\"SC\",\"GEN\",\"ST\",\"GEN\",\"GEN\",\"GEN\",\"GEN\",\"GEN\",\"GEN\",\"ST\",\"GEN\",\"GEN\",\"GEN\",\"GEN\",\"GEN\",\"GEN\",\"ST\",\"SC\",\"ST\",\"SC\",\"GEN\",\"GEN\",\"ST\",\"GEN\",\"GEN\",\"GEN\",\"GEN\",\"GEN\",\"GEN\",\"SC\",\"GEN\",\"GEN\",\"GEN\",\"GEN\",\"GEN\",\"GEN\",\"GEN\",\"GEN\",\"GEN\",\"ST\",\"ST\",\"ST\",\"GEN\",\"SC\",\"SC\",\"GEN\",\"GEN\",\"GEN\",\"GEN\",\"ST\",\"GEN\",\"GEN\",\"GEN\",\"GEN\",\"GEN\",\"ST\",\"GEN\",\"SC\",\"GEN\",\"GEN\",\"GEN\",\"GEN\",\"ST\",\"GEN\",\"GEN\",\"GEN\",\"ST\",\"GEN\",\"GEN\",\"GEN\",\"ST\",\"GEN\",\"ST\",\"GEN\",\"GEN\",\"GEN\",\"GEN\",\"GEN\",\"GEN\",\"GEN\",\"ST\",\"GEN\",\"GEN\",\"ST\",\"GEN\",\"GEN\",\"GEN\",\"GEN\",\"ST\",\"GEN\",\"GEN\",\"GEN\",\"GEN\",\"GEN\",\"GEN\",\"GEN\",\"GEN\",\"GEN\",\"GEN\",\"GEN\",\"SC\",\"GEN\",\"GEN\",\"GEN\",\"GEN\",\"GEN\",\"GEN\",\"GEN\",\"ST\",\"ST\",\"GEN\",\"GEN\",\"GEN\",\"GEN\",\"GEN\",\"GEN\",\"GEN\",\"GEN\",\"GEN\",\"GEN\",\"GEN\",\"GEN\",\"GEN\",\"GEN\",\"GEN\",\"GEN\",\"GEN\",\"ST\",\"GEN\",\"GEN\",\"GEN\",\"SC\",\"SC\",\"GEN\",\"GEN\",\"GEN\",\"ST\",\"GEN\",\"GEN\",\"GEN\",\"GEN\",\"GEN\",\"GEN\",\"GEN\",\"GEN\",\"ST\",\"GEN\",\"GEN\",\"\",\"\",\"\"],\"values\":[2684460,1981472,3218136,2680180,1132304,2983409,2043770,2873338,2024800,1552674,3222248,1352490,1114975,3494865,2808377,1217485,2843137,2659635,2795200,3581522,1935472,6752018,3889890,1208670,5420181,2995551,2220339,1883552,998604,1614620,2189210,2346720,2611356,3425477,1934790,2507690,1409541,1076755,1333914,4171137,1373664,1357704,2542140,3232138,4508208,3319032,3669820,2197080,1474235,2176146,1083048,4165395,3020875,3354461,1635851,2647762,4932424,3028008,2769403,1245795,3035808,2855347,1730208,2179837,2447423,2666638,5466725,6254892,2271786,3659728,2533740,1958456,929044,672981,3843735,2314791,2150450,3642750,6430425,1512870,2180824,1393344,4438000,4163055,2924623,5558259,1709192,1882976,2006770,1449826,2589405,2722629,4418266,4154000,1123470,2606630,2014533,1880343,1073020,2695396,2346340,4048236,1581685,1236702,1606048,2011128,3023930,2553336,2488805,1132115,9077390,2210049,798532,2303739,2981832,1761168,2527811,2904132,2973984,3470670,1782431,5036248,2151080,3767415,3995152,3091830,2991703,1750232,2854116,2370000,4661082,3379623,4500705,2667302,5066640,1974264,2187144,3029460,3042132,3651765,2536610,1251246,2859780,1482929,1912148,1165565,3333680,1395835,3524685,3019935,2044250,3330540,2884791,1456567,2694252,2454694,1673464,1751092,3270288,1955848,2224296,2100006,2770599,2867821,2195040,1998504,2183401,1951072,1646886,1787697,5297982,2055632,4250350,3143730,6235484,2645445,2117190,1866519,5111076,3424512,411664830,32278787,42381128],\"type\":\"sunburst\"}],                        {\"template\":{\"data\":{\"histogram2dcontour\":[{\"type\":\"histogram2dcontour\",\"colorbar\":{\"outlinewidth\":0,\"ticks\":\"\"},\"colorscale\":[[0.0,\"#0d0887\"],[0.1111111111111111,\"#46039f\"],[0.2222222222222222,\"#7201a8\"],[0.3333333333333333,\"#9c179e\"],[0.4444444444444444,\"#bd3786\"],[0.5555555555555556,\"#d8576b\"],[0.6666666666666666,\"#ed7953\"],[0.7777777777777778,\"#fb9f3a\"],[0.8888888888888888,\"#fdca26\"],[1.0,\"#f0f921\"]]}],\"choropleth\":[{\"type\":\"choropleth\",\"colorbar\":{\"outlinewidth\":0,\"ticks\":\"\"}}],\"histogram2d\":[{\"type\":\"histogram2d\",\"colorbar\":{\"outlinewidth\":0,\"ticks\":\"\"},\"colorscale\":[[0.0,\"#0d0887\"],[0.1111111111111111,\"#46039f\"],[0.2222222222222222,\"#7201a8\"],[0.3333333333333333,\"#9c179e\"],[0.4444444444444444,\"#bd3786\"],[0.5555555555555556,\"#d8576b\"],[0.6666666666666666,\"#ed7953\"],[0.7777777777777778,\"#fb9f3a\"],[0.8888888888888888,\"#fdca26\"],[1.0,\"#f0f921\"]]}],\"heatmap\":[{\"type\":\"heatmap\",\"colorbar\":{\"outlinewidth\":0,\"ticks\":\"\"},\"colorscale\":[[0.0,\"#0d0887\"],[0.1111111111111111,\"#46039f\"],[0.2222222222222222,\"#7201a8\"],[0.3333333333333333,\"#9c179e\"],[0.4444444444444444,\"#bd3786\"],[0.5555555555555556,\"#d8576b\"],[0.6666666666666666,\"#ed7953\"],[0.7777777777777778,\"#fb9f3a\"],[0.8888888888888888,\"#fdca26\"],[1.0,\"#f0f921\"]]}],\"heatmapgl\":[{\"type\":\"heatmapgl\",\"colorbar\":{\"outlinewidth\":0,\"ticks\":\"\"},\"colorscale\":[[0.0,\"#0d0887\"],[0.1111111111111111,\"#46039f\"],[0.2222222222222222,\"#7201a8\"],[0.3333333333333333,\"#9c179e\"],[0.4444444444444444,\"#bd3786\"],[0.5555555555555556,\"#d8576b\"],[0.6666666666666666,\"#ed7953\"],[0.7777777777777778,\"#fb9f3a\"],[0.8888888888888888,\"#fdca26\"],[1.0,\"#f0f921\"]]}],\"contourcarpet\":[{\"type\":\"contourcarpet\",\"colorbar\":{\"outlinewidth\":0,\"ticks\":\"\"}}],\"contour\":[{\"type\":\"contour\",\"colorbar\":{\"outlinewidth\":0,\"ticks\":\"\"},\"colorscale\":[[0.0,\"#0d0887\"],[0.1111111111111111,\"#46039f\"],[0.2222222222222222,\"#7201a8\"],[0.3333333333333333,\"#9c179e\"],[0.4444444444444444,\"#bd3786\"],[0.5555555555555556,\"#d8576b\"],[0.6666666666666666,\"#ed7953\"],[0.7777777777777778,\"#fb9f3a\"],[0.8888888888888888,\"#fdca26\"],[1.0,\"#f0f921\"]]}],\"surface\":[{\"type\":\"surface\",\"colorbar\":{\"outlinewidth\":0,\"ticks\":\"\"},\"colorscale\":[[0.0,\"#0d0887\"],[0.1111111111111111,\"#46039f\"],[0.2222222222222222,\"#7201a8\"],[0.3333333333333333,\"#9c179e\"],[0.4444444444444444,\"#bd3786\"],[0.5555555555555556,\"#d8576b\"],[0.6666666666666666,\"#ed7953\"],[0.7777777777777778,\"#fb9f3a\"],[0.8888888888888888,\"#fdca26\"],[1.0,\"#f0f921\"]]}],\"mesh3d\":[{\"type\":\"mesh3d\",\"colorbar\":{\"outlinewidth\":0,\"ticks\":\"\"}}],\"scatter\":[{\"fillpattern\":{\"fillmode\":\"overlay\",\"size\":10,\"solidity\":0.2},\"type\":\"scatter\"}],\"parcoords\":[{\"type\":\"parcoords\",\"line\":{\"colorbar\":{\"outlinewidth\":0,\"ticks\":\"\"}}}],\"scatterpolargl\":[{\"type\":\"scatterpolargl\",\"marker\":{\"colorbar\":{\"outlinewidth\":0,\"ticks\":\"\"}}}],\"bar\":[{\"error_x\":{\"color\":\"#2a3f5f\"},\"error_y\":{\"color\":\"#2a3f5f\"},\"marker\":{\"line\":{\"color\":\"#E5ECF6\",\"width\":0.5},\"pattern\":{\"fillmode\":\"overlay\",\"size\":10,\"solidity\":0.2}},\"type\":\"bar\"}],\"scattergeo\":[{\"type\":\"scattergeo\",\"marker\":{\"colorbar\":{\"outlinewidth\":0,\"ticks\":\"\"}}}],\"scatterpolar\":[{\"type\":\"scatterpolar\",\"marker\":{\"colorbar\":{\"outlinewidth\":0,\"ticks\":\"\"}}}],\"histogram\":[{\"marker\":{\"pattern\":{\"fillmode\":\"overlay\",\"size\":10,\"solidity\":0.2}},\"type\":\"histogram\"}],\"scattergl\":[{\"type\":\"scattergl\",\"marker\":{\"colorbar\":{\"outlinewidth\":0,\"ticks\":\"\"}}}],\"scatter3d\":[{\"type\":\"scatter3d\",\"line\":{\"colorbar\":{\"outlinewidth\":0,\"ticks\":\"\"}},\"marker\":{\"colorbar\":{\"outlinewidth\":0,\"ticks\":\"\"}}}],\"scattermapbox\":[{\"type\":\"scattermapbox\",\"marker\":{\"colorbar\":{\"outlinewidth\":0,\"ticks\":\"\"}}}],\"scatterternary\":[{\"type\":\"scatterternary\",\"marker\":{\"colorbar\":{\"outlinewidth\":0,\"ticks\":\"\"}}}],\"scattercarpet\":[{\"type\":\"scattercarpet\",\"marker\":{\"colorbar\":{\"outlinewidth\":0,\"ticks\":\"\"}}}],\"carpet\":[{\"aaxis\":{\"endlinecolor\":\"#2a3f5f\",\"gridcolor\":\"white\",\"linecolor\":\"white\",\"minorgridcolor\":\"white\",\"startlinecolor\":\"#2a3f5f\"},\"baxis\":{\"endlinecolor\":\"#2a3f5f\",\"gridcolor\":\"white\",\"linecolor\":\"white\",\"minorgridcolor\":\"white\",\"startlinecolor\":\"#2a3f5f\"},\"type\":\"carpet\"}],\"table\":[{\"cells\":{\"fill\":{\"color\":\"#EBF0F8\"},\"line\":{\"color\":\"white\"}},\"header\":{\"fill\":{\"color\":\"#C8D4E3\"},\"line\":{\"color\":\"white\"}},\"type\":\"table\"}],\"barpolar\":[{\"marker\":{\"line\":{\"color\":\"#E5ECF6\",\"width\":0.5},\"pattern\":{\"fillmode\":\"overlay\",\"size\":10,\"solidity\":0.2}},\"type\":\"barpolar\"}],\"pie\":[{\"automargin\":true,\"type\":\"pie\"}]},\"layout\":{\"autotypenumbers\":\"strict\",\"colorway\":[\"#636efa\",\"#EF553B\",\"#00cc96\",\"#ab63fa\",\"#FFA15A\",\"#19d3f3\",\"#FF6692\",\"#B6E880\",\"#FF97FF\",\"#FECB52\"],\"font\":{\"color\":\"#2a3f5f\"},\"hovermode\":\"closest\",\"hoverlabel\":{\"align\":\"left\"},\"paper_bgcolor\":\"white\",\"plot_bgcolor\":\"#E5ECF6\",\"polar\":{\"bgcolor\":\"#E5ECF6\",\"angularaxis\":{\"gridcolor\":\"white\",\"linecolor\":\"white\",\"ticks\":\"\"},\"radialaxis\":{\"gridcolor\":\"white\",\"linecolor\":\"white\",\"ticks\":\"\"}},\"ternary\":{\"bgcolor\":\"#E5ECF6\",\"aaxis\":{\"gridcolor\":\"white\",\"linecolor\":\"white\",\"ticks\":\"\"},\"baxis\":{\"gridcolor\":\"white\",\"linecolor\":\"white\",\"ticks\":\"\"},\"caxis\":{\"gridcolor\":\"white\",\"linecolor\":\"white\",\"ticks\":\"\"}},\"coloraxis\":{\"colorbar\":{\"outlinewidth\":0,\"ticks\":\"\"}},\"colorscale\":{\"sequential\":[[0.0,\"#0d0887\"],[0.1111111111111111,\"#46039f\"],[0.2222222222222222,\"#7201a8\"],[0.3333333333333333,\"#9c179e\"],[0.4444444444444444,\"#bd3786\"],[0.5555555555555556,\"#d8576b\"],[0.6666666666666666,\"#ed7953\"],[0.7777777777777778,\"#fb9f3a\"],[0.8888888888888888,\"#fdca26\"],[1.0,\"#f0f921\"]],\"sequentialminus\":[[0.0,\"#0d0887\"],[0.1111111111111111,\"#46039f\"],[0.2222222222222222,\"#7201a8\"],[0.3333333333333333,\"#9c179e\"],[0.4444444444444444,\"#bd3786\"],[0.5555555555555556,\"#d8576b\"],[0.6666666666666666,\"#ed7953\"],[0.7777777777777778,\"#fb9f3a\"],[0.8888888888888888,\"#fdca26\"],[1.0,\"#f0f921\"]],\"diverging\":[[0,\"#8e0152\"],[0.1,\"#c51b7d\"],[0.2,\"#de77ae\"],[0.3,\"#f1b6da\"],[0.4,\"#fde0ef\"],[0.5,\"#f7f7f7\"],[0.6,\"#e6f5d0\"],[0.7,\"#b8e186\"],[0.8,\"#7fbc41\"],[0.9,\"#4d9221\"],[1,\"#276419\"]]},\"xaxis\":{\"gridcolor\":\"white\",\"linecolor\":\"white\",\"ticks\":\"\",\"title\":{\"standoff\":15},\"zerolinecolor\":\"white\",\"automargin\":true,\"zerolinewidth\":2},\"yaxis\":{\"gridcolor\":\"white\",\"linecolor\":\"white\",\"ticks\":\"\",\"title\":{\"standoff\":15},\"zerolinecolor\":\"white\",\"automargin\":true,\"zerolinewidth\":2},\"scene\":{\"xaxis\":{\"backgroundcolor\":\"#E5ECF6\",\"gridcolor\":\"white\",\"linecolor\":\"white\",\"showbackground\":true,\"ticks\":\"\",\"zerolinecolor\":\"white\",\"gridwidth\":2},\"yaxis\":{\"backgroundcolor\":\"#E5ECF6\",\"gridcolor\":\"white\",\"linecolor\":\"white\",\"showbackground\":true,\"ticks\":\"\",\"zerolinecolor\":\"white\",\"gridwidth\":2},\"zaxis\":{\"backgroundcolor\":\"#E5ECF6\",\"gridcolor\":\"white\",\"linecolor\":\"white\",\"showbackground\":true,\"ticks\":\"\",\"zerolinecolor\":\"white\",\"gridwidth\":2}},\"shapedefaults\":{\"line\":{\"color\":\"#2a3f5f\"}},\"annotationdefaults\":{\"arrowcolor\":\"#2a3f5f\",\"arrowhead\":0,\"arrowwidth\":1},\"geo\":{\"bgcolor\":\"white\",\"landcolor\":\"#E5ECF6\",\"subunitcolor\":\"white\",\"showland\":true,\"showlakes\":true,\"lakecolor\":\"white\"},\"title\":{\"x\":0.05},\"mapbox\":{\"style\":\"light\"}}},\"coloraxis\":{\"colorbar\":{\"title\":{\"text\":\"Electors\"}},\"colorscale\":[[0.0,\"rgb(103,0,31)\"],[0.1,\"rgb(178,24,43)\"],[0.2,\"rgb(214,96,77)\"],[0.3,\"rgb(244,165,130)\"],[0.4,\"rgb(253,219,199)\"],[0.5,\"rgb(247,247,247)\"],[0.6,\"rgb(209,229,240)\"],[0.7,\"rgb(146,197,222)\"],[0.8,\"rgb(67,147,195)\"],[0.9,\"rgb(33,102,172)\"],[1.0,\"rgb(5,48,97)\"]]},\"legend\":{\"tracegroupgap\":0},\"margin\":{\"t\":60},\"autosize\":true},                        {\"responsive\": true}                    ).then(function(){\n",
       "                            \n",
       "var gd = document.getElementById('51d1961d-e42c-4867-8022-ce1b88afad4a');\n",
       "var x = new MutationObserver(function (mutations, observer) {{\n",
       "        var display = window.getComputedStyle(gd).display;\n",
       "        if (!display || display === 'none') {{\n",
       "            console.log([gd, 'removed!']);\n",
       "            Plotly.purge(gd);\n",
       "            observer.disconnect();\n",
       "        }}\n",
       "}});\n",
       "\n",
       "// Listen for the removal of the full notebook cells\n",
       "var notebookContainer = gd.closest('#notebook-container');\n",
       "if (notebookContainer) {{\n",
       "    x.observe(notebookContainer, {childList: true});\n",
       "}}\n",
       "\n",
       "// Listen for the clearing of the current output cell\n",
       "var outputEl = gd.closest('.output');\n",
       "if (outputEl) {{\n",
       "    x.observe(outputEl, {childList: true});\n",
       "}}\n",
       "\n",
       "                        })                };                });            </script>        </div>"
      ]
     },
     "metadata": {},
     "output_type": "display_data"
    }
   ],
   "source": [
    "fig = px.sunburst(st_con_vt, path=['Constituency_Type', 'Constituency_Name'],\n",
    "                  values='Electors', color='Electors',  color_continuous_scale='RdBu',)\n",
    "fig.update_layout(autosize=True)\n",
    "fig.show()"
   ]
  },
  {
   "cell_type": "code",
   "execution_count": 77,
   "id": "215418c5-7b67-4576-8fbb-c04e8ee0cc23",
   "metadata": {},
   "outputs": [],
   "source": [
    "fig.write_html(\"Constituency_Type_No_Electors.html\")"
   ]
  },
  {
   "cell_type": "markdown",
   "id": "9600ef37-aa1f-4ec4-a24c-7731941066e1",
   "metadata": {},
   "source": [
    "# Which Parties Have the most Candidates for 2007, 2012, 2017 Election"
   ]
  },
  {
   "cell_type": "code",
   "execution_count": 151,
   "id": "4611e801-7502-442f-9d4d-cdba0ee44a05",
   "metadata": {},
   "outputs": [],
   "source": [
    "party_cnt_2007 = df_2007.groupby('Party').apply(lambda x:x['Constituency_Name'].count())"
   ]
  },
  {
   "cell_type": "code",
   "execution_count": 152,
   "id": "4cc4bb1c-6164-4714-a13d-ad9ffaa45e8d",
   "metadata": {},
   "outputs": [],
   "source": [
    "party_cnt_2012 = df_2012.groupby('Party').apply(lambda x:x['Constituency_Name'].count())\n",
    "party_cnt_2017 = df_2017.groupby('Party').apply(lambda x:x['Constituency_Name'].count())"
   ]
  },
  {
   "cell_type": "code",
   "execution_count": 153,
   "id": "afeeff83-be90-4e08-b43e-60a4e18cb20f",
   "metadata": {},
   "outputs": [
    {
     "data": {
      "text/plain": [
       "pandas.core.series.Series"
      ]
     },
     "execution_count": 153,
     "metadata": {},
     "output_type": "execute_result"
    }
   ],
   "source": [
    "type(party_cnt_2007)"
   ]
  },
  {
   "cell_type": "code",
   "execution_count": 154,
   "id": "19228eb6-7785-428c-94a0-5ed988c08ec9",
   "metadata": {},
   "outputs": [],
   "source": [
    "df_party_cnt_2007 = pd.DataFrame(party_cnt_2007, columns=['2007'])\n",
    "df_party_cnt_2012 = pd.DataFrame(party_cnt_2012, columns=['2012'])\n",
    "df_party_cnt_2017 = pd.DataFrame(party_cnt_2012, columns=['2017'])"
   ]
  },
  {
   "cell_type": "code",
   "execution_count": 163,
   "id": "8d92e2b7-057f-4bd8-b63b-f859fad1c812",
   "metadata": {},
   "outputs": [
    {
     "data": {
      "application/vnd.plotly.v1+json": {
       "config": {
        "plotlyServerURL": "https://plot.ly"
       },
       "data": [
        {
         "alignmentgroup": "True",
         "hovertemplate": "variable=2007<br>Party=%{x}<br>value=%{y}<extra></extra>",
         "legendgroup": "2007",
         "marker": {
          "color": "#636efa",
          "pattern": {
           "shape": ""
          }
         },
         "name": "2007",
         "offsetgroup": "2007",
         "orientation": "v",
         "showlegend": true,
         "textposition": "auto",
         "type": "bar",
         "x": [
          "ABCD(A)",
          "ABHM",
          "ABJS",
          "ABMSD",
          "ABRRP (P)",
          "ABRRP( P )",
          "ABRRP(P )",
          "ADSP",
          "APP",
          "BJNKP",
          "BJP",
          "BJSH",
          "BSP",
          "CPI",
          "CPI(ML)( L)",
          "CPM",
          "GGP",
          "GYVP",
          "IJP",
          "INC",
          "IND",
          "JD(U)",
          "JMP",
          "LJP",
          "LKPT",
          "LPSP",
          "LSWP",
          "NCP",
          "NLP",
          "NSCP",
          "NSMP",
          "PRBP",
          "RJD",
          "RKEP",
          "RPI(A)",
          "RPI(KH)",
          "RSDC",
          "SHS",
          "SJP(R)",
          "SP",
          "SPCP",
          "VHS"
         ],
         "xaxis": "x",
         "y": [
          5,
          3,
          10,
          5,
          1,
          2,
          8,
          4,
          1,
          1,
          182,
          37,
          166,
          2,
          7,
          1,
          1,
          1,
          11,
          173,
          480,
          35,
          2,
          12,
          1,
          1,
          10,
          10,
          1,
          5,
          4,
          7,
          2,
          1,
          10,
          1,
          1,
          38,
          1,
          21,
          1,
          3
         ],
         "yaxis": "y"
        }
       ],
       "layout": {
        "autosize": true,
        "barmode": "relative",
        "legend": {
         "title": {
          "text": "variable"
         },
         "tracegroupgap": 0
        },
        "template": {
         "data": {
          "bar": [
           {
            "error_x": {
             "color": "#2a3f5f"
            },
            "error_y": {
             "color": "#2a3f5f"
            },
            "marker": {
             "line": {
              "color": "#E5ECF6",
              "width": 0.5
             },
             "pattern": {
              "fillmode": "overlay",
              "size": 10,
              "solidity": 0.2
             }
            },
            "type": "bar"
           }
          ],
          "barpolar": [
           {
            "marker": {
             "line": {
              "color": "#E5ECF6",
              "width": 0.5
             },
             "pattern": {
              "fillmode": "overlay",
              "size": 10,
              "solidity": 0.2
             }
            },
            "type": "barpolar"
           }
          ],
          "carpet": [
           {
            "aaxis": {
             "endlinecolor": "#2a3f5f",
             "gridcolor": "white",
             "linecolor": "white",
             "minorgridcolor": "white",
             "startlinecolor": "#2a3f5f"
            },
            "baxis": {
             "endlinecolor": "#2a3f5f",
             "gridcolor": "white",
             "linecolor": "white",
             "minorgridcolor": "white",
             "startlinecolor": "#2a3f5f"
            },
            "type": "carpet"
           }
          ],
          "choropleth": [
           {
            "colorbar": {
             "outlinewidth": 0,
             "ticks": ""
            },
            "type": "choropleth"
           }
          ],
          "contour": [
           {
            "colorbar": {
             "outlinewidth": 0,
             "ticks": ""
            },
            "colorscale": [
             [
              0,
              "#0d0887"
             ],
             [
              0.1111111111111111,
              "#46039f"
             ],
             [
              0.2222222222222222,
              "#7201a8"
             ],
             [
              0.3333333333333333,
              "#9c179e"
             ],
             [
              0.4444444444444444,
              "#bd3786"
             ],
             [
              0.5555555555555556,
              "#d8576b"
             ],
             [
              0.6666666666666666,
              "#ed7953"
             ],
             [
              0.7777777777777778,
              "#fb9f3a"
             ],
             [
              0.8888888888888888,
              "#fdca26"
             ],
             [
              1,
              "#f0f921"
             ]
            ],
            "type": "contour"
           }
          ],
          "contourcarpet": [
           {
            "colorbar": {
             "outlinewidth": 0,
             "ticks": ""
            },
            "type": "contourcarpet"
           }
          ],
          "heatmap": [
           {
            "colorbar": {
             "outlinewidth": 0,
             "ticks": ""
            },
            "colorscale": [
             [
              0,
              "#0d0887"
             ],
             [
              0.1111111111111111,
              "#46039f"
             ],
             [
              0.2222222222222222,
              "#7201a8"
             ],
             [
              0.3333333333333333,
              "#9c179e"
             ],
             [
              0.4444444444444444,
              "#bd3786"
             ],
             [
              0.5555555555555556,
              "#d8576b"
             ],
             [
              0.6666666666666666,
              "#ed7953"
             ],
             [
              0.7777777777777778,
              "#fb9f3a"
             ],
             [
              0.8888888888888888,
              "#fdca26"
             ],
             [
              1,
              "#f0f921"
             ]
            ],
            "type": "heatmap"
           }
          ],
          "heatmapgl": [
           {
            "colorbar": {
             "outlinewidth": 0,
             "ticks": ""
            },
            "colorscale": [
             [
              0,
              "#0d0887"
             ],
             [
              0.1111111111111111,
              "#46039f"
             ],
             [
              0.2222222222222222,
              "#7201a8"
             ],
             [
              0.3333333333333333,
              "#9c179e"
             ],
             [
              0.4444444444444444,
              "#bd3786"
             ],
             [
              0.5555555555555556,
              "#d8576b"
             ],
             [
              0.6666666666666666,
              "#ed7953"
             ],
             [
              0.7777777777777778,
              "#fb9f3a"
             ],
             [
              0.8888888888888888,
              "#fdca26"
             ],
             [
              1,
              "#f0f921"
             ]
            ],
            "type": "heatmapgl"
           }
          ],
          "histogram": [
           {
            "marker": {
             "pattern": {
              "fillmode": "overlay",
              "size": 10,
              "solidity": 0.2
             }
            },
            "type": "histogram"
           }
          ],
          "histogram2d": [
           {
            "colorbar": {
             "outlinewidth": 0,
             "ticks": ""
            },
            "colorscale": [
             [
              0,
              "#0d0887"
             ],
             [
              0.1111111111111111,
              "#46039f"
             ],
             [
              0.2222222222222222,
              "#7201a8"
             ],
             [
              0.3333333333333333,
              "#9c179e"
             ],
             [
              0.4444444444444444,
              "#bd3786"
             ],
             [
              0.5555555555555556,
              "#d8576b"
             ],
             [
              0.6666666666666666,
              "#ed7953"
             ],
             [
              0.7777777777777778,
              "#fb9f3a"
             ],
             [
              0.8888888888888888,
              "#fdca26"
             ],
             [
              1,
              "#f0f921"
             ]
            ],
            "type": "histogram2d"
           }
          ],
          "histogram2dcontour": [
           {
            "colorbar": {
             "outlinewidth": 0,
             "ticks": ""
            },
            "colorscale": [
             [
              0,
              "#0d0887"
             ],
             [
              0.1111111111111111,
              "#46039f"
             ],
             [
              0.2222222222222222,
              "#7201a8"
             ],
             [
              0.3333333333333333,
              "#9c179e"
             ],
             [
              0.4444444444444444,
              "#bd3786"
             ],
             [
              0.5555555555555556,
              "#d8576b"
             ],
             [
              0.6666666666666666,
              "#ed7953"
             ],
             [
              0.7777777777777778,
              "#fb9f3a"
             ],
             [
              0.8888888888888888,
              "#fdca26"
             ],
             [
              1,
              "#f0f921"
             ]
            ],
            "type": "histogram2dcontour"
           }
          ],
          "mesh3d": [
           {
            "colorbar": {
             "outlinewidth": 0,
             "ticks": ""
            },
            "type": "mesh3d"
           }
          ],
          "parcoords": [
           {
            "line": {
             "colorbar": {
              "outlinewidth": 0,
              "ticks": ""
             }
            },
            "type": "parcoords"
           }
          ],
          "pie": [
           {
            "automargin": true,
            "type": "pie"
           }
          ],
          "scatter": [
           {
            "fillpattern": {
             "fillmode": "overlay",
             "size": 10,
             "solidity": 0.2
            },
            "type": "scatter"
           }
          ],
          "scatter3d": [
           {
            "line": {
             "colorbar": {
              "outlinewidth": 0,
              "ticks": ""
             }
            },
            "marker": {
             "colorbar": {
              "outlinewidth": 0,
              "ticks": ""
             }
            },
            "type": "scatter3d"
           }
          ],
          "scattercarpet": [
           {
            "marker": {
             "colorbar": {
              "outlinewidth": 0,
              "ticks": ""
             }
            },
            "type": "scattercarpet"
           }
          ],
          "scattergeo": [
           {
            "marker": {
             "colorbar": {
              "outlinewidth": 0,
              "ticks": ""
             }
            },
            "type": "scattergeo"
           }
          ],
          "scattergl": [
           {
            "marker": {
             "colorbar": {
              "outlinewidth": 0,
              "ticks": ""
             }
            },
            "type": "scattergl"
           }
          ],
          "scattermapbox": [
           {
            "marker": {
             "colorbar": {
              "outlinewidth": 0,
              "ticks": ""
             }
            },
            "type": "scattermapbox"
           }
          ],
          "scatterpolar": [
           {
            "marker": {
             "colorbar": {
              "outlinewidth": 0,
              "ticks": ""
             }
            },
            "type": "scatterpolar"
           }
          ],
          "scatterpolargl": [
           {
            "marker": {
             "colorbar": {
              "outlinewidth": 0,
              "ticks": ""
             }
            },
            "type": "scatterpolargl"
           }
          ],
          "scatterternary": [
           {
            "marker": {
             "colorbar": {
              "outlinewidth": 0,
              "ticks": ""
             }
            },
            "type": "scatterternary"
           }
          ],
          "surface": [
           {
            "colorbar": {
             "outlinewidth": 0,
             "ticks": ""
            },
            "colorscale": [
             [
              0,
              "#0d0887"
             ],
             [
              0.1111111111111111,
              "#46039f"
             ],
             [
              0.2222222222222222,
              "#7201a8"
             ],
             [
              0.3333333333333333,
              "#9c179e"
             ],
             [
              0.4444444444444444,
              "#bd3786"
             ],
             [
              0.5555555555555556,
              "#d8576b"
             ],
             [
              0.6666666666666666,
              "#ed7953"
             ],
             [
              0.7777777777777778,
              "#fb9f3a"
             ],
             [
              0.8888888888888888,
              "#fdca26"
             ],
             [
              1,
              "#f0f921"
             ]
            ],
            "type": "surface"
           }
          ],
          "table": [
           {
            "cells": {
             "fill": {
              "color": "#EBF0F8"
             },
             "line": {
              "color": "white"
             }
            },
            "header": {
             "fill": {
              "color": "#C8D4E3"
             },
             "line": {
              "color": "white"
             }
            },
            "type": "table"
           }
          ]
         },
         "layout": {
          "annotationdefaults": {
           "arrowcolor": "#2a3f5f",
           "arrowhead": 0,
           "arrowwidth": 1
          },
          "autotypenumbers": "strict",
          "coloraxis": {
           "colorbar": {
            "outlinewidth": 0,
            "ticks": ""
           }
          },
          "colorscale": {
           "diverging": [
            [
             0,
             "#8e0152"
            ],
            [
             0.1,
             "#c51b7d"
            ],
            [
             0.2,
             "#de77ae"
            ],
            [
             0.3,
             "#f1b6da"
            ],
            [
             0.4,
             "#fde0ef"
            ],
            [
             0.5,
             "#f7f7f7"
            ],
            [
             0.6,
             "#e6f5d0"
            ],
            [
             0.7,
             "#b8e186"
            ],
            [
             0.8,
             "#7fbc41"
            ],
            [
             0.9,
             "#4d9221"
            ],
            [
             1,
             "#276419"
            ]
           ],
           "sequential": [
            [
             0,
             "#0d0887"
            ],
            [
             0.1111111111111111,
             "#46039f"
            ],
            [
             0.2222222222222222,
             "#7201a8"
            ],
            [
             0.3333333333333333,
             "#9c179e"
            ],
            [
             0.4444444444444444,
             "#bd3786"
            ],
            [
             0.5555555555555556,
             "#d8576b"
            ],
            [
             0.6666666666666666,
             "#ed7953"
            ],
            [
             0.7777777777777778,
             "#fb9f3a"
            ],
            [
             0.8888888888888888,
             "#fdca26"
            ],
            [
             1,
             "#f0f921"
            ]
           ],
           "sequentialminus": [
            [
             0,
             "#0d0887"
            ],
            [
             0.1111111111111111,
             "#46039f"
            ],
            [
             0.2222222222222222,
             "#7201a8"
            ],
            [
             0.3333333333333333,
             "#9c179e"
            ],
            [
             0.4444444444444444,
             "#bd3786"
            ],
            [
             0.5555555555555556,
             "#d8576b"
            ],
            [
             0.6666666666666666,
             "#ed7953"
            ],
            [
             0.7777777777777778,
             "#fb9f3a"
            ],
            [
             0.8888888888888888,
             "#fdca26"
            ],
            [
             1,
             "#f0f921"
            ]
           ]
          },
          "colorway": [
           "#636efa",
           "#EF553B",
           "#00cc96",
           "#ab63fa",
           "#FFA15A",
           "#19d3f3",
           "#FF6692",
           "#B6E880",
           "#FF97FF",
           "#FECB52"
          ],
          "font": {
           "color": "#2a3f5f"
          },
          "geo": {
           "bgcolor": "white",
           "lakecolor": "white",
           "landcolor": "#E5ECF6",
           "showlakes": true,
           "showland": true,
           "subunitcolor": "white"
          },
          "hoverlabel": {
           "align": "left"
          },
          "hovermode": "closest",
          "mapbox": {
           "style": "light"
          },
          "paper_bgcolor": "white",
          "plot_bgcolor": "#E5ECF6",
          "polar": {
           "angularaxis": {
            "gridcolor": "white",
            "linecolor": "white",
            "ticks": ""
           },
           "bgcolor": "#E5ECF6",
           "radialaxis": {
            "gridcolor": "white",
            "linecolor": "white",
            "ticks": ""
           }
          },
          "scene": {
           "xaxis": {
            "backgroundcolor": "#E5ECF6",
            "gridcolor": "white",
            "gridwidth": 2,
            "linecolor": "white",
            "showbackground": true,
            "ticks": "",
            "zerolinecolor": "white"
           },
           "yaxis": {
            "backgroundcolor": "#E5ECF6",
            "gridcolor": "white",
            "gridwidth": 2,
            "linecolor": "white",
            "showbackground": true,
            "ticks": "",
            "zerolinecolor": "white"
           },
           "zaxis": {
            "backgroundcolor": "#E5ECF6",
            "gridcolor": "white",
            "gridwidth": 2,
            "linecolor": "white",
            "showbackground": true,
            "ticks": "",
            "zerolinecolor": "white"
           }
          },
          "shapedefaults": {
           "line": {
            "color": "#2a3f5f"
           }
          },
          "ternary": {
           "aaxis": {
            "gridcolor": "white",
            "linecolor": "white",
            "ticks": ""
           },
           "baxis": {
            "gridcolor": "white",
            "linecolor": "white",
            "ticks": ""
           },
           "bgcolor": "#E5ECF6",
           "caxis": {
            "gridcolor": "white",
            "linecolor": "white",
            "ticks": ""
           }
          },
          "title": {
           "x": 0.05
          },
          "xaxis": {
           "automargin": true,
           "gridcolor": "white",
           "linecolor": "white",
           "ticks": "",
           "title": {
            "standoff": 15
           },
           "zerolinecolor": "white",
           "zerolinewidth": 2
          },
          "yaxis": {
           "automargin": true,
           "gridcolor": "white",
           "linecolor": "white",
           "ticks": "",
           "title": {
            "standoff": 15
           },
           "zerolinecolor": "white",
           "zerolinewidth": 2
          }
         }
        },
        "title": {
         "text": "Parties with Most Number of Candidates in 2007"
        },
        "xaxis": {
         "anchor": "y",
         "autorange": true,
         "domain": [
          0,
          1
         ],
         "range": [
          -0.5,
          41.5
         ],
         "title": {
          "text": "Party"
         },
         "type": "category"
        },
        "yaxis": {
         "anchor": "x",
         "autorange": true,
         "domain": [
          0,
          1
         ],
         "range": [
          0,
          505.2631578947368
         ],
         "title": {
          "text": "value"
         },
         "type": "linear"
        }
       }
      },
      "image/png": "[encoded data removed]",
      "text/html": [
       "<div>                            <div id=\"e5211408-6120-4807-9d9b-377d341c39e0\" class=\"plotly-graph-div\" style=\"height:525px; width:100%;\"></div>            <script type=\"text/javascript\">                require([\"plotly\"], function(Plotly) {                    window.PLOTLYENV=window.PLOTLYENV || {};                                    if (document.getElementById(\"e5211408-6120-4807-9d9b-377d341c39e0\")) {                    Plotly.newPlot(                        \"e5211408-6120-4807-9d9b-377d341c39e0\",                        [{\"alignmentgroup\":\"True\",\"hovertemplate\":\"variable=2007<br>Party=%{x}<br>value=%{y}<extra></extra>\",\"legendgroup\":\"2007\",\"marker\":{\"color\":\"#636efa\",\"pattern\":{\"shape\":\"\"}},\"name\":\"2007\",\"offsetgroup\":\"2007\",\"orientation\":\"v\",\"showlegend\":true,\"textposition\":\"auto\",\"x\":[\"ABCD(A)\",\"ABHM\",\"ABJS\",\"ABMSD\",\"ABRRP (P)\",\"ABRRP( P )\",\"ABRRP(P )\",\"ADSP\",\"APP\",\"BJNKP\",\"BJP\",\"BJSH\",\"BSP\",\"CPI\",\"CPI(ML)( L)\",\"CPM\",\"GGP\",\"GYVP\",\"IJP\",\"INC\",\"IND\",\"JD(U)\",\"JMP\",\"LJP\",\"LKPT\",\"LPSP\",\"LSWP\",\"NCP\",\"NLP\",\"NSCP\",\"NSMP\",\"PRBP\",\"RJD\",\"RKEP\",\"RPI(A)\",\"RPI(KH)\",\"RSDC\",\"SHS\",\"SJP(R)\",\"SP\",\"SPCP\",\"VHS\"],\"xaxis\":\"x\",\"y\":[5,3,10,5,1,2,8,4,1,1,182,37,166,2,7,1,1,1,11,173,480,35,2,12,1,1,10,10,1,5,4,7,2,1,10,1,1,38,1,21,1,3],\"yaxis\":\"y\",\"type\":\"bar\"}],                        {\"template\":{\"data\":{\"histogram2dcontour\":[{\"type\":\"histogram2dcontour\",\"colorbar\":{\"outlinewidth\":0,\"ticks\":\"\"},\"colorscale\":[[0.0,\"#0d0887\"],[0.1111111111111111,\"#46039f\"],[0.2222222222222222,\"#7201a8\"],[0.3333333333333333,\"#9c179e\"],[0.4444444444444444,\"#bd3786\"],[0.5555555555555556,\"#d8576b\"],[0.6666666666666666,\"#ed7953\"],[0.7777777777777778,\"#fb9f3a\"],[0.8888888888888888,\"#fdca26\"],[1.0,\"#f0f921\"]]}],\"choropleth\":[{\"type\":\"choropleth\",\"colorbar\":{\"outlinewidth\":0,\"ticks\":\"\"}}],\"histogram2d\":[{\"type\":\"histogram2d\",\"colorbar\":{\"outlinewidth\":0,\"ticks\":\"\"},\"colorscale\":[[0.0,\"#0d0887\"],[0.1111111111111111,\"#46039f\"],[0.2222222222222222,\"#7201a8\"],[0.3333333333333333,\"#9c179e\"],[0.4444444444444444,\"#bd3786\"],[0.5555555555555556,\"#d8576b\"],[0.6666666666666666,\"#ed7953\"],[0.7777777777777778,\"#fb9f3a\"],[0.8888888888888888,\"#fdca26\"],[1.0,\"#f0f921\"]]}],\"heatmap\":[{\"type\":\"heatmap\",\"colorbar\":{\"outlinewidth\":0,\"ticks\":\"\"},\"colorscale\":[[0.0,\"#0d0887\"],[0.1111111111111111,\"#46039f\"],[0.2222222222222222,\"#7201a8\"],[0.3333333333333333,\"#9c179e\"],[0.4444444444444444,\"#bd3786\"],[0.5555555555555556,\"#d8576b\"],[0.6666666666666666,\"#ed7953\"],[0.7777777777777778,\"#fb9f3a\"],[0.8888888888888888,\"#fdca26\"],[1.0,\"#f0f921\"]]}],\"heatmapgl\":[{\"type\":\"heatmapgl\",\"colorbar\":{\"outlinewidth\":0,\"ticks\":\"\"},\"colorscale\":[[0.0,\"#0d0887\"],[0.1111111111111111,\"#46039f\"],[0.2222222222222222,\"#7201a8\"],[0.3333333333333333,\"#9c179e\"],[0.4444444444444444,\"#bd3786\"],[0.5555555555555556,\"#d8576b\"],[0.6666666666666666,\"#ed7953\"],[0.7777777777777778,\"#fb9f3a\"],[0.8888888888888888,\"#fdca26\"],[1.0,\"#f0f921\"]]}],\"contourcarpet\":[{\"type\":\"contourcarpet\",\"colorbar\":{\"outlinewidth\":0,\"ticks\":\"\"}}],\"contour\":[{\"type\":\"contour\",\"colorbar\":{\"outlinewidth\":0,\"ticks\":\"\"},\"colorscale\":[[0.0,\"#0d0887\"],[0.1111111111111111,\"#46039f\"],[0.2222222222222222,\"#7201a8\"],[0.3333333333333333,\"#9c179e\"],[0.4444444444444444,\"#bd3786\"],[0.5555555555555556,\"#d8576b\"],[0.6666666666666666,\"#ed7953\"],[0.7777777777777778,\"#fb9f3a\"],[0.8888888888888888,\"#fdca26\"],[1.0,\"#f0f921\"]]}],\"surface\":[{\"type\":\"surface\",\"colorbar\":{\"outlinewidth\":0,\"ticks\":\"\"},\"colorscale\":[[0.0,\"#0d0887\"],[0.1111111111111111,\"#46039f\"],[0.2222222222222222,\"#7201a8\"],[0.3333333333333333,\"#9c179e\"],[0.4444444444444444,\"#bd3786\"],[0.5555555555555556,\"#d8576b\"],[0.6666666666666666,\"#ed7953\"],[0.7777777777777778,\"#fb9f3a\"],[0.8888888888888888,\"#fdca26\"],[1.0,\"#f0f921\"]]}],\"mesh3d\":[{\"type\":\"mesh3d\",\"colorbar\":{\"outlinewidth\":0,\"ticks\":\"\"}}],\"scatter\":[{\"fillpattern\":{\"fillmode\":\"overlay\",\"size\":10,\"solidity\":0.2},\"type\":\"scatter\"}],\"parcoords\":[{\"type\":\"parcoords\",\"line\":{\"colorbar\":{\"outlinewidth\":0,\"ticks\":\"\"}}}],\"scatterpolargl\":[{\"type\":\"scatterpolargl\",\"marker\":{\"colorbar\":{\"outlinewidth\":0,\"ticks\":\"\"}}}],\"bar\":[{\"error_x\":{\"color\":\"#2a3f5f\"},\"error_y\":{\"color\":\"#2a3f5f\"},\"marker\":{\"line\":{\"color\":\"#E5ECF6\",\"width\":0.5},\"pattern\":{\"fillmode\":\"overlay\",\"size\":10,\"solidity\":0.2}},\"type\":\"bar\"}],\"scattergeo\":[{\"type\":\"scattergeo\",\"marker\":{\"colorbar\":{\"outlinewidth\":0,\"ticks\":\"\"}}}],\"scatterpolar\":[{\"type\":\"scatterpolar\",\"marker\":{\"colorbar\":{\"outlinewidth\":0,\"ticks\":\"\"}}}],\"histogram\":[{\"marker\":{\"pattern\":{\"fillmode\":\"overlay\",\"size\":10,\"solidity\":0.2}},\"type\":\"histogram\"}],\"scattergl\":[{\"type\":\"scattergl\",\"marker\":{\"colorbar\":{\"outlinewidth\":0,\"ticks\":\"\"}}}],\"scatter3d\":[{\"type\":\"scatter3d\",\"line\":{\"colorbar\":{\"outlinewidth\":0,\"ticks\":\"\"}},\"marker\":{\"colorbar\":{\"outlinewidth\":0,\"ticks\":\"\"}}}],\"scattermapbox\":[{\"type\":\"scattermapbox\",\"marker\":{\"colorbar\":{\"outlinewidth\":0,\"ticks\":\"\"}}}],\"scatterternary\":[{\"type\":\"scatterternary\",\"marker\":{\"colorbar\":{\"outlinewidth\":0,\"ticks\":\"\"}}}],\"scattercarpet\":[{\"type\":\"scattercarpet\",\"marker\":{\"colorbar\":{\"outlinewidth\":0,\"ticks\":\"\"}}}],\"carpet\":[{\"aaxis\":{\"endlinecolor\":\"#2a3f5f\",\"gridcolor\":\"white\",\"linecolor\":\"white\",\"minorgridcolor\":\"white\",\"startlinecolor\":\"#2a3f5f\"},\"baxis\":{\"endlinecolor\":\"#2a3f5f\",\"gridcolor\":\"white\",\"linecolor\":\"white\",\"minorgridcolor\":\"white\",\"startlinecolor\":\"#2a3f5f\"},\"type\":\"carpet\"}],\"table\":[{\"cells\":{\"fill\":{\"color\":\"#EBF0F8\"},\"line\":{\"color\":\"white\"}},\"header\":{\"fill\":{\"color\":\"#C8D4E3\"},\"line\":{\"color\":\"white\"}},\"type\":\"table\"}],\"barpolar\":[{\"marker\":{\"line\":{\"color\":\"#E5ECF6\",\"width\":0.5},\"pattern\":{\"fillmode\":\"overlay\",\"size\":10,\"solidity\":0.2}},\"type\":\"barpolar\"}],\"pie\":[{\"automargin\":true,\"type\":\"pie\"}]},\"layout\":{\"autotypenumbers\":\"strict\",\"colorway\":[\"#636efa\",\"#EF553B\",\"#00cc96\",\"#ab63fa\",\"#FFA15A\",\"#19d3f3\",\"#FF6692\",\"#B6E880\",\"#FF97FF\",\"#FECB52\"],\"font\":{\"color\":\"#2a3f5f\"},\"hovermode\":\"closest\",\"hoverlabel\":{\"align\":\"left\"},\"paper_bgcolor\":\"white\",\"plot_bgcolor\":\"#E5ECF6\",\"polar\":{\"bgcolor\":\"#E5ECF6\",\"angularaxis\":{\"gridcolor\":\"white\",\"linecolor\":\"white\",\"ticks\":\"\"},\"radialaxis\":{\"gridcolor\":\"white\",\"linecolor\":\"white\",\"ticks\":\"\"}},\"ternary\":{\"bgcolor\":\"#E5ECF6\",\"aaxis\":{\"gridcolor\":\"white\",\"linecolor\":\"white\",\"ticks\":\"\"},\"baxis\":{\"gridcolor\":\"white\",\"linecolor\":\"white\",\"ticks\":\"\"},\"caxis\":{\"gridcolor\":\"white\",\"linecolor\":\"white\",\"ticks\":\"\"}},\"coloraxis\":{\"colorbar\":{\"outlinewidth\":0,\"ticks\":\"\"}},\"colorscale\":{\"sequential\":[[0.0,\"#0d0887\"],[0.1111111111111111,\"#46039f\"],[0.2222222222222222,\"#7201a8\"],[0.3333333333333333,\"#9c179e\"],[0.4444444444444444,\"#bd3786\"],[0.5555555555555556,\"#d8576b\"],[0.6666666666666666,\"#ed7953\"],[0.7777777777777778,\"#fb9f3a\"],[0.8888888888888888,\"#fdca26\"],[1.0,\"#f0f921\"]],\"sequentialminus\":[[0.0,\"#0d0887\"],[0.1111111111111111,\"#46039f\"],[0.2222222222222222,\"#7201a8\"],[0.3333333333333333,\"#9c179e\"],[0.4444444444444444,\"#bd3786\"],[0.5555555555555556,\"#d8576b\"],[0.6666666666666666,\"#ed7953\"],[0.7777777777777778,\"#fb9f3a\"],[0.8888888888888888,\"#fdca26\"],[1.0,\"#f0f921\"]],\"diverging\":[[0,\"#8e0152\"],[0.1,\"#c51b7d\"],[0.2,\"#de77ae\"],[0.3,\"#f1b6da\"],[0.4,\"#fde0ef\"],[0.5,\"#f7f7f7\"],[0.6,\"#e6f5d0\"],[0.7,\"#b8e186\"],[0.8,\"#7fbc41\"],[0.9,\"#4d9221\"],[1,\"#276419\"]]},\"xaxis\":{\"gridcolor\":\"white\",\"linecolor\":\"white\",\"ticks\":\"\",\"title\":{\"standoff\":15},\"zerolinecolor\":\"white\",\"automargin\":true,\"zerolinewidth\":2},\"yaxis\":{\"gridcolor\":\"white\",\"linecolor\":\"white\",\"ticks\":\"\",\"title\":{\"standoff\":15},\"zerolinecolor\":\"white\",\"automargin\":true,\"zerolinewidth\":2},\"scene\":{\"xaxis\":{\"backgroundcolor\":\"#E5ECF6\",\"gridcolor\":\"white\",\"linecolor\":\"white\",\"showbackground\":true,\"ticks\":\"\",\"zerolinecolor\":\"white\",\"gridwidth\":2},\"yaxis\":{\"backgroundcolor\":\"#E5ECF6\",\"gridcolor\":\"white\",\"linecolor\":\"white\",\"showbackground\":true,\"ticks\":\"\",\"zerolinecolor\":\"white\",\"gridwidth\":2},\"zaxis\":{\"backgroundcolor\":\"#E5ECF6\",\"gridcolor\":\"white\",\"linecolor\":\"white\",\"showbackground\":true,\"ticks\":\"\",\"zerolinecolor\":\"white\",\"gridwidth\":2}},\"shapedefaults\":{\"line\":{\"color\":\"#2a3f5f\"}},\"annotationdefaults\":{\"arrowcolor\":\"#2a3f5f\",\"arrowhead\":0,\"arrowwidth\":1},\"geo\":{\"bgcolor\":\"white\",\"landcolor\":\"#E5ECF6\",\"subunitcolor\":\"white\",\"showland\":true,\"showlakes\":true,\"lakecolor\":\"white\"},\"title\":{\"x\":0.05},\"mapbox\":{\"style\":\"light\"}}},\"xaxis\":{\"anchor\":\"y\",\"domain\":[0.0,1.0],\"title\":{\"text\":\"Party\"}},\"yaxis\":{\"anchor\":\"x\",\"domain\":[0.0,1.0],\"title\":{\"text\":\"value\"}},\"legend\":{\"title\":{\"text\":\"variable\"},\"tracegroupgap\":0},\"title\":{\"text\":\"Parties with Most Number of Candidates in 2007\"},\"barmode\":\"relative\"},                        {\"responsive\": true}                    ).then(function(){\n",
       "                            \n",
       "var gd = document.getElementById('e5211408-6120-4807-9d9b-377d341c39e0');\n",
       "var x = new MutationObserver(function (mutations, observer) {{\n",
       "        var display = window.getComputedStyle(gd).display;\n",
       "        if (!display || display === 'none') {{\n",
       "            console.log([gd, 'removed!']);\n",
       "            Plotly.purge(gd);\n",
       "            observer.disconnect();\n",
       "        }}\n",
       "}});\n",
       "\n",
       "// Listen for the removal of the full notebook cells\n",
       "var notebookContainer = gd.closest('#notebook-container');\n",
       "if (notebookContainer) {{\n",
       "    x.observe(notebookContainer, {childList: true});\n",
       "}}\n",
       "\n",
       "// Listen for the clearing of the current output cell\n",
       "var outputEl = gd.closest('.output');\n",
       "if (outputEl) {{\n",
       "    x.observe(outputEl, {childList: true});\n",
       "}}\n",
       "\n",
       "                        })                };                });            </script>        </div>"
      ]
     },
     "metadata": {},
     "output_type": "display_data"
    },
    {
     "data": {
      "application/vnd.plotly.v1+json": {
       "config": {
        "plotlyServerURL": "https://plot.ly"
       },
       "data": [
        {
         "alignmentgroup": "True",
         "hovertemplate": "variable=2012<br>Party=%{x}<br>value=%{y}<extra></extra>",
         "legendgroup": "2012",
         "marker": {
          "color": "#636efa",
          "pattern": {
           "shape": ""
          }
         },
         "name": "2012",
         "offsetgroup": "2012",
         "orientation": "v",
         "showlegend": true,
         "textposition": "auto",
         "type": "bar",
         "x": [
          "ABJS",
          "ABMSD",
          "AJKP",
          "ASP",
          "BHDC",
          "BHJD",
          "BJP",
          "BNJD",
          "BSDL",
          "BSP",
          "CPI",
          "CPI(ML)(L)",
          "CPM",
          "DBSP",
          "GPP",
          "HND",
          "IF",
          "IJP",
          "INC",
          "IND",
          "JD(U)",
          "LJP",
          "LORP",
          "LSWP",
          "MAJP",
          "NBN",
          "NCP",
          "NSM",
          "PAP",
          "RKEP",
          "RKSP",
          "RLD",
          "RPI(A)",
          "RSP(S)",
          "RSPS",
          "SP",
          "SP(I)",
          "SUCI",
          "SVPP",
          "VHS",
          "YUS"
         ],
         "xaxis": "x",
         "y": [
          1,
          3,
          3,
          1,
          1,
          2,
          183,
          4,
          1,
          163,
          3,
          4,
          9,
          4,
          167,
          6,
          9,
          8,
          177,
          671,
          65,
          44,
          5,
          2,
          3,
          5,
          12,
          1,
          3,
          2,
          5,
          3,
          14,
          4,
          1,
          67,
          2,
          5,
          3,
          2,
          3
         ],
         "yaxis": "y"
        }
       ],
       "layout": {
        "autosize": true,
        "barmode": "relative",
        "legend": {
         "title": {
          "text": "variable"
         },
         "tracegroupgap": 0
        },
        "template": {
         "data": {
          "bar": [
           {
            "error_x": {
             "color": "#2a3f5f"
            },
            "error_y": {
             "color": "#2a3f5f"
            },
            "marker": {
             "line": {
              "color": "#E5ECF6",
              "width": 0.5
             },
             "pattern": {
              "fillmode": "overlay",
              "size": 10,
              "solidity": 0.2
             }
            },
            "type": "bar"
           }
          ],
          "barpolar": [
           {
            "marker": {
             "line": {
              "color": "#E5ECF6",
              "width": 0.5
             },
             "pattern": {
              "fillmode": "overlay",
              "size": 10,
              "solidity": 0.2
             }
            },
            "type": "barpolar"
           }
          ],
          "carpet": [
           {
            "aaxis": {
             "endlinecolor": "#2a3f5f",
             "gridcolor": "white",
             "linecolor": "white",
             "minorgridcolor": "white",
             "startlinecolor": "#2a3f5f"
            },
            "baxis": {
             "endlinecolor": "#2a3f5f",
             "gridcolor": "white",
             "linecolor": "white",
             "minorgridcolor": "white",
             "startlinecolor": "#2a3f5f"
            },
            "type": "carpet"
           }
          ],
          "choropleth": [
           {
            "colorbar": {
             "outlinewidth": 0,
             "ticks": ""
            },
            "type": "choropleth"
           }
          ],
          "contour": [
           {
            "colorbar": {
             "outlinewidth": 0,
             "ticks": ""
            },
            "colorscale": [
             [
              0,
              "#0d0887"
             ],
             [
              0.1111111111111111,
              "#46039f"
             ],
             [
              0.2222222222222222,
              "#7201a8"
             ],
             [
              0.3333333333333333,
              "#9c179e"
             ],
             [
              0.4444444444444444,
              "#bd3786"
             ],
             [
              0.5555555555555556,
              "#d8576b"
             ],
             [
              0.6666666666666666,
              "#ed7953"
             ],
             [
              0.7777777777777778,
              "#fb9f3a"
             ],
             [
              0.8888888888888888,
              "#fdca26"
             ],
             [
              1,
              "#f0f921"
             ]
            ],
            "type": "contour"
           }
          ],
          "contourcarpet": [
           {
            "colorbar": {
             "outlinewidth": 0,
             "ticks": ""
            },
            "type": "contourcarpet"
           }
          ],
          "heatmap": [
           {
            "colorbar": {
             "outlinewidth": 0,
             "ticks": ""
            },
            "colorscale": [
             [
              0,
              "#0d0887"
             ],
             [
              0.1111111111111111,
              "#46039f"
             ],
             [
              0.2222222222222222,
              "#7201a8"
             ],
             [
              0.3333333333333333,
              "#9c179e"
             ],
             [
              0.4444444444444444,
              "#bd3786"
             ],
             [
              0.5555555555555556,
              "#d8576b"
             ],
             [
              0.6666666666666666,
              "#ed7953"
             ],
             [
              0.7777777777777778,
              "#fb9f3a"
             ],
             [
              0.8888888888888888,
              "#fdca26"
             ],
             [
              1,
              "#f0f921"
             ]
            ],
            "type": "heatmap"
           }
          ],
          "heatmapgl": [
           {
            "colorbar": {
             "outlinewidth": 0,
             "ticks": ""
            },
            "colorscale": [
             [
              0,
              "#0d0887"
             ],
             [
              0.1111111111111111,
              "#46039f"
             ],
             [
              0.2222222222222222,
              "#7201a8"
             ],
             [
              0.3333333333333333,
              "#9c179e"
             ],
             [
              0.4444444444444444,
              "#bd3786"
             ],
             [
              0.5555555555555556,
              "#d8576b"
             ],
             [
              0.6666666666666666,
              "#ed7953"
             ],
             [
              0.7777777777777778,
              "#fb9f3a"
             ],
             [
              0.8888888888888888,
              "#fdca26"
             ],
             [
              1,
              "#f0f921"
             ]
            ],
            "type": "heatmapgl"
           }
          ],
          "histogram": [
           {
            "marker": {
             "pattern": {
              "fillmode": "overlay",
              "size": 10,
              "solidity": 0.2
             }
            },
            "type": "histogram"
           }
          ],
          "histogram2d": [
           {
            "colorbar": {
             "outlinewidth": 0,
             "ticks": ""
            },
            "colorscale": [
             [
              0,
              "#0d0887"
             ],
             [
              0.1111111111111111,
              "#46039f"
             ],
             [
              0.2222222222222222,
              "#7201a8"
             ],
             [
              0.3333333333333333,
              "#9c179e"
             ],
             [
              0.4444444444444444,
              "#bd3786"
             ],
             [
              0.5555555555555556,
              "#d8576b"
             ],
             [
              0.6666666666666666,
              "#ed7953"
             ],
             [
              0.7777777777777778,
              "#fb9f3a"
             ],
             [
              0.8888888888888888,
              "#fdca26"
             ],
             [
              1,
              "#f0f921"
             ]
            ],
            "type": "histogram2d"
           }
          ],
          "histogram2dcontour": [
           {
            "colorbar": {
             "outlinewidth": 0,
             "ticks": ""
            },
            "colorscale": [
             [
              0,
              "#0d0887"
             ],
             [
              0.1111111111111111,
              "#46039f"
             ],
             [
              0.2222222222222222,
              "#7201a8"
             ],
             [
              0.3333333333333333,
              "#9c179e"
             ],
             [
              0.4444444444444444,
              "#bd3786"
             ],
             [
              0.5555555555555556,
              "#d8576b"
             ],
             [
              0.6666666666666666,
              "#ed7953"
             ],
             [
              0.7777777777777778,
              "#fb9f3a"
             ],
             [
              0.8888888888888888,
              "#fdca26"
             ],
             [
              1,
              "#f0f921"
             ]
            ],
            "type": "histogram2dcontour"
           }
          ],
          "mesh3d": [
           {
            "colorbar": {
             "outlinewidth": 0,
             "ticks": ""
            },
            "type": "mesh3d"
           }
          ],
          "parcoords": [
           {
            "line": {
             "colorbar": {
              "outlinewidth": 0,
              "ticks": ""
             }
            },
            "type": "parcoords"
           }
          ],
          "pie": [
           {
            "automargin": true,
            "type": "pie"
           }
          ],
          "scatter": [
           {
            "fillpattern": {
             "fillmode": "overlay",
             "size": 10,
             "solidity": 0.2
            },
            "type": "scatter"
           }
          ],
          "scatter3d": [
           {
            "line": {
             "colorbar": {
              "outlinewidth": 0,
              "ticks": ""
             }
            },
            "marker": {
             "colorbar": {
              "outlinewidth": 0,
              "ticks": ""
             }
            },
            "type": "scatter3d"
           }
          ],
          "scattercarpet": [
           {
            "marker": {
             "colorbar": {
              "outlinewidth": 0,
              "ticks": ""
             }
            },
            "type": "scattercarpet"
           }
          ],
          "scattergeo": [
           {
            "marker": {
             "colorbar": {
              "outlinewidth": 0,
              "ticks": ""
             }
            },
            "type": "scattergeo"
           }
          ],
          "scattergl": [
           {
            "marker": {
             "colorbar": {
              "outlinewidth": 0,
              "ticks": ""
             }
            },
            "type": "scattergl"
           }
          ],
          "scattermapbox": [
           {
            "marker": {
             "colorbar": {
              "outlinewidth": 0,
              "ticks": ""
             }
            },
            "type": "scattermapbox"
           }
          ],
          "scatterpolar": [
           {
            "marker": {
             "colorbar": {
              "outlinewidth": 0,
              "ticks": ""
             }
            },
            "type": "scatterpolar"
           }
          ],
          "scatterpolargl": [
           {
            "marker": {
             "colorbar": {
              "outlinewidth": 0,
              "ticks": ""
             }
            },
            "type": "scatterpolargl"
           }
          ],
          "scatterternary": [
           {
            "marker": {
             "colorbar": {
              "outlinewidth": 0,
              "ticks": ""
             }
            },
            "type": "scatterternary"
           }
          ],
          "surface": [
           {
            "colorbar": {
             "outlinewidth": 0,
             "ticks": ""
            },
            "colorscale": [
             [
              0,
              "#0d0887"
             ],
             [
              0.1111111111111111,
              "#46039f"
             ],
             [
              0.2222222222222222,
              "#7201a8"
             ],
             [
              0.3333333333333333,
              "#9c179e"
             ],
             [
              0.4444444444444444,
              "#bd3786"
             ],
             [
              0.5555555555555556,
              "#d8576b"
             ],
             [
              0.6666666666666666,
              "#ed7953"
             ],
             [
              0.7777777777777778,
              "#fb9f3a"
             ],
             [
              0.8888888888888888,
              "#fdca26"
             ],
             [
              1,
              "#f0f921"
             ]
            ],
            "type": "surface"
           }
          ],
          "table": [
           {
            "cells": {
             "fill": {
              "color": "#EBF0F8"
             },
             "line": {
              "color": "white"
             }
            },
            "header": {
             "fill": {
              "color": "#C8D4E3"
             },
             "line": {
              "color": "white"
             }
            },
            "type": "table"
           }
          ]
         },
         "layout": {
          "annotationdefaults": {
           "arrowcolor": "#2a3f5f",
           "arrowhead": 0,
           "arrowwidth": 1
          },
          "autotypenumbers": "strict",
          "coloraxis": {
           "colorbar": {
            "outlinewidth": 0,
            "ticks": ""
           }
          },
          "colorscale": {
           "diverging": [
            [
             0,
             "#8e0152"
            ],
            [
             0.1,
             "#c51b7d"
            ],
            [
             0.2,
             "#de77ae"
            ],
            [
             0.3,
             "#f1b6da"
            ],
            [
             0.4,
             "#fde0ef"
            ],
            [
             0.5,
             "#f7f7f7"
            ],
            [
             0.6,
             "#e6f5d0"
            ],
            [
             0.7,
             "#b8e186"
            ],
            [
             0.8,
             "#7fbc41"
            ],
            [
             0.9,
             "#4d9221"
            ],
            [
             1,
             "#276419"
            ]
           ],
           "sequential": [
            [
             0,
             "#0d0887"
            ],
            [
             0.1111111111111111,
             "#46039f"
            ],
            [
             0.2222222222222222,
             "#7201a8"
            ],
            [
             0.3333333333333333,
             "#9c179e"
            ],
            [
             0.4444444444444444,
             "#bd3786"
            ],
            [
             0.5555555555555556,
             "#d8576b"
            ],
            [
             0.6666666666666666,
             "#ed7953"
            ],
            [
             0.7777777777777778,
             "#fb9f3a"
            ],
            [
             0.8888888888888888,
             "#fdca26"
            ],
            [
             1,
             "#f0f921"
            ]
           ],
           "sequentialminus": [
            [
             0,
             "#0d0887"
            ],
            [
             0.1111111111111111,
             "#46039f"
            ],
            [
             0.2222222222222222,
             "#7201a8"
            ],
            [
             0.3333333333333333,
             "#9c179e"
            ],
            [
             0.4444444444444444,
             "#bd3786"
            ],
            [
             0.5555555555555556,
             "#d8576b"
            ],
            [
             0.6666666666666666,
             "#ed7953"
            ],
            [
             0.7777777777777778,
             "#fb9f3a"
            ],
            [
             0.8888888888888888,
             "#fdca26"
            ],
            [
             1,
             "#f0f921"
            ]
           ]
          },
          "colorway": [
           "#636efa",
           "#EF553B",
           "#00cc96",
           "#ab63fa",
           "#FFA15A",
           "#19d3f3",
           "#FF6692",
           "#B6E880",
           "#FF97FF",
           "#FECB52"
          ],
          "font": {
           "color": "#2a3f5f"
          },
          "geo": {
           "bgcolor": "white",
           "lakecolor": "white",
           "landcolor": "#E5ECF6",
           "showlakes": true,
           "showland": true,
           "subunitcolor": "white"
          },
          "hoverlabel": {
           "align": "left"
          },
          "hovermode": "closest",
          "mapbox": {
           "style": "light"
          },
          "paper_bgcolor": "white",
          "plot_bgcolor": "#E5ECF6",
          "polar": {
           "angularaxis": {
            "gridcolor": "white",
            "linecolor": "white",
            "ticks": ""
           },
           "bgcolor": "#E5ECF6",
           "radialaxis": {
            "gridcolor": "white",
            "linecolor": "white",
            "ticks": ""
           }
          },
          "scene": {
           "xaxis": {
            "backgroundcolor": "#E5ECF6",
            "gridcolor": "white",
            "gridwidth": 2,
            "linecolor": "white",
            "showbackground": true,
            "ticks": "",
            "zerolinecolor": "white"
           },
           "yaxis": {
            "backgroundcolor": "#E5ECF6",
            "gridcolor": "white",
            "gridwidth": 2,
            "linecolor": "white",
            "showbackground": true,
            "ticks": "",
            "zerolinecolor": "white"
           },
           "zaxis": {
            "backgroundcolor": "#E5ECF6",
            "gridcolor": "white",
            "gridwidth": 2,
            "linecolor": "white",
            "showbackground": true,
            "ticks": "",
            "zerolinecolor": "white"
           }
          },
          "shapedefaults": {
           "line": {
            "color": "#2a3f5f"
           }
          },
          "ternary": {
           "aaxis": {
            "gridcolor": "white",
            "linecolor": "white",
            "ticks": ""
           },
           "baxis": {
            "gridcolor": "white",
            "linecolor": "white",
            "ticks": ""
           },
           "bgcolor": "#E5ECF6",
           "caxis": {
            "gridcolor": "white",
            "linecolor": "white",
            "ticks": ""
           }
          },
          "title": {
           "x": 0.05
          },
          "xaxis": {
           "automargin": true,
           "gridcolor": "white",
           "linecolor": "white",
           "ticks": "",
           "title": {
            "standoff": 15
           },
           "zerolinecolor": "white",
           "zerolinewidth": 2
          },
          "yaxis": {
           "automargin": true,
           "gridcolor": "white",
           "linecolor": "white",
           "ticks": "",
           "title": {
            "standoff": 15
           },
           "zerolinecolor": "white",
           "zerolinewidth": 2
          }
         }
        },
        "title": {
         "text": "Parties with Most Number of Candidates in 2012"
        },
        "xaxis": {
         "anchor": "y",
         "autorange": true,
         "domain": [
          0,
          1
         ],
         "range": [
          -0.5,
          40.5
         ],
         "title": {
          "text": "Party"
         },
         "type": "category"
        },
        "yaxis": {
         "anchor": "x",
         "autorange": true,
         "domain": [
          0,
          1
         ],
         "range": [
          0,
          706.3157894736842
         ],
         "title": {
          "text": "value"
         },
         "type": "linear"
        }
       }
      },
      "image/png": "[encoded data removed]",
      "text/html": [
       "<div>                            <div id=\"55572f49-e170-4012-818b-ac7078bfff6d\" class=\"plotly-graph-div\" style=\"height:525px; width:100%;\"></div>            <script type=\"text/javascript\">                require([\"plotly\"], function(Plotly) {                    window.PLOTLYENV=window.PLOTLYENV || {};                                    if (document.getElementById(\"55572f49-e170-4012-818b-ac7078bfff6d\")) {                    Plotly.newPlot(                        \"55572f49-e170-4012-818b-ac7078bfff6d\",                        [{\"alignmentgroup\":\"True\",\"hovertemplate\":\"variable=2012<br>Party=%{x}<br>value=%{y}<extra></extra>\",\"legendgroup\":\"2012\",\"marker\":{\"color\":\"#636efa\",\"pattern\":{\"shape\":\"\"}},\"name\":\"2012\",\"offsetgroup\":\"2012\",\"orientation\":\"v\",\"showlegend\":true,\"textposition\":\"auto\",\"x\":[\"ABJS\",\"ABMSD\",\"AJKP\",\"ASP\",\"BHDC\",\"BHJD\",\"BJP\",\"BNJD\",\"BSDL\",\"BSP\",\"CPI\",\"CPI(ML)(L)\",\"CPM\",\"DBSP\",\"GPP\",\"HND\",\"IF\",\"IJP\",\"INC\",\"IND\",\"JD(U)\",\"LJP\",\"LORP\",\"LSWP\",\"MAJP\",\"NBN\",\"NCP\",\"NSM\",\"PAP\",\"RKEP\",\"RKSP\",\"RLD\",\"RPI(A)\",\"RSP(S)\",\"RSPS\",\"SP\",\"SP(I)\",\"SUCI\",\"SVPP\",\"VHS\",\"YUS\"],\"xaxis\":\"x\",\"y\":[1,3,3,1,1,2,183,4,1,163,3,4,9,4,167,6,9,8,177,671,65,44,5,2,3,5,12,1,3,2,5,3,14,4,1,67,2,5,3,2,3],\"yaxis\":\"y\",\"type\":\"bar\"}],                        {\"template\":{\"data\":{\"histogram2dcontour\":[{\"type\":\"histogram2dcontour\",\"colorbar\":{\"outlinewidth\":0,\"ticks\":\"\"},\"colorscale\":[[0.0,\"#0d0887\"],[0.1111111111111111,\"#46039f\"],[0.2222222222222222,\"#7201a8\"],[0.3333333333333333,\"#9c179e\"],[0.4444444444444444,\"#bd3786\"],[0.5555555555555556,\"#d8576b\"],[0.6666666666666666,\"#ed7953\"],[0.7777777777777778,\"#fb9f3a\"],[0.8888888888888888,\"#fdca26\"],[1.0,\"#f0f921\"]]}],\"choropleth\":[{\"type\":\"choropleth\",\"colorbar\":{\"outlinewidth\":0,\"ticks\":\"\"}}],\"histogram2d\":[{\"type\":\"histogram2d\",\"colorbar\":{\"outlinewidth\":0,\"ticks\":\"\"},\"colorscale\":[[0.0,\"#0d0887\"],[0.1111111111111111,\"#46039f\"],[0.2222222222222222,\"#7201a8\"],[0.3333333333333333,\"#9c179e\"],[0.4444444444444444,\"#bd3786\"],[0.5555555555555556,\"#d8576b\"],[0.6666666666666666,\"#ed7953\"],[0.7777777777777778,\"#fb9f3a\"],[0.8888888888888888,\"#fdca26\"],[1.0,\"#f0f921\"]]}],\"heatmap\":[{\"type\":\"heatmap\",\"colorbar\":{\"outlinewidth\":0,\"ticks\":\"\"},\"colorscale\":[[0.0,\"#0d0887\"],[0.1111111111111111,\"#46039f\"],[0.2222222222222222,\"#7201a8\"],[0.3333333333333333,\"#9c179e\"],[0.4444444444444444,\"#bd3786\"],[0.5555555555555556,\"#d8576b\"],[0.6666666666666666,\"#ed7953\"],[0.7777777777777778,\"#fb9f3a\"],[0.8888888888888888,\"#fdca26\"],[1.0,\"#f0f921\"]]}],\"heatmapgl\":[{\"type\":\"heatmapgl\",\"colorbar\":{\"outlinewidth\":0,\"ticks\":\"\"},\"colorscale\":[[0.0,\"#0d0887\"],[0.1111111111111111,\"#46039f\"],[0.2222222222222222,\"#7201a8\"],[0.3333333333333333,\"#9c179e\"],[0.4444444444444444,\"#bd3786\"],[0.5555555555555556,\"#d8576b\"],[0.6666666666666666,\"#ed7953\"],[0.7777777777777778,\"#fb9f3a\"],[0.8888888888888888,\"#fdca26\"],[1.0,\"#f0f921\"]]}],\"contourcarpet\":[{\"type\":\"contourcarpet\",\"colorbar\":{\"outlinewidth\":0,\"ticks\":\"\"}}],\"contour\":[{\"type\":\"contour\",\"colorbar\":{\"outlinewidth\":0,\"ticks\":\"\"},\"colorscale\":[[0.0,\"#0d0887\"],[0.1111111111111111,\"#46039f\"],[0.2222222222222222,\"#7201a8\"],[0.3333333333333333,\"#9c179e\"],[0.4444444444444444,\"#bd3786\"],[0.5555555555555556,\"#d8576b\"],[0.6666666666666666,\"#ed7953\"],[0.7777777777777778,\"#fb9f3a\"],[0.8888888888888888,\"#fdca26\"],[1.0,\"#f0f921\"]]}],\"surface\":[{\"type\":\"surface\",\"colorbar\":{\"outlinewidth\":0,\"ticks\":\"\"},\"colorscale\":[[0.0,\"#0d0887\"],[0.1111111111111111,\"#46039f\"],[0.2222222222222222,\"#7201a8\"],[0.3333333333333333,\"#9c179e\"],[0.4444444444444444,\"#bd3786\"],[0.5555555555555556,\"#d8576b\"],[0.6666666666666666,\"#ed7953\"],[0.7777777777777778,\"#fb9f3a\"],[0.8888888888888888,\"#fdca26\"],[1.0,\"#f0f921\"]]}],\"mesh3d\":[{\"type\":\"mesh3d\",\"colorbar\":{\"outlinewidth\":0,\"ticks\":\"\"}}],\"scatter\":[{\"fillpattern\":{\"fillmode\":\"overlay\",\"size\":10,\"solidity\":0.2},\"type\":\"scatter\"}],\"parcoords\":[{\"type\":\"parcoords\",\"line\":{\"colorbar\":{\"outlinewidth\":0,\"ticks\":\"\"}}}],\"scatterpolargl\":[{\"type\":\"scatterpolargl\",\"marker\":{\"colorbar\":{\"outlinewidth\":0,\"ticks\":\"\"}}}],\"bar\":[{\"error_x\":{\"color\":\"#2a3f5f\"},\"error_y\":{\"color\":\"#2a3f5f\"},\"marker\":{\"line\":{\"color\":\"#E5ECF6\",\"width\":0.5},\"pattern\":{\"fillmode\":\"overlay\",\"size\":10,\"solidity\":0.2}},\"type\":\"bar\"}],\"scattergeo\":[{\"type\":\"scattergeo\",\"marker\":{\"colorbar\":{\"outlinewidth\":0,\"ticks\":\"\"}}}],\"scatterpolar\":[{\"type\":\"scatterpolar\",\"marker\":{\"colorbar\":{\"outlinewidth\":0,\"ticks\":\"\"}}}],\"histogram\":[{\"marker\":{\"pattern\":{\"fillmode\":\"overlay\",\"size\":10,\"solidity\":0.2}},\"type\":\"histogram\"}],\"scattergl\":[{\"type\":\"scattergl\",\"marker\":{\"colorbar\":{\"outlinewidth\":0,\"ticks\":\"\"}}}],\"scatter3d\":[{\"type\":\"scatter3d\",\"line\":{\"colorbar\":{\"outlinewidth\":0,\"ticks\":\"\"}},\"marker\":{\"colorbar\":{\"outlinewidth\":0,\"ticks\":\"\"}}}],\"scattermapbox\":[{\"type\":\"scattermapbox\",\"marker\":{\"colorbar\":{\"outlinewidth\":0,\"ticks\":\"\"}}}],\"scatterternary\":[{\"type\":\"scatterternary\",\"marker\":{\"colorbar\":{\"outlinewidth\":0,\"ticks\":\"\"}}}],\"scattercarpet\":[{\"type\":\"scattercarpet\",\"marker\":{\"colorbar\":{\"outlinewidth\":0,\"ticks\":\"\"}}}],\"carpet\":[{\"aaxis\":{\"endlinecolor\":\"#2a3f5f\",\"gridcolor\":\"white\",\"linecolor\":\"white\",\"minorgridcolor\":\"white\",\"startlinecolor\":\"#2a3f5f\"},\"baxis\":{\"endlinecolor\":\"#2a3f5f\",\"gridcolor\":\"white\",\"linecolor\":\"white\",\"minorgridcolor\":\"white\",\"startlinecolor\":\"#2a3f5f\"},\"type\":\"carpet\"}],\"table\":[{\"cells\":{\"fill\":{\"color\":\"#EBF0F8\"},\"line\":{\"color\":\"white\"}},\"header\":{\"fill\":{\"color\":\"#C8D4E3\"},\"line\":{\"color\":\"white\"}},\"type\":\"table\"}],\"barpolar\":[{\"marker\":{\"line\":{\"color\":\"#E5ECF6\",\"width\":0.5},\"pattern\":{\"fillmode\":\"overlay\",\"size\":10,\"solidity\":0.2}},\"type\":\"barpolar\"}],\"pie\":[{\"automargin\":true,\"type\":\"pie\"}]},\"layout\":{\"autotypenumbers\":\"strict\",\"colorway\":[\"#636efa\",\"#EF553B\",\"#00cc96\",\"#ab63fa\",\"#FFA15A\",\"#19d3f3\",\"#FF6692\",\"#B6E880\",\"#FF97FF\",\"#FECB52\"],\"font\":{\"color\":\"#2a3f5f\"},\"hovermode\":\"closest\",\"hoverlabel\":{\"align\":\"left\"},\"paper_bgcolor\":\"white\",\"plot_bgcolor\":\"#E5ECF6\",\"polar\":{\"bgcolor\":\"#E5ECF6\",\"angularaxis\":{\"gridcolor\":\"white\",\"linecolor\":\"white\",\"ticks\":\"\"},\"radialaxis\":{\"gridcolor\":\"white\",\"linecolor\":\"white\",\"ticks\":\"\"}},\"ternary\":{\"bgcolor\":\"#E5ECF6\",\"aaxis\":{\"gridcolor\":\"white\",\"linecolor\":\"white\",\"ticks\":\"\"},\"baxis\":{\"gridcolor\":\"white\",\"linecolor\":\"white\",\"ticks\":\"\"},\"caxis\":{\"gridcolor\":\"white\",\"linecolor\":\"white\",\"ticks\":\"\"}},\"coloraxis\":{\"colorbar\":{\"outlinewidth\":0,\"ticks\":\"\"}},\"colorscale\":{\"sequential\":[[0.0,\"#0d0887\"],[0.1111111111111111,\"#46039f\"],[0.2222222222222222,\"#7201a8\"],[0.3333333333333333,\"#9c179e\"],[0.4444444444444444,\"#bd3786\"],[0.5555555555555556,\"#d8576b\"],[0.6666666666666666,\"#ed7953\"],[0.7777777777777778,\"#fb9f3a\"],[0.8888888888888888,\"#fdca26\"],[1.0,\"#f0f921\"]],\"sequentialminus\":[[0.0,\"#0d0887\"],[0.1111111111111111,\"#46039f\"],[0.2222222222222222,\"#7201a8\"],[0.3333333333333333,\"#9c179e\"],[0.4444444444444444,\"#bd3786\"],[0.5555555555555556,\"#d8576b\"],[0.6666666666666666,\"#ed7953\"],[0.7777777777777778,\"#fb9f3a\"],[0.8888888888888888,\"#fdca26\"],[1.0,\"#f0f921\"]],\"diverging\":[[0,\"#8e0152\"],[0.1,\"#c51b7d\"],[0.2,\"#de77ae\"],[0.3,\"#f1b6da\"],[0.4,\"#fde0ef\"],[0.5,\"#f7f7f7\"],[0.6,\"#e6f5d0\"],[0.7,\"#b8e186\"],[0.8,\"#7fbc41\"],[0.9,\"#4d9221\"],[1,\"#276419\"]]},\"xaxis\":{\"gridcolor\":\"white\",\"linecolor\":\"white\",\"ticks\":\"\",\"title\":{\"standoff\":15},\"zerolinecolor\":\"white\",\"automargin\":true,\"zerolinewidth\":2},\"yaxis\":{\"gridcolor\":\"white\",\"linecolor\":\"white\",\"ticks\":\"\",\"title\":{\"standoff\":15},\"zerolinecolor\":\"white\",\"automargin\":true,\"zerolinewidth\":2},\"scene\":{\"xaxis\":{\"backgroundcolor\":\"#E5ECF6\",\"gridcolor\":\"white\",\"linecolor\":\"white\",\"showbackground\":true,\"ticks\":\"\",\"zerolinecolor\":\"white\",\"gridwidth\":2},\"yaxis\":{\"backgroundcolor\":\"#E5ECF6\",\"gridcolor\":\"white\",\"linecolor\":\"white\",\"showbackground\":true,\"ticks\":\"\",\"zerolinecolor\":\"white\",\"gridwidth\":2},\"zaxis\":{\"backgroundcolor\":\"#E5ECF6\",\"gridcolor\":\"white\",\"linecolor\":\"white\",\"showbackground\":true,\"ticks\":\"\",\"zerolinecolor\":\"white\",\"gridwidth\":2}},\"shapedefaults\":{\"line\":{\"color\":\"#2a3f5f\"}},\"annotationdefaults\":{\"arrowcolor\":\"#2a3f5f\",\"arrowhead\":0,\"arrowwidth\":1},\"geo\":{\"bgcolor\":\"white\",\"landcolor\":\"#E5ECF6\",\"subunitcolor\":\"white\",\"showland\":true,\"showlakes\":true,\"lakecolor\":\"white\"},\"title\":{\"x\":0.05},\"mapbox\":{\"style\":\"light\"}}},\"xaxis\":{\"anchor\":\"y\",\"domain\":[0.0,1.0],\"title\":{\"text\":\"Party\"}},\"yaxis\":{\"anchor\":\"x\",\"domain\":[0.0,1.0],\"title\":{\"text\":\"value\"}},\"legend\":{\"title\":{\"text\":\"variable\"},\"tracegroupgap\":0},\"title\":{\"text\":\"Parties with Most Number of Candidates in 2012\"},\"barmode\":\"relative\"},                        {\"responsive\": true}                    ).then(function(){\n",
       "                            \n",
       "var gd = document.getElementById('55572f49-e170-4012-818b-ac7078bfff6d');\n",
       "var x = new MutationObserver(function (mutations, observer) {{\n",
       "        var display = window.getComputedStyle(gd).display;\n",
       "        if (!display || display === 'none') {{\n",
       "            console.log([gd, 'removed!']);\n",
       "            Plotly.purge(gd);\n",
       "            observer.disconnect();\n",
       "        }}\n",
       "}});\n",
       "\n",
       "// Listen for the removal of the full notebook cells\n",
       "var notebookContainer = gd.closest('#notebook-container');\n",
       "if (notebookContainer) {{\n",
       "    x.observe(notebookContainer, {childList: true});\n",
       "}}\n",
       "\n",
       "// Listen for the clearing of the current output cell\n",
       "var outputEl = gd.closest('.output');\n",
       "if (outputEl) {{\n",
       "    x.observe(outputEl, {childList: true});\n",
       "}}\n",
       "\n",
       "                        })                };                });            </script>        </div>"
      ]
     },
     "metadata": {},
     "output_type": "display_data"
    },
    {
     "data": {
      "application/vnd.plotly.v1+json": {
       "config": {
        "plotlyServerURL": "https://plot.ly"
       },
       "data": [
        {
         "alignmentgroup": "True",
         "hovertemplate": "variable=2017<br>Party=%{x}<br>value=%{y}<extra></extra>",
         "legendgroup": "2017",
         "marker": {
          "color": "#636efa",
          "pattern": {
           "shape": ""
          }
         },
         "name": "2017",
         "offsetgroup": "2017",
         "orientation": "v",
         "showlegend": true,
         "textposition": "auto",
         "type": "bar",
         "x": [
          "ABJS",
          "ABMSD",
          "AJKP",
          "ASP",
          "BHDC",
          "BHJD",
          "BJP",
          "BNJD",
          "BSDL",
          "BSP",
          "CPI",
          "CPI(ML)(L)",
          "CPM",
          "DBSP",
          "GPP",
          "HND",
          "IF",
          "IJP",
          "INC",
          "IND",
          "JD(U)",
          "LJP",
          "LORP",
          "LSWP",
          "MAJP",
          "NBN",
          "NCP",
          "NSM",
          "PAP",
          "RKEP",
          "RKSP",
          "RLD",
          "RPI(A)",
          "RSP(S)",
          "RSPS",
          "SP",
          "SP(I)",
          "SUCI",
          "SVPP",
          "VHS",
          "YUS"
         ],
         "xaxis": "x",
         "y": [
          1,
          3,
          3,
          1,
          1,
          2,
          183,
          4,
          1,
          163,
          3,
          4,
          9,
          4,
          167,
          6,
          9,
          8,
          177,
          671,
          65,
          44,
          5,
          2,
          3,
          5,
          12,
          1,
          3,
          2,
          5,
          3,
          14,
          4,
          1,
          67,
          2,
          5,
          3,
          2,
          3
         ],
         "yaxis": "y"
        }
       ],
       "layout": {
        "autosize": true,
        "barmode": "relative",
        "legend": {
         "title": {
          "text": "variable"
         },
         "tracegroupgap": 0
        },
        "template": {
         "data": {
          "bar": [
           {
            "error_x": {
             "color": "#2a3f5f"
            },
            "error_y": {
             "color": "#2a3f5f"
            },
            "marker": {
             "line": {
              "color": "#E5ECF6",
              "width": 0.5
             },
             "pattern": {
              "fillmode": "overlay",
              "size": 10,
              "solidity": 0.2
             }
            },
            "type": "bar"
           }
          ],
          "barpolar": [
           {
            "marker": {
             "line": {
              "color": "#E5ECF6",
              "width": 0.5
             },
             "pattern": {
              "fillmode": "overlay",
              "size": 10,
              "solidity": 0.2
             }
            },
            "type": "barpolar"
           }
          ],
          "carpet": [
           {
            "aaxis": {
             "endlinecolor": "#2a3f5f",
             "gridcolor": "white",
             "linecolor": "white",
             "minorgridcolor": "white",
             "startlinecolor": "#2a3f5f"
            },
            "baxis": {
             "endlinecolor": "#2a3f5f",
             "gridcolor": "white",
             "linecolor": "white",
             "minorgridcolor": "white",
             "startlinecolor": "#2a3f5f"
            },
            "type": "carpet"
           }
          ],
          "choropleth": [
           {
            "colorbar": {
             "outlinewidth": 0,
             "ticks": ""
            },
            "type": "choropleth"
           }
          ],
          "contour": [
           {
            "colorbar": {
             "outlinewidth": 0,
             "ticks": ""
            },
            "colorscale": [
             [
              0,
              "#0d0887"
             ],
             [
              0.1111111111111111,
              "#46039f"
             ],
             [
              0.2222222222222222,
              "#7201a8"
             ],
             [
              0.3333333333333333,
              "#9c179e"
             ],
             [
              0.4444444444444444,
              "#bd3786"
             ],
             [
              0.5555555555555556,
              "#d8576b"
             ],
             [
              0.6666666666666666,
              "#ed7953"
             ],
             [
              0.7777777777777778,
              "#fb9f3a"
             ],
             [
              0.8888888888888888,
              "#fdca26"
             ],
             [
              1,
              "#f0f921"
             ]
            ],
            "type": "contour"
           }
          ],
          "contourcarpet": [
           {
            "colorbar": {
             "outlinewidth": 0,
             "ticks": ""
            },
            "type": "contourcarpet"
           }
          ],
          "heatmap": [
           {
            "colorbar": {
             "outlinewidth": 0,
             "ticks": ""
            },
            "colorscale": [
             [
              0,
              "#0d0887"
             ],
             [
              0.1111111111111111,
              "#46039f"
             ],
             [
              0.2222222222222222,
              "#7201a8"
             ],
             [
              0.3333333333333333,
              "#9c179e"
             ],
             [
              0.4444444444444444,
              "#bd3786"
             ],
             [
              0.5555555555555556,
              "#d8576b"
             ],
             [
              0.6666666666666666,
              "#ed7953"
             ],
             [
              0.7777777777777778,
              "#fb9f3a"
             ],
             [
              0.8888888888888888,
              "#fdca26"
             ],
             [
              1,
              "#f0f921"
             ]
            ],
            "type": "heatmap"
           }
          ],
          "heatmapgl": [
           {
            "colorbar": {
             "outlinewidth": 0,
             "ticks": ""
            },
            "colorscale": [
             [
              0,
              "#0d0887"
             ],
             [
              0.1111111111111111,
              "#46039f"
             ],
             [
              0.2222222222222222,
              "#7201a8"
             ],
             [
              0.3333333333333333,
              "#9c179e"
             ],
             [
              0.4444444444444444,
              "#bd3786"
             ],
             [
              0.5555555555555556,
              "#d8576b"
             ],
             [
              0.6666666666666666,
              "#ed7953"
             ],
             [
              0.7777777777777778,
              "#fb9f3a"
             ],
             [
              0.8888888888888888,
              "#fdca26"
             ],
             [
              1,
              "#f0f921"
             ]
            ],
            "type": "heatmapgl"
           }
          ],
          "histogram": [
           {
            "marker": {
             "pattern": {
              "fillmode": "overlay",
              "size": 10,
              "solidity": 0.2
             }
            },
            "type": "histogram"
           }
          ],
          "histogram2d": [
           {
            "colorbar": {
             "outlinewidth": 0,
             "ticks": ""
            },
            "colorscale": [
             [
              0,
              "#0d0887"
             ],
             [
              0.1111111111111111,
              "#46039f"
             ],
             [
              0.2222222222222222,
              "#7201a8"
             ],
             [
              0.3333333333333333,
              "#9c179e"
             ],
             [
              0.4444444444444444,
              "#bd3786"
             ],
             [
              0.5555555555555556,
              "#d8576b"
             ],
             [
              0.6666666666666666,
              "#ed7953"
             ],
             [
              0.7777777777777778,
              "#fb9f3a"
             ],
             [
              0.8888888888888888,
              "#fdca26"
             ],
             [
              1,
              "#f0f921"
             ]
            ],
            "type": "histogram2d"
           }
          ],
          "histogram2dcontour": [
           {
            "colorbar": {
             "outlinewidth": 0,
             "ticks": ""
            },
            "colorscale": [
             [
              0,
              "#0d0887"
             ],
             [
              0.1111111111111111,
              "#46039f"
             ],
             [
              0.2222222222222222,
              "#7201a8"
             ],
             [
              0.3333333333333333,
              "#9c179e"
             ],
             [
              0.4444444444444444,
              "#bd3786"
             ],
             [
              0.5555555555555556,
              "#d8576b"
             ],
             [
              0.6666666666666666,
              "#ed7953"
             ],
             [
              0.7777777777777778,
              "#fb9f3a"
             ],
             [
              0.8888888888888888,
              "#fdca26"
             ],
             [
              1,
              "#f0f921"
             ]
            ],
            "type": "histogram2dcontour"
           }
          ],
          "mesh3d": [
           {
            "colorbar": {
             "outlinewidth": 0,
             "ticks": ""
            },
            "type": "mesh3d"
           }
          ],
          "parcoords": [
           {
            "line": {
             "colorbar": {
              "outlinewidth": 0,
              "ticks": ""
             }
            },
            "type": "parcoords"
           }
          ],
          "pie": [
           {
            "automargin": true,
            "type": "pie"
           }
          ],
          "scatter": [
           {
            "fillpattern": {
             "fillmode": "overlay",
             "size": 10,
             "solidity": 0.2
            },
            "type": "scatter"
           }
          ],
          "scatter3d": [
           {
            "line": {
             "colorbar": {
              "outlinewidth": 0,
              "ticks": ""
             }
            },
            "marker": {
             "colorbar": {
              "outlinewidth": 0,
              "ticks": ""
             }
            },
            "type": "scatter3d"
           }
          ],
          "scattercarpet": [
           {
            "marker": {
             "colorbar": {
              "outlinewidth": 0,
              "ticks": ""
             }
            },
            "type": "scattercarpet"
           }
          ],
          "scattergeo": [
           {
            "marker": {
             "colorbar": {
              "outlinewidth": 0,
              "ticks": ""
             }
            },
            "type": "scattergeo"
           }
          ],
          "scattergl": [
           {
            "marker": {
             "colorbar": {
              "outlinewidth": 0,
              "ticks": ""
             }
            },
            "type": "scattergl"
           }
          ],
          "scattermapbox": [
           {
            "marker": {
             "colorbar": {
              "outlinewidth": 0,
              "ticks": ""
             }
            },
            "type": "scattermapbox"
           }
          ],
          "scatterpolar": [
           {
            "marker": {
             "colorbar": {
              "outlinewidth": 0,
              "ticks": ""
             }
            },
            "type": "scatterpolar"
           }
          ],
          "scatterpolargl": [
           {
            "marker": {
             "colorbar": {
              "outlinewidth": 0,
              "ticks": ""
             }
            },
            "type": "scatterpolargl"
           }
          ],
          "scatterternary": [
           {
            "marker": {
             "colorbar": {
              "outlinewidth": 0,
              "ticks": ""
             }
            },
            "type": "scatterternary"
           }
          ],
          "surface": [
           {
            "colorbar": {
             "outlinewidth": 0,
             "ticks": ""
            },
            "colorscale": [
             [
              0,
              "#0d0887"
             ],
             [
              0.1111111111111111,
              "#46039f"
             ],
             [
              0.2222222222222222,
              "#7201a8"
             ],
             [
              0.3333333333333333,
              "#9c179e"
             ],
             [
              0.4444444444444444,
              "#bd3786"
             ],
             [
              0.5555555555555556,
              "#d8576b"
             ],
             [
              0.6666666666666666,
              "#ed7953"
             ],
             [
              0.7777777777777778,
              "#fb9f3a"
             ],
             [
              0.8888888888888888,
              "#fdca26"
             ],
             [
              1,
              "#f0f921"
             ]
            ],
            "type": "surface"
           }
          ],
          "table": [
           {
            "cells": {
             "fill": {
              "color": "#EBF0F8"
             },
             "line": {
              "color": "white"
             }
            },
            "header": {
             "fill": {
              "color": "#C8D4E3"
             },
             "line": {
              "color": "white"
             }
            },
            "type": "table"
           }
          ]
         },
         "layout": {
          "annotationdefaults": {
           "arrowcolor": "#2a3f5f",
           "arrowhead": 0,
           "arrowwidth": 1
          },
          "autotypenumbers": "strict",
          "coloraxis": {
           "colorbar": {
            "outlinewidth": 0,
            "ticks": ""
           }
          },
          "colorscale": {
           "diverging": [
            [
             0,
             "#8e0152"
            ],
            [
             0.1,
             "#c51b7d"
            ],
            [
             0.2,
             "#de77ae"
            ],
            [
             0.3,
             "#f1b6da"
            ],
            [
             0.4,
             "#fde0ef"
            ],
            [
             0.5,
             "#f7f7f7"
            ],
            [
             0.6,
             "#e6f5d0"
            ],
            [
             0.7,
             "#b8e186"
            ],
            [
             0.8,
             "#7fbc41"
            ],
            [
             0.9,
             "#4d9221"
            ],
            [
             1,
             "#276419"
            ]
           ],
           "sequential": [
            [
             0,
             "#0d0887"
            ],
            [
             0.1111111111111111,
             "#46039f"
            ],
            [
             0.2222222222222222,
             "#7201a8"
            ],
            [
             0.3333333333333333,
             "#9c179e"
            ],
            [
             0.4444444444444444,
             "#bd3786"
            ],
            [
             0.5555555555555556,
             "#d8576b"
            ],
            [
             0.6666666666666666,
             "#ed7953"
            ],
            [
             0.7777777777777778,
             "#fb9f3a"
            ],
            [
             0.8888888888888888,
             "#fdca26"
            ],
            [
             1,
             "#f0f921"
            ]
           ],
           "sequentialminus": [
            [
             0,
             "#0d0887"
            ],
            [
             0.1111111111111111,
             "#46039f"
            ],
            [
             0.2222222222222222,
             "#7201a8"
            ],
            [
             0.3333333333333333,
             "#9c179e"
            ],
            [
             0.4444444444444444,
             "#bd3786"
            ],
            [
             0.5555555555555556,
             "#d8576b"
            ],
            [
             0.6666666666666666,
             "#ed7953"
            ],
            [
             0.7777777777777778,
             "#fb9f3a"
            ],
            [
             0.8888888888888888,
             "#fdca26"
            ],
            [
             1,
             "#f0f921"
            ]
           ]
          },
          "colorway": [
           "#636efa",
           "#EF553B",
           "#00cc96",
           "#ab63fa",
           "#FFA15A",
           "#19d3f3",
           "#FF6692",
           "#B6E880",
           "#FF97FF",
           "#FECB52"
          ],
          "font": {
           "color": "#2a3f5f"
          },
          "geo": {
           "bgcolor": "white",
           "lakecolor": "white",
           "landcolor": "#E5ECF6",
           "showlakes": true,
           "showland": true,
           "subunitcolor": "white"
          },
          "hoverlabel": {
           "align": "left"
          },
          "hovermode": "closest",
          "mapbox": {
           "style": "light"
          },
          "paper_bgcolor": "white",
          "plot_bgcolor": "#E5ECF6",
          "polar": {
           "angularaxis": {
            "gridcolor": "white",
            "linecolor": "white",
            "ticks": ""
           },
           "bgcolor": "#E5ECF6",
           "radialaxis": {
            "gridcolor": "white",
            "linecolor": "white",
            "ticks": ""
           }
          },
          "scene": {
           "xaxis": {
            "backgroundcolor": "#E5ECF6",
            "gridcolor": "white",
            "gridwidth": 2,
            "linecolor": "white",
            "showbackground": true,
            "ticks": "",
            "zerolinecolor": "white"
           },
           "yaxis": {
            "backgroundcolor": "#E5ECF6",
            "gridcolor": "white",
            "gridwidth": 2,
            "linecolor": "white",
            "showbackground": true,
            "ticks": "",
            "zerolinecolor": "white"
           },
           "zaxis": {
            "backgroundcolor": "#E5ECF6",
            "gridcolor": "white",
            "gridwidth": 2,
            "linecolor": "white",
            "showbackground": true,
            "ticks": "",
            "zerolinecolor": "white"
           }
          },
          "shapedefaults": {
           "line": {
            "color": "#2a3f5f"
           }
          },
          "ternary": {
           "aaxis": {
            "gridcolor": "white",
            "linecolor": "white",
            "ticks": ""
           },
           "baxis": {
            "gridcolor": "white",
            "linecolor": "white",
            "ticks": ""
           },
           "bgcolor": "#E5ECF6",
           "caxis": {
            "gridcolor": "white",
            "linecolor": "white",
            "ticks": ""
           }
          },
          "title": {
           "x": 0.05
          },
          "xaxis": {
           "automargin": true,
           "gridcolor": "white",
           "linecolor": "white",
           "ticks": "",
           "title": {
            "standoff": 15
           },
           "zerolinecolor": "white",
           "zerolinewidth": 2
          },
          "yaxis": {
           "automargin": true,
           "gridcolor": "white",
           "linecolor": "white",
           "ticks": "",
           "title": {
            "standoff": 15
           },
           "zerolinecolor": "white",
           "zerolinewidth": 2
          }
         }
        },
        "title": {
         "text": "Parties with Most Number of Candidates in 2017"
        },
        "xaxis": {
         "anchor": "y",
         "autorange": true,
         "domain": [
          0,
          1
         ],
         "range": [
          -0.5,
          40.5
         ],
         "title": {
          "text": "Party"
         },
         "type": "category"
        },
        "yaxis": {
         "anchor": "x",
         "autorange": true,
         "domain": [
          0,
          1
         ],
         "range": [
          0,
          706.3157894736842
         ],
         "title": {
          "text": "value"
         },
         "type": "linear"
        }
       }
      },
      "image/png": "[encoded data removed]",
      "text/html": [
       "<div>                            <div id=\"a526c4f0-9c69-4aba-896a-9ec1899c2ef5\" class=\"plotly-graph-div\" style=\"height:525px; width:100%;\"></div>            <script type=\"text/javascript\">                require([\"plotly\"], function(Plotly) {                    window.PLOTLYENV=window.PLOTLYENV || {};                                    if (document.getElementById(\"a526c4f0-9c69-4aba-896a-9ec1899c2ef5\")) {                    Plotly.newPlot(                        \"a526c4f0-9c69-4aba-896a-9ec1899c2ef5\",                        [{\"alignmentgroup\":\"True\",\"hovertemplate\":\"variable=2017<br>Party=%{x}<br>value=%{y}<extra></extra>\",\"legendgroup\":\"2017\",\"marker\":{\"color\":\"#636efa\",\"pattern\":{\"shape\":\"\"}},\"name\":\"2017\",\"offsetgroup\":\"2017\",\"orientation\":\"v\",\"showlegend\":true,\"textposition\":\"auto\",\"x\":[\"ABJS\",\"ABMSD\",\"AJKP\",\"ASP\",\"BHDC\",\"BHJD\",\"BJP\",\"BNJD\",\"BSDL\",\"BSP\",\"CPI\",\"CPI(ML)(L)\",\"CPM\",\"DBSP\",\"GPP\",\"HND\",\"IF\",\"IJP\",\"INC\",\"IND\",\"JD(U)\",\"LJP\",\"LORP\",\"LSWP\",\"MAJP\",\"NBN\",\"NCP\",\"NSM\",\"PAP\",\"RKEP\",\"RKSP\",\"RLD\",\"RPI(A)\",\"RSP(S)\",\"RSPS\",\"SP\",\"SP(I)\",\"SUCI\",\"SVPP\",\"VHS\",\"YUS\"],\"xaxis\":\"x\",\"y\":[1,3,3,1,1,2,183,4,1,163,3,4,9,4,167,6,9,8,177,671,65,44,5,2,3,5,12,1,3,2,5,3,14,4,1,67,2,5,3,2,3],\"yaxis\":\"y\",\"type\":\"bar\"}],                        {\"template\":{\"data\":{\"histogram2dcontour\":[{\"type\":\"histogram2dcontour\",\"colorbar\":{\"outlinewidth\":0,\"ticks\":\"\"},\"colorscale\":[[0.0,\"#0d0887\"],[0.1111111111111111,\"#46039f\"],[0.2222222222222222,\"#7201a8\"],[0.3333333333333333,\"#9c179e\"],[0.4444444444444444,\"#bd3786\"],[0.5555555555555556,\"#d8576b\"],[0.6666666666666666,\"#ed7953\"],[0.7777777777777778,\"#fb9f3a\"],[0.8888888888888888,\"#fdca26\"],[1.0,\"#f0f921\"]]}],\"choropleth\":[{\"type\":\"choropleth\",\"colorbar\":{\"outlinewidth\":0,\"ticks\":\"\"}}],\"histogram2d\":[{\"type\":\"histogram2d\",\"colorbar\":{\"outlinewidth\":0,\"ticks\":\"\"},\"colorscale\":[[0.0,\"#0d0887\"],[0.1111111111111111,\"#46039f\"],[0.2222222222222222,\"#7201a8\"],[0.3333333333333333,\"#9c179e\"],[0.4444444444444444,\"#bd3786\"],[0.5555555555555556,\"#d8576b\"],[0.6666666666666666,\"#ed7953\"],[0.7777777777777778,\"#fb9f3a\"],[0.8888888888888888,\"#fdca26\"],[1.0,\"#f0f921\"]]}],\"heatmap\":[{\"type\":\"heatmap\",\"colorbar\":{\"outlinewidth\":0,\"ticks\":\"\"},\"colorscale\":[[0.0,\"#0d0887\"],[0.1111111111111111,\"#46039f\"],[0.2222222222222222,\"#7201a8\"],[0.3333333333333333,\"#9c179e\"],[0.4444444444444444,\"#bd3786\"],[0.5555555555555556,\"#d8576b\"],[0.6666666666666666,\"#ed7953\"],[0.7777777777777778,\"#fb9f3a\"],[0.8888888888888888,\"#fdca26\"],[1.0,\"#f0f921\"]]}],\"heatmapgl\":[{\"type\":\"heatmapgl\",\"colorbar\":{\"outlinewidth\":0,\"ticks\":\"\"},\"colorscale\":[[0.0,\"#0d0887\"],[0.1111111111111111,\"#46039f\"],[0.2222222222222222,\"#7201a8\"],[0.3333333333333333,\"#9c179e\"],[0.4444444444444444,\"#bd3786\"],[0.5555555555555556,\"#d8576b\"],[0.6666666666666666,\"#ed7953\"],[0.7777777777777778,\"#fb9f3a\"],[0.8888888888888888,\"#fdca26\"],[1.0,\"#f0f921\"]]}],\"contourcarpet\":[{\"type\":\"contourcarpet\",\"colorbar\":{\"outlinewidth\":0,\"ticks\":\"\"}}],\"contour\":[{\"type\":\"contour\",\"colorbar\":{\"outlinewidth\":0,\"ticks\":\"\"},\"colorscale\":[[0.0,\"#0d0887\"],[0.1111111111111111,\"#46039f\"],[0.2222222222222222,\"#7201a8\"],[0.3333333333333333,\"#9c179e\"],[0.4444444444444444,\"#bd3786\"],[0.5555555555555556,\"#d8576b\"],[0.6666666666666666,\"#ed7953\"],[0.7777777777777778,\"#fb9f3a\"],[0.8888888888888888,\"#fdca26\"],[1.0,\"#f0f921\"]]}],\"surface\":[{\"type\":\"surface\",\"colorbar\":{\"outlinewidth\":0,\"ticks\":\"\"},\"colorscale\":[[0.0,\"#0d0887\"],[0.1111111111111111,\"#46039f\"],[0.2222222222222222,\"#7201a8\"],[0.3333333333333333,\"#9c179e\"],[0.4444444444444444,\"#bd3786\"],[0.5555555555555556,\"#d8576b\"],[0.6666666666666666,\"#ed7953\"],[0.7777777777777778,\"#fb9f3a\"],[0.8888888888888888,\"#fdca26\"],[1.0,\"#f0f921\"]]}],\"mesh3d\":[{\"type\":\"mesh3d\",\"colorbar\":{\"outlinewidth\":0,\"ticks\":\"\"}}],\"scatter\":[{\"fillpattern\":{\"fillmode\":\"overlay\",\"size\":10,\"solidity\":0.2},\"type\":\"scatter\"}],\"parcoords\":[{\"type\":\"parcoords\",\"line\":{\"colorbar\":{\"outlinewidth\":0,\"ticks\":\"\"}}}],\"scatterpolargl\":[{\"type\":\"scatterpolargl\",\"marker\":{\"colorbar\":{\"outlinewidth\":0,\"ticks\":\"\"}}}],\"bar\":[{\"error_x\":{\"color\":\"#2a3f5f\"},\"error_y\":{\"color\":\"#2a3f5f\"},\"marker\":{\"line\":{\"color\":\"#E5ECF6\",\"width\":0.5},\"pattern\":{\"fillmode\":\"overlay\",\"size\":10,\"solidity\":0.2}},\"type\":\"bar\"}],\"scattergeo\":[{\"type\":\"scattergeo\",\"marker\":{\"colorbar\":{\"outlinewidth\":0,\"ticks\":\"\"}}}],\"scatterpolar\":[{\"type\":\"scatterpolar\",\"marker\":{\"colorbar\":{\"outlinewidth\":0,\"ticks\":\"\"}}}],\"histogram\":[{\"marker\":{\"pattern\":{\"fillmode\":\"overlay\",\"size\":10,\"solidity\":0.2}},\"type\":\"histogram\"}],\"scattergl\":[{\"type\":\"scattergl\",\"marker\":{\"colorbar\":{\"outlinewidth\":0,\"ticks\":\"\"}}}],\"scatter3d\":[{\"type\":\"scatter3d\",\"line\":{\"colorbar\":{\"outlinewidth\":0,\"ticks\":\"\"}},\"marker\":{\"colorbar\":{\"outlinewidth\":0,\"ticks\":\"\"}}}],\"scattermapbox\":[{\"type\":\"scattermapbox\",\"marker\":{\"colorbar\":{\"outlinewidth\":0,\"ticks\":\"\"}}}],\"scatterternary\":[{\"type\":\"scatterternary\",\"marker\":{\"colorbar\":{\"outlinewidth\":0,\"ticks\":\"\"}}}],\"scattercarpet\":[{\"type\":\"scattercarpet\",\"marker\":{\"colorbar\":{\"outlinewidth\":0,\"ticks\":\"\"}}}],\"carpet\":[{\"aaxis\":{\"endlinecolor\":\"#2a3f5f\",\"gridcolor\":\"white\",\"linecolor\":\"white\",\"minorgridcolor\":\"white\",\"startlinecolor\":\"#2a3f5f\"},\"baxis\":{\"endlinecolor\":\"#2a3f5f\",\"gridcolor\":\"white\",\"linecolor\":\"white\",\"minorgridcolor\":\"white\",\"startlinecolor\":\"#2a3f5f\"},\"type\":\"carpet\"}],\"table\":[{\"cells\":{\"fill\":{\"color\":\"#EBF0F8\"},\"line\":{\"color\":\"white\"}},\"header\":{\"fill\":{\"color\":\"#C8D4E3\"},\"line\":{\"color\":\"white\"}},\"type\":\"table\"}],\"barpolar\":[{\"marker\":{\"line\":{\"color\":\"#E5ECF6\",\"width\":0.5},\"pattern\":{\"fillmode\":\"overlay\",\"size\":10,\"solidity\":0.2}},\"type\":\"barpolar\"}],\"pie\":[{\"automargin\":true,\"type\":\"pie\"}]},\"layout\":{\"autotypenumbers\":\"strict\",\"colorway\":[\"#636efa\",\"#EF553B\",\"#00cc96\",\"#ab63fa\",\"#FFA15A\",\"#19d3f3\",\"#FF6692\",\"#B6E880\",\"#FF97FF\",\"#FECB52\"],\"font\":{\"color\":\"#2a3f5f\"},\"hovermode\":\"closest\",\"hoverlabel\":{\"align\":\"left\"},\"paper_bgcolor\":\"white\",\"plot_bgcolor\":\"#E5ECF6\",\"polar\":{\"bgcolor\":\"#E5ECF6\",\"angularaxis\":{\"gridcolor\":\"white\",\"linecolor\":\"white\",\"ticks\":\"\"},\"radialaxis\":{\"gridcolor\":\"white\",\"linecolor\":\"white\",\"ticks\":\"\"}},\"ternary\":{\"bgcolor\":\"#E5ECF6\",\"aaxis\":{\"gridcolor\":\"white\",\"linecolor\":\"white\",\"ticks\":\"\"},\"baxis\":{\"gridcolor\":\"white\",\"linecolor\":\"white\",\"ticks\":\"\"},\"caxis\":{\"gridcolor\":\"white\",\"linecolor\":\"white\",\"ticks\":\"\"}},\"coloraxis\":{\"colorbar\":{\"outlinewidth\":0,\"ticks\":\"\"}},\"colorscale\":{\"sequential\":[[0.0,\"#0d0887\"],[0.1111111111111111,\"#46039f\"],[0.2222222222222222,\"#7201a8\"],[0.3333333333333333,\"#9c179e\"],[0.4444444444444444,\"#bd3786\"],[0.5555555555555556,\"#d8576b\"],[0.6666666666666666,\"#ed7953\"],[0.7777777777777778,\"#fb9f3a\"],[0.8888888888888888,\"#fdca26\"],[1.0,\"#f0f921\"]],\"sequentialminus\":[[0.0,\"#0d0887\"],[0.1111111111111111,\"#46039f\"],[0.2222222222222222,\"#7201a8\"],[0.3333333333333333,\"#9c179e\"],[0.4444444444444444,\"#bd3786\"],[0.5555555555555556,\"#d8576b\"],[0.6666666666666666,\"#ed7953\"],[0.7777777777777778,\"#fb9f3a\"],[0.8888888888888888,\"#fdca26\"],[1.0,\"#f0f921\"]],\"diverging\":[[0,\"#8e0152\"],[0.1,\"#c51b7d\"],[0.2,\"#de77ae\"],[0.3,\"#f1b6da\"],[0.4,\"#fde0ef\"],[0.5,\"#f7f7f7\"],[0.6,\"#e6f5d0\"],[0.7,\"#b8e186\"],[0.8,\"#7fbc41\"],[0.9,\"#4d9221\"],[1,\"#276419\"]]},\"xaxis\":{\"gridcolor\":\"white\",\"linecolor\":\"white\",\"ticks\":\"\",\"title\":{\"standoff\":15},\"zerolinecolor\":\"white\",\"automargin\":true,\"zerolinewidth\":2},\"yaxis\":{\"gridcolor\":\"white\",\"linecolor\":\"white\",\"ticks\":\"\",\"title\":{\"standoff\":15},\"zerolinecolor\":\"white\",\"automargin\":true,\"zerolinewidth\":2},\"scene\":{\"xaxis\":{\"backgroundcolor\":\"#E5ECF6\",\"gridcolor\":\"white\",\"linecolor\":\"white\",\"showbackground\":true,\"ticks\":\"\",\"zerolinecolor\":\"white\",\"gridwidth\":2},\"yaxis\":{\"backgroundcolor\":\"#E5ECF6\",\"gridcolor\":\"white\",\"linecolor\":\"white\",\"showbackground\":true,\"ticks\":\"\",\"zerolinecolor\":\"white\",\"gridwidth\":2},\"zaxis\":{\"backgroundcolor\":\"#E5ECF6\",\"gridcolor\":\"white\",\"linecolor\":\"white\",\"showbackground\":true,\"ticks\":\"\",\"zerolinecolor\":\"white\",\"gridwidth\":2}},\"shapedefaults\":{\"line\":{\"color\":\"#2a3f5f\"}},\"annotationdefaults\":{\"arrowcolor\":\"#2a3f5f\",\"arrowhead\":0,\"arrowwidth\":1},\"geo\":{\"bgcolor\":\"white\",\"landcolor\":\"#E5ECF6\",\"subunitcolor\":\"white\",\"showland\":true,\"showlakes\":true,\"lakecolor\":\"white\"},\"title\":{\"x\":0.05},\"mapbox\":{\"style\":\"light\"}}},\"xaxis\":{\"anchor\":\"y\",\"domain\":[0.0,1.0],\"title\":{\"text\":\"Party\"}},\"yaxis\":{\"anchor\":\"x\",\"domain\":[0.0,1.0],\"title\":{\"text\":\"value\"}},\"legend\":{\"title\":{\"text\":\"variable\"},\"tracegroupgap\":0},\"title\":{\"text\":\"Parties with Most Number of Candidates in 2017\"},\"barmode\":\"relative\"},                        {\"responsive\": true}                    ).then(function(){\n",
       "                            \n",
       "var gd = document.getElementById('a526c4f0-9c69-4aba-896a-9ec1899c2ef5');\n",
       "var x = new MutationObserver(function (mutations, observer) {{\n",
       "        var display = window.getComputedStyle(gd).display;\n",
       "        if (!display || display === 'none') {{\n",
       "            console.log([gd, 'removed!']);\n",
       "            Plotly.purge(gd);\n",
       "            observer.disconnect();\n",
       "        }}\n",
       "}});\n",
       "\n",
       "// Listen for the removal of the full notebook cells\n",
       "var notebookContainer = gd.closest('#notebook-container');\n",
       "if (notebookContainer) {{\n",
       "    x.observe(notebookContainer, {childList: true});\n",
       "}}\n",
       "\n",
       "// Listen for the clearing of the current output cell\n",
       "var outputEl = gd.closest('.output');\n",
       "if (outputEl) {{\n",
       "    x.observe(outputEl, {childList: true});\n",
       "}}\n",
       "\n",
       "                        })                };                });            </script>        </div>"
      ]
     },
     "metadata": {},
     "output_type": "display_data"
    }
   ],
   "source": [
    "fig = px.bar(df_party_cnt_2007, title=\"Parties with Most Number of Candidates in 2007\")\n",
    "fig.update_layout()\n",
    "fig1 = px.bar(df_party_cnt_2012, title=\"Parties with Most Number of Candidates in 2012\")\n",
    "fig1.update_layout()\n",
    "fig2 = px.bar(df_party_cnt_2017, title=\"Parties with Most Number of Candidates in 2017\")\n",
    "fig2.update_layout()\n",
    "fig.show()\n",
    "fig1.show()\n",
    "fig2.show()"
   ]
  },
  {
   "cell_type": "code",
   "execution_count": 174,
   "id": "19757d13-59cd-4a96-aa5f-0ed7f74997de",
   "metadata": {},
   "outputs": [],
   "source": [
    "df_winners = df.copy()"
   ]
  },
  {
   "cell_type": "code",
   "execution_count": 177,
   "id": "b793eb50-5994-4cd4-b0a4-0e7729962efc",
   "metadata": {},
   "outputs": [
    {
     "data": {
      "text/html": [
       "<div>\n",
       "<style scoped>\n",
       "    .dataframe tbody tr th:only-of-type {\n",
       "        vertical-align: middle;\n",
       "    }\n",
       "\n",
       "    .dataframe tbody tr th {\n",
       "        vertical-align: top;\n",
       "    }\n",
       "\n",
       "    .dataframe thead th {\n",
       "        text-align: right;\n",
       "    }\n",
       "</style>\n",
       "<table border=\"1\" class=\"dataframe\">\n",
       "  <thead>\n",
       "    <tr style=\"text-align: right;\">\n",
       "      <th></th>\n",
       "      <th>Election_Type</th>\n",
       "      <th>State_Name</th>\n",
       "      <th>Assembly_No</th>\n",
       "      <th>Constituency_No</th>\n",
       "      <th>Year</th>\n",
       "      <th>month</th>\n",
       "      <th>Poll_No</th>\n",
       "      <th>DelimID</th>\n",
       "      <th>Position</th>\n",
       "      <th>Candidate</th>\n",
       "      <th>...</th>\n",
       "      <th>Age</th>\n",
       "      <th>District_Name</th>\n",
       "      <th>PC_Name</th>\n",
       "      <th>PC_No</th>\n",
       "      <th>CandID</th>\n",
       "      <th>MyNeta_education</th>\n",
       "      <th>TCPD_Prof_Main</th>\n",
       "      <th>TCPD_Prof_Main_Desc</th>\n",
       "      <th>TCPD_Prof_Second</th>\n",
       "      <th>TCPD_Prof_Second_Desc</th>\n",
       "    </tr>\n",
       "  </thead>\n",
       "  <tbody>\n",
       "    <tr>\n",
       "      <th>0</th>\n",
       "      <td>AE</td>\n",
       "      <td>Gujarat</td>\n",
       "      <td>11</td>\n",
       "      <td>1</td>\n",
       "      <td>2007</td>\n",
       "      <td>12</td>\n",
       "      <td>0</td>\n",
       "      <td>3</td>\n",
       "      <td>1</td>\n",
       "      <td>JAYANTILAL PARSOTTAM BHANUSHALI</td>\n",
       "      <td>...</td>\n",
       "      <td>43.0</td>\n",
       "      <td>NaN</td>\n",
       "      <td>NaN</td>\n",
       "      <td>NaN</td>\n",
       "      <td>NaN</td>\n",
       "      <td>5th Pass</td>\n",
       "      <td>Other or Unspecified</td>\n",
       "      <td>NaN</td>\n",
       "      <td>NaN</td>\n",
       "      <td>NaN</td>\n",
       "    </tr>\n",
       "    <tr>\n",
       "      <th>6</th>\n",
       "      <td>AE</td>\n",
       "      <td>Gujarat</td>\n",
       "      <td>11</td>\n",
       "      <td>2</td>\n",
       "      <td>2007</td>\n",
       "      <td>12</td>\n",
       "      <td>0</td>\n",
       "      <td>3</td>\n",
       "      <td>1</td>\n",
       "      <td>SENGHANI DHANJIBHAI (ALIAS MANGAL) GOVINDBHAI</td>\n",
       "      <td>...</td>\n",
       "      <td>57.0</td>\n",
       "      <td>NaN</td>\n",
       "      <td>NaN</td>\n",
       "      <td>NaN</td>\n",
       "      <td>NaN</td>\n",
       "      <td>5th Pass</td>\n",
       "      <td>Other or Unspecified</td>\n",
       "      <td>NaN</td>\n",
       "      <td>NaN</td>\n",
       "      <td>NaN</td>\n",
       "    </tr>\n",
       "    <tr>\n",
       "      <th>15</th>\n",
       "      <td>AE</td>\n",
       "      <td>Gujarat</td>\n",
       "      <td>11</td>\n",
       "      <td>3</td>\n",
       "      <td>2007</td>\n",
       "      <td>12</td>\n",
       "      <td>0</td>\n",
       "      <td>3</td>\n",
       "      <td>1</td>\n",
       "      <td>AHIR VASANBHAI GOPALBHAI</td>\n",
       "      <td>...</td>\n",
       "      <td>49.0</td>\n",
       "      <td>NaN</td>\n",
       "      <td>NaN</td>\n",
       "      <td>NaN</td>\n",
       "      <td>NaN</td>\n",
       "      <td>5th Pass</td>\n",
       "      <td>Other or Unspecified</td>\n",
       "      <td>NaN</td>\n",
       "      <td>NaN</td>\n",
       "      <td>NaN</td>\n",
       "    </tr>\n",
       "    <tr>\n",
       "      <th>24</th>\n",
       "      <td>AE</td>\n",
       "      <td>Gujarat</td>\n",
       "      <td>11</td>\n",
       "      <td>4</td>\n",
       "      <td>2007</td>\n",
       "      <td>12</td>\n",
       "      <td>0</td>\n",
       "      <td>3</td>\n",
       "      <td>1</td>\n",
       "      <td>MAHESHWARI RAMESH VACHCHHRAJ</td>\n",
       "      <td>...</td>\n",
       "      <td>39.0</td>\n",
       "      <td>NaN</td>\n",
       "      <td>NaN</td>\n",
       "      <td>NaN</td>\n",
       "      <td>NaN</td>\n",
       "      <td>12th Pass</td>\n",
       "      <td>Other or Unspecified</td>\n",
       "      <td>NaN</td>\n",
       "      <td>NaN</td>\n",
       "      <td>NaN</td>\n",
       "    </tr>\n",
       "    <tr>\n",
       "      <th>29</th>\n",
       "      <td>AE</td>\n",
       "      <td>Gujarat</td>\n",
       "      <td>11</td>\n",
       "      <td>5</td>\n",
       "      <td>2007</td>\n",
       "      <td>12</td>\n",
       "      <td>0</td>\n",
       "      <td>3</td>\n",
       "      <td>1</td>\n",
       "      <td>ACHARYA NEEMABEN BHAVESHBHAI</td>\n",
       "      <td>...</td>\n",
       "      <td>60.0</td>\n",
       "      <td>NaN</td>\n",
       "      <td>NaN</td>\n",
       "      <td>NaN</td>\n",
       "      <td>NaN</td>\n",
       "      <td>Post Graduate</td>\n",
       "      <td>Other or Unspecified</td>\n",
       "      <td>NaN</td>\n",
       "      <td>NaN</td>\n",
       "      <td>NaN</td>\n",
       "    </tr>\n",
       "    <tr>\n",
       "      <th>...</th>\n",
       "      <td>...</td>\n",
       "      <td>...</td>\n",
       "      <td>...</td>\n",
       "      <td>...</td>\n",
       "      <td>...</td>\n",
       "      <td>...</td>\n",
       "      <td>...</td>\n",
       "      <td>...</td>\n",
       "      <td>...</td>\n",
       "      <td>...</td>\n",
       "      <td>...</td>\n",
       "      <td>...</td>\n",
       "      <td>...</td>\n",
       "      <td>...</td>\n",
       "      <td>...</td>\n",
       "      <td>...</td>\n",
       "      <td>...</td>\n",
       "      <td>...</td>\n",
       "      <td>...</td>\n",
       "      <td>...</td>\n",
       "      <td>...</td>\n",
       "    </tr>\n",
       "    <tr>\n",
       "      <th>1349</th>\n",
       "      <td>AE</td>\n",
       "      <td>Gujarat</td>\n",
       "      <td>11</td>\n",
       "      <td>178</td>\n",
       "      <td>2007</td>\n",
       "      <td>12</td>\n",
       "      <td>0</td>\n",
       "      <td>3</td>\n",
       "      <td>1</td>\n",
       "      <td>DESAI DOLATRAI NATHUBHAI</td>\n",
       "      <td>...</td>\n",
       "      <td>76.0</td>\n",
       "      <td>NaN</td>\n",
       "      <td>NaN</td>\n",
       "      <td>NaN</td>\n",
       "      <td>NaN</td>\n",
       "      <td>12th Pass</td>\n",
       "      <td>Other or Unspecified</td>\n",
       "      <td>NaN</td>\n",
       "      <td>NaN</td>\n",
       "      <td>NaN</td>\n",
       "    </tr>\n",
       "    <tr>\n",
       "      <th>1354</th>\n",
       "      <td>AE</td>\n",
       "      <td>Gujarat</td>\n",
       "      <td>11</td>\n",
       "      <td>179</td>\n",
       "      <td>2007</td>\n",
       "      <td>12</td>\n",
       "      <td>0</td>\n",
       "      <td>3</td>\n",
       "      <td>1</td>\n",
       "      <td>CHAUDHARI CHHANABHAI KOLUBHAI</td>\n",
       "      <td>...</td>\n",
       "      <td>55.0</td>\n",
       "      <td>NaN</td>\n",
       "      <td>NaN</td>\n",
       "      <td>NaN</td>\n",
       "      <td>NaN</td>\n",
       "      <td>10th Pass</td>\n",
       "      <td>Other or Unspecified</td>\n",
       "      <td>NaN</td>\n",
       "      <td>NaN</td>\n",
       "      <td>NaN</td>\n",
       "    </tr>\n",
       "    <tr>\n",
       "      <th>1359</th>\n",
       "      <td>AE</td>\n",
       "      <td>Gujarat</td>\n",
       "      <td>11</td>\n",
       "      <td>180</td>\n",
       "      <td>2007</td>\n",
       "      <td>12</td>\n",
       "      <td>0</td>\n",
       "      <td>3</td>\n",
       "      <td>1</td>\n",
       "      <td>CHAUDHARY JITUBHAI HIRJIBHAI</td>\n",
       "      <td>...</td>\n",
       "      <td>43.0</td>\n",
       "      <td>NaN</td>\n",
       "      <td>NaN</td>\n",
       "      <td>NaN</td>\n",
       "      <td>NaN</td>\n",
       "      <td>8th Pass</td>\n",
       "      <td>Other or Unspecified</td>\n",
       "      <td>NaN</td>\n",
       "      <td>NaN</td>\n",
       "      <td>NaN</td>\n",
       "    </tr>\n",
       "    <tr>\n",
       "      <th>1365</th>\n",
       "      <td>AE</td>\n",
       "      <td>Gujarat</td>\n",
       "      <td>11</td>\n",
       "      <td>181</td>\n",
       "      <td>2007</td>\n",
       "      <td>12</td>\n",
       "      <td>0</td>\n",
       "      <td>3</td>\n",
       "      <td>1</td>\n",
       "      <td>PATEL USHABEN GIRISHKUMAR</td>\n",
       "      <td>...</td>\n",
       "      <td>40.0</td>\n",
       "      <td>NaN</td>\n",
       "      <td>NaN</td>\n",
       "      <td>NaN</td>\n",
       "      <td>NaN</td>\n",
       "      <td>Others</td>\n",
       "      <td>Other or Unspecified</td>\n",
       "      <td>NaN</td>\n",
       "      <td>NaN</td>\n",
       "      <td>NaN</td>\n",
       "    </tr>\n",
       "    <tr>\n",
       "      <th>1369</th>\n",
       "      <td>AE</td>\n",
       "      <td>Gujarat</td>\n",
       "      <td>11</td>\n",
       "      <td>182</td>\n",
       "      <td>2007</td>\n",
       "      <td>12</td>\n",
       "      <td>0</td>\n",
       "      <td>3</td>\n",
       "      <td>1</td>\n",
       "      <td>RAMANLAL NANUBHAI PATKAR</td>\n",
       "      <td>...</td>\n",
       "      <td>55.0</td>\n",
       "      <td>NaN</td>\n",
       "      <td>NaN</td>\n",
       "      <td>NaN</td>\n",
       "      <td>NaN</td>\n",
       "      <td>8th Pass</td>\n",
       "      <td>Other or Unspecified</td>\n",
       "      <td>NaN</td>\n",
       "      <td>NaN</td>\n",
       "      <td>NaN</td>\n",
       "    </tr>\n",
       "  </tbody>\n",
       "</table>\n",
       "<p>182 rows × 50 columns</p>\n",
       "</div>"
      ],
      "text/plain": [
       "     Election_Type State_Name  Assembly_No  Constituency_No  Year  month  \\\n",
       "0               AE    Gujarat           11                1  2007     12   \n",
       "6               AE    Gujarat           11                2  2007     12   \n",
       "15              AE    Gujarat           11                3  2007     12   \n",
       "24              AE    Gujarat           11                4  2007     12   \n",
       "29              AE    Gujarat           11                5  2007     12   \n",
       "...            ...        ...          ...              ...   ...    ...   \n",
       "1349            AE    Gujarat           11              178  2007     12   \n",
       "1354            AE    Gujarat           11              179  2007     12   \n",
       "1359            AE    Gujarat           11              180  2007     12   \n",
       "1365            AE    Gujarat           11              181  2007     12   \n",
       "1369            AE    Gujarat           11              182  2007     12   \n",
       "\n",
       "      Poll_No  DelimID  Position  \\\n",
       "0           0        3         1   \n",
       "6           0        3         1   \n",
       "15          0        3         1   \n",
       "24          0        3         1   \n",
       "29          0        3         1   \n",
       "...       ...      ...       ...   \n",
       "1349        0        3         1   \n",
       "1354        0        3         1   \n",
       "1359        0        3         1   \n",
       "1365        0        3         1   \n",
       "1369        0        3         1   \n",
       "\n",
       "                                          Candidate  ...   Age District_Name  \\\n",
       "0                   JAYANTILAL PARSOTTAM BHANUSHALI  ...  43.0           NaN   \n",
       "6     SENGHANI DHANJIBHAI (ALIAS MANGAL) GOVINDBHAI  ...  57.0           NaN   \n",
       "15                         AHIR VASANBHAI GOPALBHAI  ...  49.0           NaN   \n",
       "24                     MAHESHWARI RAMESH VACHCHHRAJ  ...  39.0           NaN   \n",
       "29                     ACHARYA NEEMABEN BHAVESHBHAI  ...  60.0           NaN   \n",
       "...                                             ...  ...   ...           ...   \n",
       "1349                       DESAI DOLATRAI NATHUBHAI  ...  76.0           NaN   \n",
       "1354                  CHAUDHARI CHHANABHAI KOLUBHAI  ...  55.0           NaN   \n",
       "1359                   CHAUDHARY JITUBHAI HIRJIBHAI  ...  43.0           NaN   \n",
       "1365                      PATEL USHABEN GIRISHKUMAR  ...  40.0           NaN   \n",
       "1369                       RAMANLAL NANUBHAI PATKAR  ...  55.0           NaN   \n",
       "\n",
       "      PC_Name PC_No  CandID  MyNeta_education        TCPD_Prof_Main  \\\n",
       "0         NaN   NaN     NaN          5th Pass  Other or Unspecified   \n",
       "6         NaN   NaN     NaN          5th Pass  Other or Unspecified   \n",
       "15        NaN   NaN     NaN          5th Pass  Other or Unspecified   \n",
       "24        NaN   NaN     NaN         12th Pass  Other or Unspecified   \n",
       "29        NaN   NaN     NaN     Post Graduate  Other or Unspecified   \n",
       "...       ...   ...     ...               ...                   ...   \n",
       "1349      NaN   NaN     NaN         12th Pass  Other or Unspecified   \n",
       "1354      NaN   NaN     NaN         10th Pass  Other or Unspecified   \n",
       "1359      NaN   NaN     NaN          8th Pass  Other or Unspecified   \n",
       "1365      NaN   NaN     NaN            Others  Other or Unspecified   \n",
       "1369      NaN   NaN     NaN          8th Pass  Other or Unspecified   \n",
       "\n",
       "     TCPD_Prof_Main_Desc TCPD_Prof_Second  TCPD_Prof_Second_Desc  \n",
       "0                    NaN              NaN                    NaN  \n",
       "6                    NaN              NaN                    NaN  \n",
       "15                   NaN              NaN                    NaN  \n",
       "24                   NaN              NaN                    NaN  \n",
       "29                   NaN              NaN                    NaN  \n",
       "...                  ...              ...                    ...  \n",
       "1349                 NaN              NaN                    NaN  \n",
       "1354                 NaN              NaN                    NaN  \n",
       "1359                 NaN              NaN                    NaN  \n",
       "1365                 NaN              NaN                    NaN  \n",
       "1369                 NaN              NaN                    NaN  \n",
       "\n",
       "[182 rows x 50 columns]"
      ]
     },
     "execution_count": 177,
     "metadata": {},
     "output_type": "execute_result"
    }
   ],
   "source": [
    "df_2007_winners"
   ]
  },
  {
   "cell_type": "code",
   "execution_count": 199,
   "id": "41114625-6f38-49ac-9825-c2dddfd70810",
   "metadata": {},
   "outputs": [],
   "source": [
    "winner_df = df.copy()"
   ]
  },
  {
   "cell_type": "code",
   "execution_count": 202,
   "id": "2fff2185-aa25-465e-a3b0-c0cd4e1c0f87",
   "metadata": {},
   "outputs": [],
   "source": [
    "def win(x):\n",
    "    if x == 1:\n",
    "        return 1\n",
    "    else:\n",
    "        return 0"
   ]
  },
  {
   "cell_type": "code",
   "execution_count": 203,
   "id": "8cebd928-dfda-418c-a11d-51df8c543a6a",
   "metadata": {},
   "outputs": [],
   "source": [
    "winner_df['Winner'] = winner_df['Position'].apply(win) "
   ]
  },
  {
   "cell_type": "code",
   "execution_count": 205,
   "id": "70cf169e-412e-4588-a16b-a70f1d958487",
   "metadata": {},
   "outputs": [
    {
     "data": {
      "text/html": [
       "<div>\n",
       "<style scoped>\n",
       "    .dataframe tbody tr th:only-of-type {\n",
       "        vertical-align: middle;\n",
       "    }\n",
       "\n",
       "    .dataframe tbody tr th {\n",
       "        vertical-align: top;\n",
       "    }\n",
       "\n",
       "    .dataframe thead th {\n",
       "        text-align: right;\n",
       "    }\n",
       "</style>\n",
       "<table border=\"1\" class=\"dataframe\">\n",
       "  <thead>\n",
       "    <tr style=\"text-align: right;\">\n",
       "      <th></th>\n",
       "      <th>Election_Type</th>\n",
       "      <th>State_Name</th>\n",
       "      <th>Assembly_No</th>\n",
       "      <th>Constituency_No</th>\n",
       "      <th>Year</th>\n",
       "      <th>month</th>\n",
       "      <th>Poll_No</th>\n",
       "      <th>DelimID</th>\n",
       "      <th>Position</th>\n",
       "      <th>Candidate</th>\n",
       "      <th>...</th>\n",
       "      <th>District_Name</th>\n",
       "      <th>PC_Name</th>\n",
       "      <th>PC_No</th>\n",
       "      <th>CandID</th>\n",
       "      <th>MyNeta_education</th>\n",
       "      <th>TCPD_Prof_Main</th>\n",
       "      <th>TCPD_Prof_Main_Desc</th>\n",
       "      <th>TCPD_Prof_Second</th>\n",
       "      <th>TCPD_Prof_Second_Desc</th>\n",
       "      <th>Winner</th>\n",
       "    </tr>\n",
       "  </thead>\n",
       "  <tbody>\n",
       "    <tr>\n",
       "      <th>0</th>\n",
       "      <td>AE</td>\n",
       "      <td>Gujarat</td>\n",
       "      <td>11</td>\n",
       "      <td>1</td>\n",
       "      <td>2007</td>\n",
       "      <td>12</td>\n",
       "      <td>0</td>\n",
       "      <td>3</td>\n",
       "      <td>1</td>\n",
       "      <td>JAYANTILAL PARSOTTAM BHANUSHALI</td>\n",
       "      <td>...</td>\n",
       "      <td>NaN</td>\n",
       "      <td>NaN</td>\n",
       "      <td>NaN</td>\n",
       "      <td>NaN</td>\n",
       "      <td>5th Pass</td>\n",
       "      <td>Other or Unspecified</td>\n",
       "      <td>NaN</td>\n",
       "      <td>NaN</td>\n",
       "      <td>NaN</td>\n",
       "      <td>1</td>\n",
       "    </tr>\n",
       "    <tr>\n",
       "      <th>1</th>\n",
       "      <td>AE</td>\n",
       "      <td>Gujarat</td>\n",
       "      <td>11</td>\n",
       "      <td>1</td>\n",
       "      <td>2007</td>\n",
       "      <td>12</td>\n",
       "      <td>0</td>\n",
       "      <td>3</td>\n",
       "      <td>2</td>\n",
       "      <td>JADEJA NARENDRASINH MADHAVSINHJI</td>\n",
       "      <td>...</td>\n",
       "      <td>NaN</td>\n",
       "      <td>NaN</td>\n",
       "      <td>NaN</td>\n",
       "      <td>NaN</td>\n",
       "      <td>10th Pass</td>\n",
       "      <td>Other or Unspecified</td>\n",
       "      <td>NaN</td>\n",
       "      <td>NaN</td>\n",
       "      <td>NaN</td>\n",
       "      <td>0</td>\n",
       "    </tr>\n",
       "    <tr>\n",
       "      <th>2</th>\n",
       "      <td>AE</td>\n",
       "      <td>Gujarat</td>\n",
       "      <td>11</td>\n",
       "      <td>1</td>\n",
       "      <td>2007</td>\n",
       "      <td>12</td>\n",
       "      <td>0</td>\n",
       "      <td>3</td>\n",
       "      <td>3</td>\n",
       "      <td>HALEPOTRA IBRAHIM JAFAR</td>\n",
       "      <td>...</td>\n",
       "      <td>NaN</td>\n",
       "      <td>NaN</td>\n",
       "      <td>NaN</td>\n",
       "      <td>NaN</td>\n",
       "      <td>10th Pass</td>\n",
       "      <td>Other or Unspecified</td>\n",
       "      <td>NaN</td>\n",
       "      <td>NaN</td>\n",
       "      <td>NaN</td>\n",
       "      <td>0</td>\n",
       "    </tr>\n",
       "    <tr>\n",
       "      <th>3</th>\n",
       "      <td>AE</td>\n",
       "      <td>Gujarat</td>\n",
       "      <td>11</td>\n",
       "      <td>1</td>\n",
       "      <td>2007</td>\n",
       "      <td>12</td>\n",
       "      <td>0</td>\n",
       "      <td>3</td>\n",
       "      <td>4</td>\n",
       "      <td>BHAVANI HANSRAJBHAI PARBATBHAI</td>\n",
       "      <td>...</td>\n",
       "      <td>NaN</td>\n",
       "      <td>NaN</td>\n",
       "      <td>NaN</td>\n",
       "      <td>NaN</td>\n",
       "      <td>NaN</td>\n",
       "      <td>NaN</td>\n",
       "      <td>NaN</td>\n",
       "      <td>NaN</td>\n",
       "      <td>NaN</td>\n",
       "      <td>0</td>\n",
       "    </tr>\n",
       "    <tr>\n",
       "      <th>4</th>\n",
       "      <td>AE</td>\n",
       "      <td>Gujarat</td>\n",
       "      <td>11</td>\n",
       "      <td>1</td>\n",
       "      <td>2007</td>\n",
       "      <td>12</td>\n",
       "      <td>0</td>\n",
       "      <td>3</td>\n",
       "      <td>5</td>\n",
       "      <td>KULINKANT BHOJRAJ SHAH (LODAYA)</td>\n",
       "      <td>...</td>\n",
       "      <td>NaN</td>\n",
       "      <td>NaN</td>\n",
       "      <td>NaN</td>\n",
       "      <td>NaN</td>\n",
       "      <td>NaN</td>\n",
       "      <td>NaN</td>\n",
       "      <td>NaN</td>\n",
       "      <td>NaN</td>\n",
       "      <td>NaN</td>\n",
       "      <td>0</td>\n",
       "    </tr>\n",
       "    <tr>\n",
       "      <th>5</th>\n",
       "      <td>AE</td>\n",
       "      <td>Gujarat</td>\n",
       "      <td>11</td>\n",
       "      <td>1</td>\n",
       "      <td>2007</td>\n",
       "      <td>12</td>\n",
       "      <td>0</td>\n",
       "      <td>3</td>\n",
       "      <td>6</td>\n",
       "      <td>GADHAVI KESHARDAN GENDAN</td>\n",
       "      <td>...</td>\n",
       "      <td>NaN</td>\n",
       "      <td>NaN</td>\n",
       "      <td>NaN</td>\n",
       "      <td>NaN</td>\n",
       "      <td>NaN</td>\n",
       "      <td>NaN</td>\n",
       "      <td>NaN</td>\n",
       "      <td>NaN</td>\n",
       "      <td>NaN</td>\n",
       "      <td>0</td>\n",
       "    </tr>\n",
       "    <tr>\n",
       "      <th>6</th>\n",
       "      <td>AE</td>\n",
       "      <td>Gujarat</td>\n",
       "      <td>11</td>\n",
       "      <td>2</td>\n",
       "      <td>2007</td>\n",
       "      <td>12</td>\n",
       "      <td>0</td>\n",
       "      <td>3</td>\n",
       "      <td>1</td>\n",
       "      <td>SENGHANI DHANJIBHAI (ALIAS MANGAL) GOVINDBHAI</td>\n",
       "      <td>...</td>\n",
       "      <td>NaN</td>\n",
       "      <td>NaN</td>\n",
       "      <td>NaN</td>\n",
       "      <td>NaN</td>\n",
       "      <td>5th Pass</td>\n",
       "      <td>Other or Unspecified</td>\n",
       "      <td>NaN</td>\n",
       "      <td>NaN</td>\n",
       "      <td>NaN</td>\n",
       "      <td>1</td>\n",
       "    </tr>\n",
       "    <tr>\n",
       "      <th>7</th>\n",
       "      <td>AE</td>\n",
       "      <td>Gujarat</td>\n",
       "      <td>11</td>\n",
       "      <td>2</td>\n",
       "      <td>2007</td>\n",
       "      <td>12</td>\n",
       "      <td>0</td>\n",
       "      <td>3</td>\n",
       "      <td>2</td>\n",
       "      <td>PATEL CHHABILBHAI NARAYANBHAI</td>\n",
       "      <td>...</td>\n",
       "      <td>NaN</td>\n",
       "      <td>NaN</td>\n",
       "      <td>NaN</td>\n",
       "      <td>NaN</td>\n",
       "      <td>Graduate</td>\n",
       "      <td>Other or Unspecified</td>\n",
       "      <td>NaN</td>\n",
       "      <td>NaN</td>\n",
       "      <td>NaN</td>\n",
       "      <td>0</td>\n",
       "    </tr>\n",
       "    <tr>\n",
       "      <th>8</th>\n",
       "      <td>AE</td>\n",
       "      <td>Gujarat</td>\n",
       "      <td>11</td>\n",
       "      <td>2</td>\n",
       "      <td>2007</td>\n",
       "      <td>12</td>\n",
       "      <td>0</td>\n",
       "      <td>3</td>\n",
       "      <td>3</td>\n",
       "      <td>GARVA RAYSHIBHAI KARSHANBHAI</td>\n",
       "      <td>...</td>\n",
       "      <td>NaN</td>\n",
       "      <td>NaN</td>\n",
       "      <td>NaN</td>\n",
       "      <td>NaN</td>\n",
       "      <td>Graduate</td>\n",
       "      <td>Other or Unspecified</td>\n",
       "      <td>NaN</td>\n",
       "      <td>NaN</td>\n",
       "      <td>NaN</td>\n",
       "      <td>0</td>\n",
       "    </tr>\n",
       "    <tr>\n",
       "      <th>9</th>\n",
       "      <td>AE</td>\n",
       "      <td>Gujarat</td>\n",
       "      <td>11</td>\n",
       "      <td>2</td>\n",
       "      <td>2007</td>\n",
       "      <td>12</td>\n",
       "      <td>0</td>\n",
       "      <td>3</td>\n",
       "      <td>4</td>\n",
       "      <td>SAIYAD KADARSHA LATIFSHAH</td>\n",
       "      <td>...</td>\n",
       "      <td>NaN</td>\n",
       "      <td>NaN</td>\n",
       "      <td>NaN</td>\n",
       "      <td>NaN</td>\n",
       "      <td>NaN</td>\n",
       "      <td>NaN</td>\n",
       "      <td>NaN</td>\n",
       "      <td>NaN</td>\n",
       "      <td>NaN</td>\n",
       "      <td>0</td>\n",
       "    </tr>\n",
       "  </tbody>\n",
       "</table>\n",
       "<p>10 rows × 51 columns</p>\n",
       "</div>"
      ],
      "text/plain": [
       "  Election_Type State_Name  Assembly_No  Constituency_No  Year  month  \\\n",
       "0            AE    Gujarat           11                1  2007     12   \n",
       "1            AE    Gujarat           11                1  2007     12   \n",
       "2            AE    Gujarat           11                1  2007     12   \n",
       "3            AE    Gujarat           11                1  2007     12   \n",
       "4            AE    Gujarat           11                1  2007     12   \n",
       "5            AE    Gujarat           11                1  2007     12   \n",
       "6            AE    Gujarat           11                2  2007     12   \n",
       "7            AE    Gujarat           11                2  2007     12   \n",
       "8            AE    Gujarat           11                2  2007     12   \n",
       "9            AE    Gujarat           11                2  2007     12   \n",
       "\n",
       "   Poll_No  DelimID  Position                                      Candidate  \\\n",
       "0        0        3         1                JAYANTILAL PARSOTTAM BHANUSHALI   \n",
       "1        0        3         2               JADEJA NARENDRASINH MADHAVSINHJI   \n",
       "2        0        3         3                        HALEPOTRA IBRAHIM JAFAR   \n",
       "3        0        3         4                 BHAVANI HANSRAJBHAI PARBATBHAI   \n",
       "4        0        3         5                KULINKANT BHOJRAJ SHAH (LODAYA)   \n",
       "5        0        3         6                       GADHAVI KESHARDAN GENDAN   \n",
       "6        0        3         1  SENGHANI DHANJIBHAI (ALIAS MANGAL) GOVINDBHAI   \n",
       "7        0        3         2                  PATEL CHHABILBHAI NARAYANBHAI   \n",
       "8        0        3         3                   GARVA RAYSHIBHAI KARSHANBHAI   \n",
       "9        0        3         4                      SAIYAD KADARSHA LATIFSHAH   \n",
       "\n",
       "   ... District_Name PC_Name  PC_No CandID  MyNeta_education  \\\n",
       "0  ...           NaN     NaN    NaN    NaN          5th Pass   \n",
       "1  ...           NaN     NaN    NaN    NaN         10th Pass   \n",
       "2  ...           NaN     NaN    NaN    NaN         10th Pass   \n",
       "3  ...           NaN     NaN    NaN    NaN               NaN   \n",
       "4  ...           NaN     NaN    NaN    NaN               NaN   \n",
       "5  ...           NaN     NaN    NaN    NaN               NaN   \n",
       "6  ...           NaN     NaN    NaN    NaN          5th Pass   \n",
       "7  ...           NaN     NaN    NaN    NaN          Graduate   \n",
       "8  ...           NaN     NaN    NaN    NaN          Graduate   \n",
       "9  ...           NaN     NaN    NaN    NaN               NaN   \n",
       "\n",
       "         TCPD_Prof_Main TCPD_Prof_Main_Desc TCPD_Prof_Second  \\\n",
       "0  Other or Unspecified                 NaN              NaN   \n",
       "1  Other or Unspecified                 NaN              NaN   \n",
       "2  Other or Unspecified                 NaN              NaN   \n",
       "3                   NaN                 NaN              NaN   \n",
       "4                   NaN                 NaN              NaN   \n",
       "5                   NaN                 NaN              NaN   \n",
       "6  Other or Unspecified                 NaN              NaN   \n",
       "7  Other or Unspecified                 NaN              NaN   \n",
       "8  Other or Unspecified                 NaN              NaN   \n",
       "9                   NaN                 NaN              NaN   \n",
       "\n",
       "  TCPD_Prof_Second_Desc  Winner  \n",
       "0                   NaN       1  \n",
       "1                   NaN       0  \n",
       "2                   NaN       0  \n",
       "3                   NaN       0  \n",
       "4                   NaN       0  \n",
       "5                   NaN       0  \n",
       "6                   NaN       1  \n",
       "7                   NaN       0  \n",
       "8                   NaN       0  \n",
       "9                   NaN       0  \n",
       "\n",
       "[10 rows x 51 columns]"
      ]
     },
     "execution_count": 205,
     "metadata": {},
     "output_type": "execute_result"
    }
   ],
   "source": [
    "winner_df.head(10)"
   ]
  },
  {
   "cell_type": "code",
   "execution_count": 276,
   "id": "b2e81661-061d-4482-8b5b-2a09ed0564cc",
   "metadata": {},
   "outputs": [
    {
     "data": {
      "text/html": [
       "<div>\n",
       "<style scoped>\n",
       "    .dataframe tbody tr th:only-of-type {\n",
       "        vertical-align: middle;\n",
       "    }\n",
       "\n",
       "    .dataframe tbody tr th {\n",
       "        vertical-align: top;\n",
       "    }\n",
       "\n",
       "    .dataframe thead th {\n",
       "        text-align: right;\n",
       "    }\n",
       "</style>\n",
       "<table border=\"1\" class=\"dataframe\">\n",
       "  <thead>\n",
       "    <tr style=\"text-align: right;\">\n",
       "      <th></th>\n",
       "      <th>Election_Type</th>\n",
       "      <th>State_Name</th>\n",
       "      <th>Assembly_No</th>\n",
       "      <th>Constituency_No</th>\n",
       "      <th>Year</th>\n",
       "      <th>month</th>\n",
       "      <th>Poll_No</th>\n",
       "      <th>DelimID</th>\n",
       "      <th>Position</th>\n",
       "      <th>Candidate</th>\n",
       "      <th>...</th>\n",
       "      <th>PC_Name</th>\n",
       "      <th>PC_No</th>\n",
       "      <th>CandID</th>\n",
       "      <th>MyNeta_education</th>\n",
       "      <th>TCPD_Prof_Main</th>\n",
       "      <th>TCPD_Prof_Main_Desc</th>\n",
       "      <th>TCPD_Prof_Second</th>\n",
       "      <th>TCPD_Prof_Second_Desc</th>\n",
       "      <th>Winner</th>\n",
       "      <th>year</th>\n",
       "    </tr>\n",
       "  </thead>\n",
       "  <tbody>\n",
       "    <tr>\n",
       "      <th>0</th>\n",
       "      <td>AE</td>\n",
       "      <td>Gujarat</td>\n",
       "      <td>11</td>\n",
       "      <td>1</td>\n",
       "      <td>2007</td>\n",
       "      <td>12</td>\n",
       "      <td>0</td>\n",
       "      <td>3</td>\n",
       "      <td>1</td>\n",
       "      <td>JAYANTILAL PARSOTTAM BHANUSHALI</td>\n",
       "      <td>...</td>\n",
       "      <td>NaN</td>\n",
       "      <td>NaN</td>\n",
       "      <td>NaN</td>\n",
       "      <td>5th Pass</td>\n",
       "      <td>Other or Unspecified</td>\n",
       "      <td>NaN</td>\n",
       "      <td>NaN</td>\n",
       "      <td>NaN</td>\n",
       "      <td>1</td>\n",
       "      <td>2007</td>\n",
       "    </tr>\n",
       "    <tr>\n",
       "      <th>1</th>\n",
       "      <td>AE</td>\n",
       "      <td>Gujarat</td>\n",
       "      <td>11</td>\n",
       "      <td>1</td>\n",
       "      <td>2007</td>\n",
       "      <td>12</td>\n",
       "      <td>0</td>\n",
       "      <td>3</td>\n",
       "      <td>2</td>\n",
       "      <td>JADEJA NARENDRASINH MADHAVSINHJI</td>\n",
       "      <td>...</td>\n",
       "      <td>NaN</td>\n",
       "      <td>NaN</td>\n",
       "      <td>NaN</td>\n",
       "      <td>10th Pass</td>\n",
       "      <td>Other or Unspecified</td>\n",
       "      <td>NaN</td>\n",
       "      <td>NaN</td>\n",
       "      <td>NaN</td>\n",
       "      <td>0</td>\n",
       "      <td>2007</td>\n",
       "    </tr>\n",
       "    <tr>\n",
       "      <th>2</th>\n",
       "      <td>AE</td>\n",
       "      <td>Gujarat</td>\n",
       "      <td>11</td>\n",
       "      <td>1</td>\n",
       "      <td>2007</td>\n",
       "      <td>12</td>\n",
       "      <td>0</td>\n",
       "      <td>3</td>\n",
       "      <td>3</td>\n",
       "      <td>HALEPOTRA IBRAHIM JAFAR</td>\n",
       "      <td>...</td>\n",
       "      <td>NaN</td>\n",
       "      <td>NaN</td>\n",
       "      <td>NaN</td>\n",
       "      <td>10th Pass</td>\n",
       "      <td>Other or Unspecified</td>\n",
       "      <td>NaN</td>\n",
       "      <td>NaN</td>\n",
       "      <td>NaN</td>\n",
       "      <td>0</td>\n",
       "      <td>2007</td>\n",
       "    </tr>\n",
       "    <tr>\n",
       "      <th>3</th>\n",
       "      <td>AE</td>\n",
       "      <td>Gujarat</td>\n",
       "      <td>11</td>\n",
       "      <td>1</td>\n",
       "      <td>2007</td>\n",
       "      <td>12</td>\n",
       "      <td>0</td>\n",
       "      <td>3</td>\n",
       "      <td>4</td>\n",
       "      <td>BHAVANI HANSRAJBHAI PARBATBHAI</td>\n",
       "      <td>...</td>\n",
       "      <td>NaN</td>\n",
       "      <td>NaN</td>\n",
       "      <td>NaN</td>\n",
       "      <td>NaN</td>\n",
       "      <td>NaN</td>\n",
       "      <td>NaN</td>\n",
       "      <td>NaN</td>\n",
       "      <td>NaN</td>\n",
       "      <td>0</td>\n",
       "      <td>2007</td>\n",
       "    </tr>\n",
       "    <tr>\n",
       "      <th>4</th>\n",
       "      <td>AE</td>\n",
       "      <td>Gujarat</td>\n",
       "      <td>11</td>\n",
       "      <td>1</td>\n",
       "      <td>2007</td>\n",
       "      <td>12</td>\n",
       "      <td>0</td>\n",
       "      <td>3</td>\n",
       "      <td>5</td>\n",
       "      <td>KULINKANT BHOJRAJ SHAH (LODAYA)</td>\n",
       "      <td>...</td>\n",
       "      <td>NaN</td>\n",
       "      <td>NaN</td>\n",
       "      <td>NaN</td>\n",
       "      <td>NaN</td>\n",
       "      <td>NaN</td>\n",
       "      <td>NaN</td>\n",
       "      <td>NaN</td>\n",
       "      <td>NaN</td>\n",
       "      <td>0</td>\n",
       "      <td>2007</td>\n",
       "    </tr>\n",
       "    <tr>\n",
       "      <th>...</th>\n",
       "      <td>...</td>\n",
       "      <td>...</td>\n",
       "      <td>...</td>\n",
       "      <td>...</td>\n",
       "      <td>...</td>\n",
       "      <td>...</td>\n",
       "      <td>...</td>\n",
       "      <td>...</td>\n",
       "      <td>...</td>\n",
       "      <td>...</td>\n",
       "      <td>...</td>\n",
       "      <td>...</td>\n",
       "      <td>...</td>\n",
       "      <td>...</td>\n",
       "      <td>...</td>\n",
       "      <td>...</td>\n",
       "      <td>...</td>\n",
       "      <td>...</td>\n",
       "      <td>...</td>\n",
       "      <td>...</td>\n",
       "      <td>...</td>\n",
       "    </tr>\n",
       "    <tr>\n",
       "      <th>5247</th>\n",
       "      <td>AE</td>\n",
       "      <td>Gujarat</td>\n",
       "      <td>13</td>\n",
       "      <td>182</td>\n",
       "      <td>2007</td>\n",
       "      <td>12</td>\n",
       "      <td>0</td>\n",
       "      <td>4</td>\n",
       "      <td>4</td>\n",
       "      <td>BOCHAL HASMUKHBHAI RAMANBHAI</td>\n",
       "      <td>...</td>\n",
       "      <td>NaN</td>\n",
       "      <td>NaN</td>\n",
       "      <td>NaN</td>\n",
       "      <td>10th Pass</td>\n",
       "      <td>Agricultural Labour</td>\n",
       "      <td>NaN</td>\n",
       "      <td>Agriculture</td>\n",
       "      <td>NaN</td>\n",
       "      <td>0</td>\n",
       "      <td>2007</td>\n",
       "    </tr>\n",
       "    <tr>\n",
       "      <th>5248</th>\n",
       "      <td>AE</td>\n",
       "      <td>Gujarat</td>\n",
       "      <td>13</td>\n",
       "      <td>182</td>\n",
       "      <td>2007</td>\n",
       "      <td>12</td>\n",
       "      <td>0</td>\n",
       "      <td>4</td>\n",
       "      <td>5</td>\n",
       "      <td>SHAILESHBHAI UKADBHAI DABHADIA</td>\n",
       "      <td>...</td>\n",
       "      <td>NaN</td>\n",
       "      <td>NaN</td>\n",
       "      <td>NaN</td>\n",
       "      <td>NaN</td>\n",
       "      <td>NaN</td>\n",
       "      <td>NaN</td>\n",
       "      <td>NaN</td>\n",
       "      <td>NaN</td>\n",
       "      <td>0</td>\n",
       "      <td>2007</td>\n",
       "    </tr>\n",
       "    <tr>\n",
       "      <th>5249</th>\n",
       "      <td>AE</td>\n",
       "      <td>Gujarat</td>\n",
       "      <td>13</td>\n",
       "      <td>182</td>\n",
       "      <td>2007</td>\n",
       "      <td>12</td>\n",
       "      <td>0</td>\n",
       "      <td>4</td>\n",
       "      <td>6</td>\n",
       "      <td>NARESHBHAI UKKADBHAI OZARIYA</td>\n",
       "      <td>...</td>\n",
       "      <td>NaN</td>\n",
       "      <td>NaN</td>\n",
       "      <td>NaN</td>\n",
       "      <td>NaN</td>\n",
       "      <td>NaN</td>\n",
       "      <td>NaN</td>\n",
       "      <td>NaN</td>\n",
       "      <td>NaN</td>\n",
       "      <td>0</td>\n",
       "      <td>2007</td>\n",
       "    </tr>\n",
       "    <tr>\n",
       "      <th>5250</th>\n",
       "      <td>AE</td>\n",
       "      <td>Gujarat</td>\n",
       "      <td>13</td>\n",
       "      <td>182</td>\n",
       "      <td>2007</td>\n",
       "      <td>12</td>\n",
       "      <td>0</td>\n",
       "      <td>4</td>\n",
       "      <td>7</td>\n",
       "      <td>VADIYA LAXMANBHAI CHHAGANBHAI</td>\n",
       "      <td>...</td>\n",
       "      <td>NaN</td>\n",
       "      <td>NaN</td>\n",
       "      <td>NaN</td>\n",
       "      <td>5th Pass</td>\n",
       "      <td>Agriculture</td>\n",
       "      <td>NaN</td>\n",
       "      <td>NaN</td>\n",
       "      <td>NaN</td>\n",
       "      <td>0</td>\n",
       "      <td>2007</td>\n",
       "    </tr>\n",
       "    <tr>\n",
       "      <th>5251</th>\n",
       "      <td>AE</td>\n",
       "      <td>Gujarat</td>\n",
       "      <td>13</td>\n",
       "      <td>182</td>\n",
       "      <td>2007</td>\n",
       "      <td>12</td>\n",
       "      <td>0</td>\n",
       "      <td>4</td>\n",
       "      <td>8</td>\n",
       "      <td>GOVINDBHAI VESTABHAI PATEL</td>\n",
       "      <td>...</td>\n",
       "      <td>NaN</td>\n",
       "      <td>NaN</td>\n",
       "      <td>NaN</td>\n",
       "      <td>Graduate</td>\n",
       "      <td>Agriculture</td>\n",
       "      <td>NaN</td>\n",
       "      <td>NaN</td>\n",
       "      <td>NaN</td>\n",
       "      <td>0</td>\n",
       "      <td>2007</td>\n",
       "    </tr>\n",
       "  </tbody>\n",
       "</table>\n",
       "<p>5252 rows × 52 columns</p>\n",
       "</div>"
      ],
      "text/plain": [
       "     Election_Type State_Name  Assembly_No  Constituency_No  Year  month  \\\n",
       "0               AE    Gujarat           11                1  2007     12   \n",
       "1               AE    Gujarat           11                1  2007     12   \n",
       "2               AE    Gujarat           11                1  2007     12   \n",
       "3               AE    Gujarat           11                1  2007     12   \n",
       "4               AE    Gujarat           11                1  2007     12   \n",
       "...            ...        ...          ...              ...   ...    ...   \n",
       "5247            AE    Gujarat           13              182  2007     12   \n",
       "5248            AE    Gujarat           13              182  2007     12   \n",
       "5249            AE    Gujarat           13              182  2007     12   \n",
       "5250            AE    Gujarat           13              182  2007     12   \n",
       "5251            AE    Gujarat           13              182  2007     12   \n",
       "\n",
       "      Poll_No  DelimID  Position                         Candidate  ...  \\\n",
       "0           0        3         1   JAYANTILAL PARSOTTAM BHANUSHALI  ...   \n",
       "1           0        3         2  JADEJA NARENDRASINH MADHAVSINHJI  ...   \n",
       "2           0        3         3           HALEPOTRA IBRAHIM JAFAR  ...   \n",
       "3           0        3         4    BHAVANI HANSRAJBHAI PARBATBHAI  ...   \n",
       "4           0        3         5   KULINKANT BHOJRAJ SHAH (LODAYA)  ...   \n",
       "...       ...      ...       ...                               ...  ...   \n",
       "5247        0        4         4      BOCHAL HASMUKHBHAI RAMANBHAI  ...   \n",
       "5248        0        4         5    SHAILESHBHAI UKADBHAI DABHADIA  ...   \n",
       "5249        0        4         6      NARESHBHAI UKKADBHAI OZARIYA  ...   \n",
       "5250        0        4         7     VADIYA LAXMANBHAI CHHAGANBHAI  ...   \n",
       "5251        0        4         8        GOVINDBHAI VESTABHAI PATEL  ...   \n",
       "\n",
       "     PC_Name PC_No  CandID MyNeta_education        TCPD_Prof_Main  \\\n",
       "0        NaN   NaN     NaN         5th Pass  Other or Unspecified   \n",
       "1        NaN   NaN     NaN        10th Pass  Other or Unspecified   \n",
       "2        NaN   NaN     NaN        10th Pass  Other or Unspecified   \n",
       "3        NaN   NaN     NaN              NaN                   NaN   \n",
       "4        NaN   NaN     NaN              NaN                   NaN   \n",
       "...      ...   ...     ...              ...                   ...   \n",
       "5247     NaN   NaN     NaN        10th Pass   Agricultural Labour   \n",
       "5248     NaN   NaN     NaN              NaN                   NaN   \n",
       "5249     NaN   NaN     NaN              NaN                   NaN   \n",
       "5250     NaN   NaN     NaN         5th Pass           Agriculture   \n",
       "5251     NaN   NaN     NaN         Graduate           Agriculture   \n",
       "\n",
       "      TCPD_Prof_Main_Desc TCPD_Prof_Second TCPD_Prof_Second_Desc Winner  year  \n",
       "0                     NaN              NaN                   NaN      1  2007  \n",
       "1                     NaN              NaN                   NaN      0  2007  \n",
       "2                     NaN              NaN                   NaN      0  2007  \n",
       "3                     NaN              NaN                   NaN      0  2007  \n",
       "4                     NaN              NaN                   NaN      0  2007  \n",
       "...                   ...              ...                   ...    ...   ...  \n",
       "5247                  NaN      Agriculture                   NaN      0  2007  \n",
       "5248                  NaN              NaN                   NaN      0  2007  \n",
       "5249                  NaN              NaN                   NaN      0  2007  \n",
       "5250                  NaN              NaN                   NaN      0  2007  \n",
       "5251                  NaN              NaN                   NaN      0  2007  \n",
       "\n",
       "[5252 rows x 52 columns]"
      ]
     },
     "execution_count": 276,
     "metadata": {},
     "output_type": "execute_result"
    }
   ],
   "source": [
    "winner_df[winner_df['Year']==2007]"
   ]
  },
  {
   "cell_type": "code",
   "execution_count": null,
   "id": "5eb241de-77b0-4deb-91a7-bf32ef5ab8dc",
   "metadata": {},
   "outputs": [],
   "source": []
  }
 ],
 "metadata": {
  "kernelspec": {
   "display_name": "Python 3 (ipykernel)",
   "language": "python",
   "name": "python3"
  },
  "language_info": {
   "codemirror_mode": {
    "name": "ipython",
    "version": 3
   },
   "file_extension": ".py",
   "mimetype": "text/x-python",
   "name": "python",
   "nbconvert_exporter": "python",
   "pygments_lexer": "ipython3",
   "version": "3.10.4"
  }
 },
 "nbformat": 4,
 "nbformat_minor": 5
}
