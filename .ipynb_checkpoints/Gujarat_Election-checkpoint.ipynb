{
 "cells": [
  {
   "cell_type": "markdown",
   "id": "43027ca4-7046-4304-8b46-d4ad73d558ce",
   "metadata": {},
   "source": [
    "# STUDY ON GUJARAT ELECTION\n",
    "                                                                                                                \n",
    "by Abhilash Ajay"
   ]
  },
  {
   "cell_type": "code",
   "execution_count": 1,
   "id": "a2d56e95-ec17-4bbb-ab61-e6ec13225837",
   "metadata": {},
   "outputs": [
    {
     "data": {
      "text/html": [
       "        <script type=\"text/javascript\">\n",
       "        window.PlotlyConfig = {MathJaxConfig: 'local'};\n",
       "        if (window.MathJax && window.MathJax.Hub && window.MathJax.Hub.Config) {window.MathJax.Hub.Config({SVG: {font: \"STIX-Web\"}});}\n",
       "        if (typeof require !== 'undefined') {\n",
       "        require.undef(\"plotly\");\n",
       "        requirejs.config({\n",
       "            paths: {\n",
       "                'plotly': ['https://cdn.plot.ly/plotly-2.14.0.min']\n",
       "            }\n",
       "        });\n",
       "        require(['plotly'], function(Plotly) {\n",
       "            window._Plotly = Plotly;\n",
       "        });\n",
       "        }\n",
       "        </script>\n",
       "        "
      ]
     },
     "metadata": {},
     "output_type": "display_data"
    }
   ],
   "source": [
    "import pandas as pd\n",
    "import numpy as np\n",
    "import seaborn as sns\n",
    "from sklearn import metrics\n",
    "from sklearn.model_selection import train_test_split\n",
    "from sklearn import linear_model\n",
    "import torch.nn as nn\n",
    "import torch.functional as F\n",
    "import plotly.express as px\n",
    "import plotly.graph_objects as go\n",
    "import matplotlib.pyplot as plt\n",
    "from plotly.subplots import make_subplots\n",
    "import cufflinks as cf\n",
    "cf.go_offline()\n",
    "%matplotlib inline"
   ]
  },
  {
   "cell_type": "markdown",
   "id": "7119b93c-6ad8-4f10-9d9b-257e74130a8d",
   "metadata": {},
   "source": [
    "# Data prep"
   ]
  },
  {
   "cell_type": "code",
   "execution_count": 2,
   "id": "f877c496-5a0d-47ca-a3f0-684295b5cc86",
   "metadata": {},
   "outputs": [],
   "source": [
    "df = pd.read_csv('GujAE.csv')"
   ]
  },
  {
   "cell_type": "code",
   "execution_count": 3,
   "id": "ec380d05-8e4b-41cc-92cc-8ec674cad561",
   "metadata": {},
   "outputs": [
    {
     "data": {
      "text/plain": [
       "Index(['Election_Type', 'State_Name', 'Assembly_No', 'Constituency_No', 'Year',\n",
       "       'month', 'Poll_No', 'DelimID', 'Position', 'Candidate', 'Sex', 'Party',\n",
       "       'Votes', 'Candidate_Type', 'Valid_Votes', 'Electors',\n",
       "       'Constituency_Name', 'Constituency_Type', 'Sub_Region', 'N_Cand',\n",
       "       'Turnout_Percentage', 'Vote_Share_Percentage', 'Deposit_Lost', 'Margin',\n",
       "       'Margin_Percentage', 'ENOP', 'pid', 'Party_Type_TCPD', 'Party_ID',\n",
       "       'last_poll', 'Contested', 'Last_Party', 'Last_Party_ID',\n",
       "       'Last_Constituency_Name', 'Same_Constituency', 'Same_Party', 'No_Terms',\n",
       "       'Turncoat', 'Incumbent', 'Recontest', 'Age', 'District_Name', 'PC_Name',\n",
       "       'PC_No', 'CandID', 'MyNeta_education', 'TCPD_Prof_Main',\n",
       "       'TCPD_Prof_Main_Desc', 'TCPD_Prof_Second', 'TCPD_Prof_Second_Desc'],\n",
       "      dtype='object')"
      ]
     },
     "execution_count": 3,
     "metadata": {},
     "output_type": "execute_result"
    }
   ],
   "source": [
    "df.columns"
   ]
  },
  {
   "cell_type": "code",
   "execution_count": 4,
   "id": "2fd94d09-ba94-4266-97bc-b7acc11f59b5",
   "metadata": {},
   "outputs": [],
   "source": [
    "df_2007 = df[df['Year']== 2007].copy()"
   ]
  },
  {
   "cell_type": "code",
   "execution_count": 5,
   "id": "b5a3b6d1-f3da-48d9-96f2-7b6e1a9ea7ae",
   "metadata": {},
   "outputs": [
    {
     "data": {
      "text/plain": [
       "0       137105\n",
       "1       137105\n",
       "2       137105\n",
       "3       137105\n",
       "4       137105\n",
       "         ...  \n",
       "1372    280982\n",
       "1373    280982\n",
       "1374    280982\n",
       "1375    280982\n",
       "1376    280982\n",
       "Name: Electors, Length: 1268, dtype: int64"
      ]
     },
     "execution_count": 5,
     "metadata": {},
     "output_type": "execute_result"
    }
   ],
   "source": [
    "df_2007['Electors']"
   ]
  },
  {
   "cell_type": "code",
   "execution_count": 6,
   "id": "fd955496-2cf5-4f8e-ac74-587a51a45e56",
   "metadata": {},
   "outputs": [
    {
     "data": {
      "text/plain": [
       "array([2007, 2009, 2010, 2011, 2012, 2014, 2013, 2016, 2017], dtype=int64)"
      ]
     },
     "execution_count": 6,
     "metadata": {},
     "output_type": "execute_result"
    }
   ],
   "source": [
    "df['Year'].unique()"
   ]
  },
  {
   "cell_type": "code",
   "execution_count": 7,
   "id": "cd777ee8-bd56-436f-a0c6-70748b6d0f23",
   "metadata": {},
   "outputs": [
    {
     "data": {
      "text/plain": [
       "array([  1,   2,   3,   4,   5,   6,   7,   8,   9,  10,  11,  12,  13,\n",
       "        14,  15,  16,  17,  18,  19,  20,  21,  22,  23,  24,  25,  26,\n",
       "        27,  28,  29,  30,  31,  32,  33,  34,  35,  36,  37,  38,  39,\n",
       "        40,  41,  42,  43,  44,  45,  46,  47,  48,  49,  50,  51,  52,\n",
       "        53,  54,  55,  56,  57,  58,  59,  60,  61,  62,  63,  64,  65,\n",
       "        66,  67,  68,  69,  70,  71,  72,  73,  74,  75,  76,  77,  78,\n",
       "        79,  80,  81,  82,  83,  84,  85,  86,  87,  88,  89,  90,  91,\n",
       "        92,  93,  94,  95,  96,  97,  98,  99, 100, 101, 102, 103, 104,\n",
       "       105, 106, 107, 108, 109, 110, 111, 112, 113, 114, 115, 116, 117,\n",
       "       118, 119, 120, 121, 122, 123, 124, 125, 126, 127, 128, 129, 130,\n",
       "       131, 132, 133, 134, 135, 136, 137, 138, 139, 140, 141, 142, 143,\n",
       "       144, 145, 146, 147, 148, 149, 150, 151, 152, 153, 154, 155, 156,\n",
       "       157, 158, 159, 160, 161, 162, 163, 164, 165, 166, 167, 168, 169,\n",
       "       170, 171, 172, 173, 174, 175, 176, 177, 178, 179, 180, 181, 182],\n",
       "      dtype=int64)"
      ]
     },
     "execution_count": 7,
     "metadata": {},
     "output_type": "execute_result"
    }
   ],
   "source": [
    "df['Constituency_No'].unique()"
   ]
  },
  {
   "cell_type": "code",
   "execution_count": 8,
   "id": "fb64d4f0-ee71-48ec-9942-d25a5f6074e1",
   "metadata": {},
   "outputs": [
    {
     "data": {
      "text/plain": [
       "array([  1,   2,   3,   4,   5,   6,   7,   8,   9,  10,  11,  12,  13,\n",
       "        14,  15,  16,  17,  18,  19,  20,  21,  22,  23,  24,  25,  26,\n",
       "        27,  28,  29,  30,  31,  32,  33,  34,  35,  36,  37,  38,  39,\n",
       "        40,  41,  42,  43,  44,  45,  46,  47,  48,  49,  50,  51,  52,\n",
       "        53,  54,  55,  56,  57,  58,  59,  60,  61,  62,  63,  64,  65,\n",
       "        66,  67,  68,  69,  70,  71,  72,  73,  74,  75,  76,  77,  78,\n",
       "        79,  80,  81,  82,  83,  84,  85,  86,  87,  88,  89,  90,  91,\n",
       "        92,  93,  94,  95,  96,  97,  98,  99, 100, 101, 102, 103, 104,\n",
       "       105, 106, 107, 108, 109, 110, 111, 112, 113, 114, 115, 116, 117,\n",
       "       118, 119, 120, 121, 122, 123, 124, 125, 126, 127, 128, 129, 130,\n",
       "       131, 132, 133, 134, 135, 136, 137, 138, 139, 140, 141, 142, 143,\n",
       "       144, 145, 146, 147, 148, 149, 150, 151, 152, 153, 154, 155, 156,\n",
       "       157, 158, 159, 160, 161, 162, 163, 164, 165, 166, 167, 168, 169,\n",
       "       170, 171, 172, 173, 174, 175, 176, 177, 178, 179, 180, 181, 182],\n",
       "      dtype=int64)"
      ]
     },
     "execution_count": 8,
     "metadata": {},
     "output_type": "execute_result"
    }
   ],
   "source": [
    "df_2007['Constituency_No'].unique()"
   ]
  },
  {
   "cell_type": "code",
   "execution_count": 9,
   "id": "ffb982ac-d4c3-484a-8a45-aac99895007e",
   "metadata": {},
   "outputs": [
    {
     "data": {
      "text/plain": [
       "178"
      ]
     },
     "execution_count": 9,
     "metadata": {},
     "output_type": "execute_result"
    }
   ],
   "source": [
    "df_2007['Constituency_Name'].nunique()"
   ]
  },
  {
   "cell_type": "code",
   "execution_count": 10,
   "id": "2bf2f113-a040-45c1-af6f-2bbdfa64b460",
   "metadata": {},
   "outputs": [
    {
     "data": {
      "text/plain": [
       "233"
      ]
     },
     "execution_count": 10,
     "metadata": {},
     "output_type": "execute_result"
    }
   ],
   "source": [
    "len(df['Constituency_Name'].unique())"
   ]
  },
  {
   "cell_type": "code",
   "execution_count": 11,
   "id": "66caeabb-f64c-418d-82fb-85639fcf127a",
   "metadata": {},
   "outputs": [],
   "source": [
    "df_2012 = df[df['Year'] == 2012].copy()"
   ]
  },
  {
   "cell_type": "code",
   "execution_count": 12,
   "id": "8a9eafd4-83ad-42a5-8630-6fe6e7abc051",
   "metadata": {},
   "outputs": [
    {
     "data": {
      "text/plain": [
       "176"
      ]
     },
     "execution_count": 12,
     "metadata": {},
     "output_type": "execute_result"
    }
   ],
   "source": [
    "df_2012['Constituency_Name'].nunique()"
   ]
  },
  {
   "cell_type": "code",
   "execution_count": 13,
   "id": "0395d6d6-cd4e-49e8-a1f8-a16bb00accb9",
   "metadata": {},
   "outputs": [],
   "source": [
    "df_2017 = df[df['Year'] == 2017].copy()"
   ]
  },
  {
   "cell_type": "code",
   "execution_count": 14,
   "id": "f0e7a46d-a474-4b47-bf30-99930aa323f1",
   "metadata": {},
   "outputs": [
    {
     "data": {
      "text/plain": [
       "array(['ABDASA', 'MANDVI', 'BHUJ', 'ANJAR', 'GANDHIDHAM', 'RAPAR', 'VAV',\n",
       "       'THARAD', 'DHANERA', 'DANTA', 'VADGAM', 'PALANPUR', 'DEESA',\n",
       "       'DEODAR', 'KANKREJ', 'RADHANPUR', 'CHANASMA', 'PATAN', 'SIDHPUR',\n",
       "       'KHERALU', 'UNJHA', 'VISNAGAR', 'BECHARAJI', 'KADI', 'MEHSANA',\n",
       "       'VIJAPUR', 'HIMATNAGAR', 'IDAR', 'KHEDBRAHMA', 'BHILODA', 'MODASA',\n",
       "       'BAYAD', 'PRANTIJ', 'DEHGAM', 'GANDHINAGAR SOUTH',\n",
       "       'GANDHINAGAR NORTH', 'MANSA', 'KALOL', 'VIRAMGAM', 'SANAND',\n",
       "       'GHATLODIA', 'VEJALPUR', 'VATVA', 'ELLIS BRIDGE', 'NARANPURA',\n",
       "       'NIKOL', 'NARODA', 'THAKKARBAPA NAGAR', 'BAPUNAGAR', 'AMRAIWADI',\n",
       "       'DARIAPUR', 'JAMALPUR-KHADIA', 'MANINAGAR', 'DANILIMDA',\n",
       "       'SABARMATI', 'ASARWA', 'DASKROI', 'DHOLKA', 'DHANDHUKA', 'DASADA',\n",
       "       'LIMBDI', 'WADHWAN', 'CHOTILA', 'DHRANGADHRA', 'MORVI', 'TANKARA',\n",
       "       'WANKANER', 'RAJKOT EAST', 'RAJKOT WEST', 'RAJKOT SOUTH',\n",
       "       'RAJKOT RURAL', 'JASDAN', 'GONDAL', 'JETPUR', 'DHORAJI', 'KALAWAD',\n",
       "       'JAMNAGAR RURAL', 'JAMNAGAR NORTH', 'JAMNAGAR SOUTH', 'JAMJODHPUR',\n",
       "       'KHAMBHALIA', 'DWARKA', 'PORBANDAR', 'KUTIYANA', 'MANAVADAR',\n",
       "       'JUNAGADH', 'VISAVADAR', 'KESHOD', 'MANGROL', 'SOMNATH', 'TALALA',\n",
       "       'KODINAR', 'UNA', 'DHARI', 'AMRELI', 'LATHI', 'SAVARKUNDLA',\n",
       "       'RAJULA', 'MAHUVA', 'TALAJA', 'GARIADHAR', 'PALITANA',\n",
       "       'BHAVNAGAR RURAL', 'BHAVNAGAR EAST', 'BHAVNAGAR WEST', 'GADHADA',\n",
       "       'BOTAD', 'KHAMBHAT', 'BORSAD', 'ANKLAV', 'UMRETH', 'ANAND',\n",
       "       'PETLAD', 'SOJITRA', 'MATAR', 'NADIAD', 'MEHEMDABAD', 'MAHUDHA',\n",
       "       'THASRA', 'KAPADWANJ', 'BALASINOR', 'LUNAWADA', 'SANTRAMPUR',\n",
       "       'SHEHRA', 'MORVA HADAF', 'GODHRA', 'HALOL', 'FATEPURA', 'JHALOD',\n",
       "       'LIMKHEDA', 'DAHOD', 'GARBADA', 'DEVGADH BARIA', 'SAVLI',\n",
       "       'VAGHODIA', 'CHHOTA UDAIPUR', 'SANKHEDA', 'DABHOI',\n",
       "       'VADODARA CITY', 'SAYAJIGANJ', 'AKOTA', 'RAOPURA', 'MANJALPUR',\n",
       "       'PADRA', 'KARANJ', 'NANDOD', 'DEDIAPADA', 'JAMBUSAR', 'VAGRA',\n",
       "       'JHAGADIA', 'BHARUCH', 'ANKLESHWAR', 'OLPAD', 'KAMREJ',\n",
       "       'SURAT EAST', 'SURAT NORTH', 'VARACHHA ROAD', 'LIMBAYAT', 'UDHNA',\n",
       "       'MAJURA', 'KATARGAM', 'SURAT WEST', 'CHORASI', 'BARDOLI', 'VYARA',\n",
       "       'NIZAR', 'DANGS', 'JALALPORE', 'NAVSARI', 'GANDEVI', 'VANSDA',\n",
       "       'DHARAMPUR', 'VALSAD', 'PARDI', 'KAPRADA', 'UMBERGAON'],\n",
       "      dtype=object)"
      ]
     },
     "execution_count": 14,
     "metadata": {},
     "output_type": "execute_result"
    }
   ],
   "source": [
    "df_2017['Constituency_Name'].unique()"
   ]
  },
  {
   "cell_type": "code",
   "execution_count": 15,
   "id": "ccd25696-0906-40da-9f03-f44bd9158d6d",
   "metadata": {},
   "outputs": [
    {
     "data": {
      "text/plain": [
       "182"
      ]
     },
     "execution_count": 15,
     "metadata": {},
     "output_type": "execute_result"
    }
   ],
   "source": [
    "df_2017['Constituency_No'].nunique()"
   ]
  },
  {
   "cell_type": "code",
   "execution_count": 16,
   "id": "1f9b5d2b-4619-4a66-81ce-1a640310252e",
   "metadata": {},
   "outputs": [
    {
     "data": {
      "text/html": [
       "<div>\n",
       "<style scoped>\n",
       "    .dataframe tbody tr th:only-of-type {\n",
       "        vertical-align: middle;\n",
       "    }\n",
       "\n",
       "    .dataframe tbody tr th {\n",
       "        vertical-align: top;\n",
       "    }\n",
       "\n",
       "    .dataframe thead th {\n",
       "        text-align: right;\n",
       "    }\n",
       "</style>\n",
       "<table border=\"1\" class=\"dataframe\">\n",
       "  <thead>\n",
       "    <tr style=\"text-align: right;\">\n",
       "      <th></th>\n",
       "      <th>Election_Type</th>\n",
       "      <th>State_Name</th>\n",
       "      <th>Assembly_No</th>\n",
       "      <th>Constituency_No</th>\n",
       "      <th>Year</th>\n",
       "      <th>month</th>\n",
       "      <th>Poll_No</th>\n",
       "      <th>DelimID</th>\n",
       "      <th>Position</th>\n",
       "      <th>Candidate</th>\n",
       "      <th>...</th>\n",
       "      <th>Age</th>\n",
       "      <th>District_Name</th>\n",
       "      <th>PC_Name</th>\n",
       "      <th>PC_No</th>\n",
       "      <th>CandID</th>\n",
       "      <th>MyNeta_education</th>\n",
       "      <th>TCPD_Prof_Main</th>\n",
       "      <th>TCPD_Prof_Main_Desc</th>\n",
       "      <th>TCPD_Prof_Second</th>\n",
       "      <th>TCPD_Prof_Second_Desc</th>\n",
       "    </tr>\n",
       "  </thead>\n",
       "  <tbody>\n",
       "  </tbody>\n",
       "</table>\n",
       "<p>0 rows × 50 columns</p>\n",
       "</div>"
      ],
      "text/plain": [
       "Empty DataFrame\n",
       "Columns: [Election_Type, State_Name, Assembly_No, Constituency_No, Year, month, Poll_No, DelimID, Position, Candidate, Sex, Party, Votes, Candidate_Type, Valid_Votes, Electors, Constituency_Name, Constituency_Type, Sub_Region, N_Cand, Turnout_Percentage, Vote_Share_Percentage, Deposit_Lost, Margin, Margin_Percentage, ENOP, pid, Party_Type_TCPD, Party_ID, last_poll, Contested, Last_Party, Last_Party_ID, Last_Constituency_Name, Same_Constituency, Same_Party, No_Terms, Turncoat, Incumbent, Recontest, Age, District_Name, PC_Name, PC_No, CandID, MyNeta_education, TCPD_Prof_Main, TCPD_Prof_Main_Desc, TCPD_Prof_Second, TCPD_Prof_Second_Desc]\n",
       "Index: []\n",
       "\n",
       "[0 rows x 50 columns]"
      ]
     },
     "execution_count": 16,
     "metadata": {},
     "output_type": "execute_result"
    }
   ],
   "source": [
    "df_2017[df_2017['Constituency_Name']=='']"
   ]
  },
  {
   "cell_type": "code",
   "execution_count": 17,
   "id": "964d521a-6916-479c-a027-fefa5e759519",
   "metadata": {},
   "outputs": [
    {
     "data": {
      "text/plain": [
       "Election_Type                0\n",
       "State_Name                   0\n",
       "Assembly_No                  0\n",
       "Constituency_No              0\n",
       "Year                         0\n",
       "month                        0\n",
       "Poll_No                      0\n",
       "DelimID                      0\n",
       "Position                     0\n",
       "Candidate                    0\n",
       "Sex                        182\n",
       "Party                        0\n",
       "Votes                        0\n",
       "Candidate_Type             182\n",
       "Valid_Votes                  0\n",
       "Electors                     0\n",
       "Constituency_Name            0\n",
       "Constituency_Type            0\n",
       "Sub_Region                   0\n",
       "N_Cand                       0\n",
       "Turnout_Percentage           0\n",
       "Vote_Share_Percentage        0\n",
       "Deposit_Lost                 0\n",
       "Margin                       0\n",
       "Margin_Percentage            0\n",
       "ENOP                         0\n",
       "pid                        182\n",
       "Party_Type_TCPD           2010\n",
       "Party_ID                     0\n",
       "last_poll                    0\n",
       "Contested                  182\n",
       "Last_Party                1634\n",
       "Last_Party_ID             1453\n",
       "Last_Constituency_Name    1634\n",
       "Same_Constituency         1634\n",
       "Same_Party                1634\n",
       "No_Terms                   182\n",
       "Turncoat                   182\n",
       "Incumbent                    0\n",
       "Recontest                    0\n",
       "Age                        182\n",
       "District_Name                0\n",
       "PC_Name                   2010\n",
       "PC_No                     2010\n",
       "CandID                    2010\n",
       "MyNeta_education           553\n",
       "TCPD_Prof_Main             553\n",
       "TCPD_Prof_Main_Desc       1669\n",
       "TCPD_Prof_Second          1770\n",
       "TCPD_Prof_Second_Desc     1999\n",
       "dtype: int64"
      ]
     },
     "execution_count": 17,
     "metadata": {},
     "output_type": "execute_result"
    }
   ],
   "source": [
    "df_2017.isnull().sum()"
   ]
  },
  {
   "cell_type": "code",
   "execution_count": 18,
   "id": "acd573ad-5351-4f12-b0cd-9d92e05e2804",
   "metadata": {},
   "outputs": [
    {
     "data": {
      "text/plain": [
       "176"
      ]
     },
     "execution_count": 18,
     "metadata": {},
     "output_type": "execute_result"
    }
   ],
   "source": [
    "df_2012['Constituency_Name'].nunique()"
   ]
  },
  {
   "cell_type": "code",
   "execution_count": 19,
   "id": "8846c5eb-b159-4f6f-9e3f-f0bba7fe99fe",
   "metadata": {},
   "outputs": [
    {
     "data": {
      "text/plain": [
       "176"
      ]
     },
     "execution_count": 19,
     "metadata": {},
     "output_type": "execute_result"
    }
   ],
   "source": [
    "df_2017['Constituency_Name'].nunique()"
   ]
  },
  {
   "cell_type": "code",
   "execution_count": 20,
   "id": "93cc783c-7056-4ecf-9b99-ea8487d5fe66",
   "metadata": {},
   "outputs": [
    {
     "data": {
      "text/plain": [
       "178"
      ]
     },
     "execution_count": 20,
     "metadata": {},
     "output_type": "execute_result"
    }
   ],
   "source": [
    "df_2007['Constituency_Name'].nunique()"
   ]
  },
  {
   "cell_type": "code",
   "execution_count": 21,
   "id": "860f6e12-d75b-431d-aca8-e2b3b489f3f4",
   "metadata": {},
   "outputs": [],
   "source": [
    "df_2009 = df[df['Year'] == 2009].copy()\n",
    "df_2010 = df[df['Year'] == 2010].copy()\n",
    "df_2011 = df[df['Year'] == 2011].copy()\n",
    "df_2013 = df[df['Year'] == 2013].copy()\n",
    "df_2014 = df[df['Year'] == 2014].copy()\n",
    "df_2016 = df[df['Year'] == 2016].copy()"
   ]
  },
  {
   "cell_type": "markdown",
   "id": "a44b5aa0-ced6-48f2-8d0a-54a1f8cfe51f",
   "metadata": {},
   "source": [
    "# DataFrame with Only Winning Candidates"
   ]
  },
  {
   "cell_type": "code",
   "execution_count": 22,
   "id": "cc4429f1-201d-4d08-801c-206e2b423e76",
   "metadata": {},
   "outputs": [],
   "source": [
    "df_2007_winners = df_2007[df_2007['Position'] == 1]"
   ]
  },
  {
   "cell_type": "code",
   "execution_count": 23,
   "id": "2bc0acdd-c4e5-4f80-8638-c4e979039c28",
   "metadata": {},
   "outputs": [],
   "source": [
    "df_2012_winners = df_2012[df_2012['Position'] == 1]"
   ]
  },
  {
   "cell_type": "code",
   "execution_count": 24,
   "id": "260cf019-a20d-497e-bcc5-f619040bb6ab",
   "metadata": {},
   "outputs": [],
   "source": [
    "df_2017_winners = df_2017[df_2017['Position'] == 1]"
   ]
  },
  {
   "cell_type": "code",
   "execution_count": 25,
   "id": "3bed5dd6-c3c4-45bf-af93-9421900fab1e",
   "metadata": {},
   "outputs": [],
   "source": [
    "df_2009_winners = df_2009[df_2009['Position'] == 1]\n",
    "df_2010_winners = df_2010[df_2010['Position'] == 1]\n",
    "df_2011_winners = df_2011[df_2011['Position'] == 1]\n",
    "df_2013_winners = df_2013[df_2013['Position'] == 1]\n",
    "df_2014_winners = df_2014[df_2014['Position'] == 1]\n",
    "df_2016_winners = df_2016[df_2016['Position'] == 1]"
   ]
  },
  {
   "cell_type": "code",
   "execution_count": 26,
   "id": "f1b46776-f208-40b0-b788-0da2d149eae8",
   "metadata": {},
   "outputs": [
    {
     "data": {
      "text/html": [
       "<div>\n",
       "<style scoped>\n",
       "    .dataframe tbody tr th:only-of-type {\n",
       "        vertical-align: middle;\n",
       "    }\n",
       "\n",
       "    .dataframe tbody tr th {\n",
       "        vertical-align: top;\n",
       "    }\n",
       "\n",
       "    .dataframe thead th {\n",
       "        text-align: right;\n",
       "    }\n",
       "</style>\n",
       "<table border=\"1\" class=\"dataframe\">\n",
       "  <thead>\n",
       "    <tr style=\"text-align: right;\">\n",
       "      <th></th>\n",
       "      <th>Election_Type</th>\n",
       "      <th>State_Name</th>\n",
       "      <th>Assembly_No</th>\n",
       "      <th>Constituency_No</th>\n",
       "      <th>Year</th>\n",
       "      <th>month</th>\n",
       "      <th>Poll_No</th>\n",
       "      <th>DelimID</th>\n",
       "      <th>Position</th>\n",
       "      <th>Candidate</th>\n",
       "      <th>...</th>\n",
       "      <th>Age</th>\n",
       "      <th>District_Name</th>\n",
       "      <th>PC_Name</th>\n",
       "      <th>PC_No</th>\n",
       "      <th>CandID</th>\n",
       "      <th>MyNeta_education</th>\n",
       "      <th>TCPD_Prof_Main</th>\n",
       "      <th>TCPD_Prof_Main_Desc</th>\n",
       "      <th>TCPD_Prof_Second</th>\n",
       "      <th>TCPD_Prof_Second_Desc</th>\n",
       "    </tr>\n",
       "  </thead>\n",
       "  <tbody>\n",
       "    <tr>\n",
       "      <th>2404</th>\n",
       "      <td>AE</td>\n",
       "      <td>Gujarat</td>\n",
       "      <td>12</td>\n",
       "      <td>91</td>\n",
       "      <td>2016</td>\n",
       "      <td>12</td>\n",
       "      <td>1</td>\n",
       "      <td>4</td>\n",
       "      <td>1</td>\n",
       "      <td>Govind Bhai Varjang Bhai Parmar</td>\n",
       "      <td>...</td>\n",
       "      <td>NaN</td>\n",
       "      <td>Gir Somnath</td>\n",
       "      <td>NaN</td>\n",
       "      <td>NaN</td>\n",
       "      <td>NaN</td>\n",
       "      <td>NaN</td>\n",
       "      <td>NaN</td>\n",
       "      <td>NaN</td>\n",
       "      <td>NaN</td>\n",
       "      <td>NaN</td>\n",
       "    </tr>\n",
       "    <tr>\n",
       "      <th>3116</th>\n",
       "      <td>AE</td>\n",
       "      <td>Gujarat</td>\n",
       "      <td>12</td>\n",
       "      <td>168</td>\n",
       "      <td>2016</td>\n",
       "      <td>12</td>\n",
       "      <td>1</td>\n",
       "      <td>4</td>\n",
       "      <td>1</td>\n",
       "      <td>Zankhana HiteshKumar Patel (Rajabbhai)</td>\n",
       "      <td>...</td>\n",
       "      <td>NaN</td>\n",
       "      <td>Surat</td>\n",
       "      <td>NaN</td>\n",
       "      <td>NaN</td>\n",
       "      <td>NaN</td>\n",
       "      <td>NaN</td>\n",
       "      <td>NaN</td>\n",
       "      <td>NaN</td>\n",
       "      <td>NaN</td>\n",
       "      <td>NaN</td>\n",
       "    </tr>\n",
       "  </tbody>\n",
       "</table>\n",
       "<p>2 rows × 50 columns</p>\n",
       "</div>"
      ],
      "text/plain": [
       "     Election_Type State_Name  Assembly_No  Constituency_No  Year  month  \\\n",
       "2404            AE    Gujarat           12               91  2016     12   \n",
       "3116            AE    Gujarat           12              168  2016     12   \n",
       "\n",
       "      Poll_No  DelimID  Position                               Candidate  ...  \\\n",
       "2404        1        4         1         Govind Bhai Varjang Bhai Parmar  ...   \n",
       "3116        1        4         1  Zankhana HiteshKumar Patel (Rajabbhai)  ...   \n",
       "\n",
       "     Age District_Name  PC_Name PC_No  CandID  MyNeta_education  \\\n",
       "2404 NaN   Gir Somnath      NaN   NaN     NaN               NaN   \n",
       "3116 NaN         Surat      NaN   NaN     NaN               NaN   \n",
       "\n",
       "     TCPD_Prof_Main TCPD_Prof_Main_Desc TCPD_Prof_Second  \\\n",
       "2404            NaN                 NaN              NaN   \n",
       "3116            NaN                 NaN              NaN   \n",
       "\n",
       "      TCPD_Prof_Second_Desc  \n",
       "2404                    NaN  \n",
       "3116                    NaN  \n",
       "\n",
       "[2 rows x 50 columns]"
      ]
     },
     "execution_count": 26,
     "metadata": {},
     "output_type": "execute_result"
    }
   ],
   "source": [
    "df_2016_winners"
   ]
  },
  {
   "cell_type": "code",
   "execution_count": 27,
   "id": "ca05526e-dcdf-4b5b-8488-a3efa598a8b1",
   "metadata": {},
   "outputs": [
    {
     "data": {
      "text/plain": [
       "Election_Type              object\n",
       "State_Name                 object\n",
       "Assembly_No                 int64\n",
       "Constituency_No             int64\n",
       "Year                        int64\n",
       "month                       int64\n",
       "Poll_No                     int64\n",
       "DelimID                     int64\n",
       "Position                    int64\n",
       "Candidate                  object\n",
       "Sex                        object\n",
       "Party                      object\n",
       "Votes                       int64\n",
       "Candidate_Type             object\n",
       "Valid_Votes                 int64\n",
       "Electors                    int64\n",
       "Constituency_Name          object\n",
       "Constituency_Type          object\n",
       "Sub_Region                 object\n",
       "N_Cand                      int64\n",
       "Turnout_Percentage        float64\n",
       "Vote_Share_Percentage     float64\n",
       "Deposit_Lost               object\n",
       "Margin                      int64\n",
       "Margin_Percentage         float64\n",
       "ENOP                      float64\n",
       "pid                        object\n",
       "Party_Type_TCPD           float64\n",
       "Party_ID                    int64\n",
       "last_poll                    bool\n",
       "Contested                 float64\n",
       "Last_Party                 object\n",
       "Last_Party_ID             float64\n",
       "Last_Constituency_Name     object\n",
       "Same_Constituency          object\n",
       "Same_Party                 object\n",
       "No_Terms                  float64\n",
       "Turncoat                   object\n",
       "Incumbent                    bool\n",
       "Recontest                    bool\n",
       "Age                       float64\n",
       "District_Name              object\n",
       "PC_Name                   float64\n",
       "PC_No                     float64\n",
       "CandID                    float64\n",
       "MyNeta_education           object\n",
       "TCPD_Prof_Main             object\n",
       "TCPD_Prof_Main_Desc        object\n",
       "TCPD_Prof_Second           object\n",
       "TCPD_Prof_Second_Desc      object\n",
       "dtype: object"
      ]
     },
     "execution_count": 27,
     "metadata": {},
     "output_type": "execute_result"
    }
   ],
   "source": [
    "df.dtypes"
   ]
  },
  {
   "cell_type": "markdown",
   "id": "f79feacc-11da-4a7f-938d-ecb53c16b332",
   "metadata": {},
   "source": [
    "# District and Constituency Level Analysis"
   ]
  },
  {
   "cell_type": "code",
   "execution_count": 35,
   "id": "68c889ce-2991-42c5-923d-d9df11953688",
   "metadata": {},
   "outputs": [],
   "source": [
    "st_con_vt = df_2007[['Constituency_Type','Constituency_No','Constituency_Name', 'Electors']]"
   ]
  },
  {
   "cell_type": "code",
   "execution_count": 36,
   "id": "125df9da-04e1-4a5e-8eff-bf04dc1b9326",
   "metadata": {},
   "outputs": [
    {
     "data": {
      "text/html": [
       "<div>\n",
       "<style scoped>\n",
       "    .dataframe tbody tr th:only-of-type {\n",
       "        vertical-align: middle;\n",
       "    }\n",
       "\n",
       "    .dataframe tbody tr th {\n",
       "        vertical-align: top;\n",
       "    }\n",
       "\n",
       "    .dataframe thead th {\n",
       "        text-align: right;\n",
       "    }\n",
       "</style>\n",
       "<table border=\"1\" class=\"dataframe\">\n",
       "  <thead>\n",
       "    <tr style=\"text-align: right;\">\n",
       "      <th></th>\n",
       "      <th>Constituency_Type</th>\n",
       "      <th>Constituency_No</th>\n",
       "      <th>Constituency_Name</th>\n",
       "      <th>Electors</th>\n",
       "    </tr>\n",
       "  </thead>\n",
       "  <tbody>\n",
       "    <tr>\n",
       "      <th>0</th>\n",
       "      <td>GEN</td>\n",
       "      <td>1</td>\n",
       "      <td>ABDASA</td>\n",
       "      <td>137105</td>\n",
       "    </tr>\n",
       "    <tr>\n",
       "      <th>1</th>\n",
       "      <td>GEN</td>\n",
       "      <td>1</td>\n",
       "      <td>ABDASA</td>\n",
       "      <td>137105</td>\n",
       "    </tr>\n",
       "    <tr>\n",
       "      <th>2</th>\n",
       "      <td>GEN</td>\n",
       "      <td>1</td>\n",
       "      <td>ABDASA</td>\n",
       "      <td>137105</td>\n",
       "    </tr>\n",
       "    <tr>\n",
       "      <th>3</th>\n",
       "      <td>GEN</td>\n",
       "      <td>1</td>\n",
       "      <td>ABDASA</td>\n",
       "      <td>137105</td>\n",
       "    </tr>\n",
       "    <tr>\n",
       "      <th>4</th>\n",
       "      <td>GEN</td>\n",
       "      <td>1</td>\n",
       "      <td>ABDASA</td>\n",
       "      <td>137105</td>\n",
       "    </tr>\n",
       "    <tr>\n",
       "      <th>...</th>\n",
       "      <td>...</td>\n",
       "      <td>...</td>\n",
       "      <td>...</td>\n",
       "      <td>...</td>\n",
       "    </tr>\n",
       "    <tr>\n",
       "      <th>1372</th>\n",
       "      <td>ST</td>\n",
       "      <td>182</td>\n",
       "      <td>UMBERGAON</td>\n",
       "      <td>280982</td>\n",
       "    </tr>\n",
       "    <tr>\n",
       "      <th>1373</th>\n",
       "      <td>ST</td>\n",
       "      <td>182</td>\n",
       "      <td>UMBERGAON</td>\n",
       "      <td>280982</td>\n",
       "    </tr>\n",
       "    <tr>\n",
       "      <th>1374</th>\n",
       "      <td>ST</td>\n",
       "      <td>182</td>\n",
       "      <td>UMBERGAON</td>\n",
       "      <td>280982</td>\n",
       "    </tr>\n",
       "    <tr>\n",
       "      <th>1375</th>\n",
       "      <td>ST</td>\n",
       "      <td>182</td>\n",
       "      <td>UMBERGAON</td>\n",
       "      <td>280982</td>\n",
       "    </tr>\n",
       "    <tr>\n",
       "      <th>1376</th>\n",
       "      <td>ST</td>\n",
       "      <td>182</td>\n",
       "      <td>UMBERGAON</td>\n",
       "      <td>280982</td>\n",
       "    </tr>\n",
       "  </tbody>\n",
       "</table>\n",
       "<p>1268 rows × 4 columns</p>\n",
       "</div>"
      ],
      "text/plain": [
       "     Constituency_Type  Constituency_No Constituency_Name  Electors\n",
       "0                  GEN                1            ABDASA    137105\n",
       "1                  GEN                1            ABDASA    137105\n",
       "2                  GEN                1            ABDASA    137105\n",
       "3                  GEN                1            ABDASA    137105\n",
       "4                  GEN                1            ABDASA    137105\n",
       "...                ...              ...               ...       ...\n",
       "1372                ST              182         UMBERGAON    280982\n",
       "1373                ST              182         UMBERGAON    280982\n",
       "1374                ST              182         UMBERGAON    280982\n",
       "1375                ST              182         UMBERGAON    280982\n",
       "1376                ST              182         UMBERGAON    280982\n",
       "\n",
       "[1268 rows x 4 columns]"
      ]
     },
     "execution_count": 36,
     "metadata": {},
     "output_type": "execute_result"
    }
   ],
   "source": [
    "st_con_vt"
   ]
  },
  {
   "cell_type": "code",
   "execution_count": null,
   "id": "2b0933fc-4b44-4b22-8b73-8c11ac4eb788",
   "metadata": {},
   "outputs": [],
   "source": [
    "fig = px.sunburst(st_con_vt, path=['Constituency_Type', 'Constituency_No', 'Constituency_Name'],\n",
    "                  values='Electors', color='Electors')\n",
    "fig.show()"
   ]
  },
  {
   "cell_type": "code",
   "execution_count": null,
   "id": "215418c5-7b67-4576-8fbb-c04e8ee0cc23",
   "metadata": {},
   "outputs": [],
   "source": []
  }
 ],
 "metadata": {
  "kernelspec": {
   "display_name": "Python 3 (ipykernel)",
   "language": "python",
   "name": "python3"
  },
  "language_info": {
   "codemirror_mode": {
    "name": "ipython",
    "version": 3
   },
   "file_extension": ".py",
   "mimetype": "text/x-python",
   "name": "python",
   "nbconvert_exporter": "python",
   "pygments_lexer": "ipython3",
   "version": "3.10.4"
  }
 },
 "nbformat": 4,
 "nbformat_minor": 5
}
